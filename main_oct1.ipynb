{
 "cells": [
  {
   "cell_type": "code",
   "execution_count": 1,
   "id": "fe3135c6",
   "metadata": {},
   "outputs": [],
   "source": [
    "import nibabel as nib\n",
    "import numpy as np\n",
    "from os.path import join\n",
    "import math\n",
    "import matplotlib.pyplot as plt\n",
    "from scipy.stats import ttest_1samp\n",
    "from statsmodels.stats.multitest import multipletests\n",
    "from nilearn import plotting\n",
    "from nilearn.image import resample_to_img\n",
    "from scipy import ndimage\n",
    "from scipy.spatial.distance import cdist\n",
    "from scipy.sparse import csgraph\n",
    "import cvxpy as cp\n",
    "from sklearn.model_selection import KFold\n",
    "from itertools import product\n",
    "import scipy.io as sio\n",
    "import h5py\n",
    "from sklearn.decomposition import PCA\n",
    "import scipy.sparse as sp"
   ]
  },
  {
   "cell_type": "markdown",
   "id": "116b8b86",
   "metadata": {},
   "source": [
    "Loading Datasets and Masks"
   ]
  },
  {
   "cell_type": "code",
   "execution_count": 2,
   "id": "ece6454b",
   "metadata": {},
   "outputs": [
    {
     "name": "stdout",
     "output_type": "stream",
     "text": [
      "(180, 256, 170)\n"
     ]
    }
   ],
   "source": [
    "ses = 1\n",
    "sub = '04'\n",
    "run = 2\n",
    "\n",
    "base_path = '/mnt/TeamShare/Data_Masterfile/H20-00572_All-Dressed/PRECISIONSTIM_PD_Data_Results/fMRI_preprocessed_data/Rev_pipeline/derivatives'\n",
    "anat_img = nib.load(f'/mnt/TeamShare/Data_Masterfile/H20-00572_All-Dressed/PRECISIONSTIM_PD_Data_Results/fMRI_preprocessed_data/Rev_pipeline/derivatives/sub-pd0{sub}/ses-{ses}/anat/sub-pd0{sub}_ses-{ses}_T1w_brain.nii.gz')\n",
    "\n",
    "data_name = f'sub-pd0{sub}_ses-{ses}_run-{run}_task-mv_bold_corrected_smoothed_reg.nii.gz'\n",
    "BOLD_path_org = join(base_path, f'sub-pd0{sub}', f'ses-{ses}', 'func', data_name)\n",
    "bold_img = nib.load(BOLD_path_org)\n",
    "bold_data = bold_img.get_fdata()\n",
    "bold_data = bold_data.astype(np.float16)\n",
    "\n",
    "mask_path = f'/mnt/TeamShare/Data_Masterfile/H20-00572_All-Dressed/PRECISIONSTIM_PD_Data_Results/fMRI_preprocessed_data/Rev_pipeline/derivatives/sub-pd0{sub}/ses-{ses}/anat/sub-pd0{sub}_ses-{ses}_T1w_brain_mask.nii.gz'\n",
    "back_mask = nib.load(mask_path)\n",
    "back_mask = back_mask.get_fdata()\n",
    "back_mask = back_mask.astype(np.float16)\n",
    "\n",
    "mask_path = f'/mnt/TeamShare/Data_Masterfile/H20-00572_All-Dressed/PRECISIONSTIM_PD_Data_Results/fMRI_preprocessed_data/Rev_pipeline/derivatives/sub-pd0{sub}/ses-{ses}/anat/sub-pd0{sub}_ses-{ses}_T1w_brain_pve_0.nii.gz'\n",
    "csf_mask = nib.load(mask_path)\n",
    "csf_mask = csf_mask.get_fdata()\n",
    "csf_mask = csf_mask.astype(np.float16)\n",
    "\n",
    "mask_path = f'/mnt/TeamShare/Data_Masterfile/H20-00572_All-Dressed/PRECISIONSTIM_PD_Data_Results/fMRI_preprocessed_data/Rev_pipeline/derivatives/sub-pd0{sub}/ses-{ses}/anat/sub-pd0{sub}_ses-{ses}_T1w_brain_pve_1.nii.gz'\n",
    "white_mask = nib.load(mask_path)\n",
    "white_mask = white_mask.get_fdata()\n",
    "white_mask = white_mask.astype(np.float16)\n",
    "\n",
    "print(anat_img.shape)\n",
    "# print(bold_data.shape)\n",
    "# print(back_mask.shape)\n",
    "# print(csf_mask.shape)"
   ]
  },
  {
   "cell_type": "markdown",
   "id": "53f6a96e",
   "metadata": {},
   "source": [
    "Apply Masks on Bold Dataset"
   ]
  },
  {
   "cell_type": "code",
   "execution_count": 3,
   "id": "eec92f52",
   "metadata": {},
   "outputs": [
    {
     "name": "stdout",
     "output_type": "stream",
     "text": [
      "number of selected voxels after masking: 7.91%\n",
      "bold_data masked shape: (619385, 850)\n"
     ]
    }
   ],
   "source": [
    "back_mask_data = back_mask > 0\n",
    "csf_mask_data = csf_mask > 0\n",
    "white_mask_data = white_mask > 0.5\n",
    "mask = np.logical_and(back_mask_data, ~csf_mask_data)\n",
    "mask &= ~white_mask_data\n",
    "nonzero_mask = np.where(mask)\n",
    "masked_bold = bold_data[nonzero_mask]\n",
    "\n",
    "print(f\"number of selected voxels after masking: {masked_bold.shape[0]/math.prod(bold_data.shape[:3])*100:.2f}%\")\n",
    "print('bold_data masked shape:', masked_bold.shape)"
   ]
  },
  {
   "cell_type": "markdown",
   "id": "d6edd32c",
   "metadata": {},
   "source": [
    "Load Beta values, Mask it, Find threshold to determine and delete outlier voxels"
   ]
  },
  {
   "cell_type": "code",
   "execution_count": 4,
   "id": "3c3f0808",
   "metadata": {},
   "outputs": [
    {
     "name": "stdout",
     "output_type": "stream",
     "text": [
      "Beta Range:[ -3021.6572 2139.0798 ], Mean:  0.011265066\n",
      "low_thr: -4.74, high_thr: 4.64\n",
      "percentage of voxels with extreme beta values: 9.41%\n",
      "clean_beta shape: (561079, 90)\n"
     ]
    }
   ],
   "source": [
    "glm_dict = np.load(f'TYPED_FITHRF_GLMDENOISE_RR.npy', allow_pickle=True).item()\n",
    "beta_glm = glm_dict['betasmd']\n",
    "beta_run1, beta_run2 = beta_glm[:,0,0,:90], beta_glm[:,0,0,90:]\n",
    "\n",
    "mask = np.logical_and(back_mask_data, ~csf_mask_data)\n",
    "nonzero_mask = np.where(mask)\n",
    "white_mask_flat = white_mask_data[nonzero_mask]\n",
    "if run == 1:\n",
    "    beta = beta_run1[~white_mask_flat]\n",
    "else:\n",
    "    beta = beta_run2[~white_mask_flat]\n",
    "print(\"Beta Range:[\", np.nanmin(beta), np.nanmax(beta), \"], Mean: \", np.nanmean(beta))\n",
    "\n",
    "lower_thr, upper_thr = np.nanpercentile(beta, [1, 99])\n",
    "print(f'low_thr: {lower_thr:.2f}, high_thr: {upper_thr:.2f}') #low_thr: -4.64, high_thr: 4.60\n",
    "beta_extreme_mask = np.logical_or(beta < lower_thr, beta > upper_thr)\n",
    "voxels_with_extreme_beta = np.any(beta_extreme_mask, axis=1)\n",
    "\n",
    "print(f\"percentage of voxels with extreme beta values: {np.sum(voxels_with_extreme_beta)/beta.shape[0]*100:.2f}%\")\n",
    "\n",
    "mask = np.logical_and(back_mask_data, ~csf_mask_data)\n",
    "mask &= ~white_mask_data\n",
    "nonzero_mask = np.where(mask)\n",
    "\n",
    "clean_beta = beta[~voxels_with_extreme_beta]\n",
    "print('clean_beta shape:', clean_beta.shape)"
   ]
  },
  {
   "cell_type": "markdown",
   "id": "4a8bfa28",
   "metadata": {},
   "source": [
    "Plot outlier voxel on the brain"
   ]
  },
  {
   "cell_type": "code",
   "execution_count": 5,
   "id": "7fed9cfe",
   "metadata": {},
   "outputs": [
    {
     "name": "stderr",
     "output_type": "stream",
     "text": [
      "/tmp/ipykernel_1972112/2888343218.py:4: FutureWarning: 'force_resample' will be set to 'True' by default in Nilearn 0.13.0.\n",
      "Use 'force_resample=True' to suppress this warning.\n",
      "  extreme_img = resample_to_img(extreme_img, anat_img, interpolation='nearest')\n",
      "/tmp/ipykernel_1972112/2888343218.py:4: FutureWarning: From release 0.13.0 onwards, this function will, by default, copy the header of the input image to the output. Currently, the header is reset to the default Nifti1Header. To suppress this warning and use the new behavior, set `copy_header=True`.\n",
      "  extreme_img = resample_to_img(extreme_img, anat_img, interpolation='nearest')\n",
      "/home/zkavian/Thesis_code_Glm_Opt/.venv/lib/python3.10/site-packages/numpy/_core/fromnumeric.py:868: UserWarning: Warning: 'partition' will ignore the 'mask' of the MaskedArray.\n",
      "  a.partition(kth, axis=axis, kind=kind, order=order)\n",
      "/tmp/ipykernel_1972112/2888343218.py:5: UserWarning: Resampling binary images with continuous or linear interpolation. This might lead to unexpected results. You might consider using nearest interpolation instead.\n",
      "  view = plotting.view_img(\n"
     ]
    }
   ],
   "source": [
    "extreme_volume = np.zeros(bold_img.shape[:3], dtype=np.float32)\n",
    "extreme_volume[nonzero_mask] = voxels_with_extreme_beta.astype(np.float32)\n",
    "extreme_img = nib.Nifti1Image(extreme_volume, bold_img.affine, bold_img.header)\n",
    "extreme_img = resample_to_img(extreme_img, anat_img, interpolation='nearest')\n",
    "view = plotting.view_img(\n",
    "    extreme_img,\n",
    "    bg_img=anat_img,\n",
    "    cmap='autumn',\n",
    "    symmetric_cmap=False,\n",
    "    threshold=0.5,\n",
    "    vmax=1,\n",
    "    opacity=0.9,\n",
    "    title='Voxels with Extreme Betas'\n",
    ")\n",
    "view\n",
    "view.save_as_html(file_name=f'extreme_beta_voxels_sub{sub}_ses{ses}_run{run}.html')"
   ]
  },
  {
   "cell_type": "markdown",
   "id": "df131705",
   "metadata": {},
   "source": [
    "Histogram of all Beta values & outlier beta"
   ]
  },
  {
   "cell_type": "code",
   "execution_count": 6,
   "id": "a786dd3e",
   "metadata": {},
   "outputs": [
    {
     "name": "stdout",
     "output_type": "stream",
     "text": [
      "(1114872,)\n"
     ]
    },
    {
     "name": "stderr",
     "output_type": "stream",
     "text": [
      "/tmp/ipykernel_1972112/638068488.py:14: UserWarning: No artists with labels found to put in legend.  Note that artists whose label start with an underscore are ignored when legend() is called with no argument.\n",
      "  plt.legend()\n"
     ]
    },
    {
     "data": {
      "text/plain": [
       "Text(0.5, 1.0, 'Histogram of outlier Beta values')"
      ]
     },
     "execution_count": 6,
     "metadata": {},
     "output_type": "execute_result"
    },
    {
     "data": {
      "image/png": "[encoded data removed]",
      "text/plain": [
       "<Figure size 640x480 with 1 Axes>"
      ]
     },
     "metadata": {},
     "output_type": "display_data"
    }
   ],
   "source": [
    "lower_thr, upper_thr = np.nanpercentile(beta, [1, 99])\n",
    "m = (beta < lower_thr) | (beta > upper_thr)\n",
    "outlier_vals = beta[m].ravel()\n",
    "print(outlier_vals.shape)\n",
    "\n",
    "neg_edges = np.linspace(np.nanmin(outlier_vals), lower_thr, 50, endpoint=True)\n",
    "pos_edges = np.linspace(upper_thr, np.nanmax(outlier_vals), 50, endpoint=True)\n",
    "edges = np.r_[neg_edges, pos_edges]  # note: there is a gap between lower_thr and upper_thr\n",
    "\n",
    "plt.figure()\n",
    "plt.hist(outlier_vals, bins=edges, density=True, alpha=0.6)\n",
    "# plt.axvspan(lower_thr, upper_thr, alpha=0.15, label='excluded band')\n",
    "plt.yscale('log')\n",
    "plt.legend()\n",
    "plt.title('Histogram of outlier Beta values')"
   ]
  },
  {
   "cell_type": "code",
   "execution_count": 7,
   "id": "e92d1959",
   "metadata": {},
   "outputs": [
    {
     "name": "stderr",
     "output_type": "stream",
     "text": [
      "/tmp/ipykernel_1972112/469673788.py:5: UserWarning: No artists with labels found to put in legend.  Note that artists whose label start with an underscore are ignored when legend() is called with no argument.\n",
      "  plt.legend()\n"
     ]
    },
    {
     "data": {
      "text/plain": [
       "Text(0.5, 1.0, 'Histogram of all Beta values')"
      ]
     },
     "execution_count": 7,
     "metadata": {},
     "output_type": "execute_result"
    },
    {
     "data": {
      "image/png": "[encoded data removed]",
      "text/plain": [
       "<Figure size 640x480 with 1 Axes>"
      ]
     },
     "metadata": {},
     "output_type": "display_data"
    }
   ],
   "source": [
    "plt.figure()\n",
    "plt.hist(beta.ravel(), density=True, alpha=0.6)\n",
    "# plt.axvspan(lower_thr, upper_thr, alpha=0.15, label='excluded band')\n",
    "plt.yscale('log')\n",
    "plt.legend()\n",
    "plt.title('Histogram of all Beta values')"
   ]
  },
  {
   "cell_type": "code",
   "execution_count": 7,
   "id": "ff39dfe2",
   "metadata": {},
   "outputs": [],
   "source": [
    "# outlier_beta = beta[voxels_with_extreme_beta]\n",
    "# beta_flat = outlier_beta.flatten()\n",
    "# # finite_beta = beta_flat[np.isfinite(beta_flat)]\n",
    "# finite_beta = beta[voxels_with_extreme_beta][\n",
    "#     beta_extreme_mask[voxels_with_extreme_beta]\n",
    "# ].ravel()\n",
    "\n",
    "# n_bins = 30\n",
    "# gamma = 5  # increase to allocate wider bins where beta is dense\n",
    "# base = np.linspace(0.0, 1.0, n_bins + 1)\n",
    "# tail_weighted = np.where(base <= 0.5, 0.5 * (2 * base) ** gamma, 1.0 - 0.5 * (2 * (1.0 - base)) ** gamma,)\n",
    "\n",
    "# bin_edges = np.unique(np.quantile(finite_beta, tail_weighted))\n",
    "\n",
    "# counts, edges = np.histogram(finite_beta, bins=bin_edges)\n",
    "# widths = np.diff(edges)\n",
    "# density = counts / widths\n",
    "# positive_density = np.where(density > 0, density, np.nextafter(0, 1))\n",
    "\n",
    "# fig, ax = plt.subplots(figsize=(10, 5))\n",
    "# ax.bar(edges[:-1], positive_density, width=widths, align='edge', color='lightblue', edgecolor='blue', alpha=0.5)\n",
    "# ax.set_xlabel('Beta')\n",
    "# ax.set_ylabel('Count per beta unit')\n",
    "# ax.set_title('outlier Beta Histogram')\n",
    "# ax.set_yscale('log')\n",
    "# ax.set_ylim(positive_density.min() * 0.9, positive_density.max() * 1.1)\n",
    "# fig.tight_layout()\n",
    "# plt.show()"
   ]
  },
  {
   "cell_type": "markdown",
   "id": "ac1a1c54",
   "metadata": {},
   "source": [
    "Apply t-test and FDR, detect & remove non-active voxels"
   ]
  },
  {
   "cell_type": "code",
   "execution_count": 8,
   "id": "a9fc8c29",
   "metadata": {},
   "outputs": [
    {
     "name": "stderr",
     "output_type": "stream",
     "text": [
      "/home/zkavian/Thesis_code_Glm_Opt/.venv/lib/python3.10/site-packages/scipy/stats/_axis_nan_policy.py:634: RuntimeWarning: Precision loss occurred in moment calculation due to catastrophic cancellation. This occurs when the data are nearly identical. Results may be unreliable.\n",
      "  return result_to_tuple(hypotest_fun_out(*samples, **kwds), n_out)\n",
      "/tmp/ipykernel_1972112/2475598475.py:2: SmallSampleWarning: After omitting NaNs, one or more axis-slices of one or more sample arguments is too small; corresponding elements of returned arrays will be NaN. See documentation for sample size requirements.\n",
      "  tvals, pvals = ttest_1samp(clean_beta, popmean=0, axis=1, nan_policy='omit')\n"
     ]
    },
    {
     "name": "stdout",
     "output_type": "stream",
     "text": [
      "50.29% of voxels are active at FDR q<0.05\n"
     ]
    },
    {
     "data": {
      "text/plain": [
       "(282162, 90)"
      ]
     },
     "execution_count": 8,
     "metadata": {},
     "output_type": "execute_result"
    }
   ],
   "source": [
    "# one sample t-test against 0\n",
    "tvals, pvals = ttest_1samp(clean_beta, popmean=0, axis=1, nan_policy='omit')\n",
    "\n",
    "# FDR correction\n",
    "tested = np.isfinite(pvals)\n",
    "alpha=0.05\n",
    "rej, q, _, _ = multipletests(pvals[tested], alpha=alpha, method='fdr_bh')\n",
    "\n",
    "n_voxel = clean_beta.shape[0]\n",
    "qvals  = np.full(n_voxel, np.nan)\n",
    "reject = np.zeros(n_voxel, dtype=bool)\n",
    "reject[tested] = rej\n",
    "qvals[tested]  = q\n",
    "\n",
    "# reject non-active voxels\n",
    "clean_active_beta = clean_beta[reject]\n",
    "print(f\"{clean_active_beta.shape[0]/clean_beta.shape[0]*100:.2f}% of voxels are active at FDR q<{alpha}\")\n",
    "clean_active_beta.shape"
   ]
  },
  {
   "cell_type": "markdown",
   "id": "c072b8d3",
   "metadata": {},
   "source": [
    "Create 3-D beta dataset to use it for filtering"
   ]
  },
  {
   "cell_type": "code",
   "execution_count": 9,
   "id": "e42155d8",
   "metadata": {},
   "outputs": [],
   "source": [
    "# transfer back beta value on the volume\n",
    "clean_mask = ~np.asarray(voxels_with_extreme_beta, dtype=bool)\n",
    "clean_indices = np.nonzero(clean_mask)[0]\n",
    "active_indices = clean_indices[np.asarray(reject, dtype=bool)]\n",
    "\n",
    "spatial_shape = bold_img.shape[:3]\n",
    "n_trials = clean_active_beta.shape[1]\n",
    "beta_volume = np.full(spatial_shape + (n_trials,), np.nan, dtype=np.float32)\n",
    "\n",
    "coords = tuple(axis[active_indices] for axis in nonzero_mask)\n",
    "beta_volume[coords[0], coords[1], coords[2], :] = clean_active_beta.astype(np.float32)"
   ]
  },
  {
   "cell_type": "markdown",
   "id": "eec597c5",
   "metadata": {},
   "source": [
    "Map mean beta for active voxels back into anatomical space"
   ]
  },
  {
   "cell_type": "code",
   "execution_count": 11,
   "id": "0b0d907a",
   "metadata": {},
   "outputs": [
    {
     "name": "stderr",
     "output_type": "stream",
     "text": [
      "/tmp/ipykernel_1972112/272021680.py:14: FutureWarning: 'force_resample' will be set to 'True' by default in Nilearn 0.13.0.\n",
      "Use 'force_resample=True' to suppress this warning.\n",
      "  mean_beta_img = resample_to_img(mean_beta_img, anat_img, interpolation='linear')\n",
      "/tmp/ipykernel_1972112/272021680.py:14: FutureWarning: From release 0.13.0 onwards, this function will, by default, copy the header of the input image to the output. Currently, the header is reset to the default Nifti1Header. To suppress this warning and use the new behavior, set `copy_header=True`.\n",
      "  mean_beta_img = resample_to_img(mean_beta_img, anat_img, interpolation='linear')\n",
      "/tmp/ipykernel_1972112/272021680.py:23: UserWarning: Non-finite values detected. These values will be replaced with zeros.\n",
      "  active_beta_view = plotting.view_img(\n",
      "/home/zkavian/Thesis_code_Glm_Opt/.venv/lib/python3.10/site-packages/numpy/_core/fromnumeric.py:868: UserWarning: Warning: 'partition' will ignore the 'mask' of the MaskedArray.\n",
      "  a.partition(kth, axis=axis, kind=kind, order=order)\n"
     ]
    }
   ],
   "source": [
    "\n",
    "clean_mask = ~np.asarray(voxels_with_extreme_beta, dtype=bool)\n",
    "clean_indices = np.flatnonzero(clean_mask)\n",
    "active_mask = np.asarray(reject, dtype=bool)\n",
    "active_indices = clean_indices[active_mask]\n",
    "\n",
    "\n",
    "active_voxel_coords = tuple(idx[active_indices] for idx in nonzero_mask)\n",
    "\n",
    "mean_active_beta = np.nanmean(clean_active_beta, axis=1).astype(np.float32)\n",
    "mean_beta_volume = np.full(bold_img.shape[:3], np.nan, dtype=np.float32)\n",
    "mean_beta_volume[active_voxel_coords] = mean_active_beta\n",
    "\n",
    "mean_beta_img = nib.Nifti1Image(mean_beta_volume, bold_img.affine, bold_img.header)\n",
    "mean_beta_img = resample_to_img(mean_beta_img, anat_img, interpolation='linear')\n",
    "\n",
    "finite_vals = np.isfinite(mean_active_beta)\n",
    "if np.any(finite_vals):\n",
    "    vmax = np.nanpercentile(mean_active_beta[finite_vals], 99)\n",
    "    vmin = np.nanpercentile(mean_active_beta[finite_vals], 1)\n",
    "else:\n",
    "    vmax = vmin = 0.0\n",
    "\n",
    "active_beta_view = plotting.view_img(\n",
    "    mean_beta_img,\n",
    "    bg_img=anat_img,\n",
    "    cmap='seismic',\n",
    "    symmetric_cmap=False,\n",
    "    threshold=1e-6,\n",
    "    vmax=vmax,\n",
    "    vmin=vmin,\n",
    "    colorbar=True,\n",
    "    title='Mean beta for active voxels'\n",
    ")\n",
    "active_beta_view\n",
    "active_beta_view.save_as_html(file_name=f'active_beta_map_sub{sub}_ses{ses}_run{run}.html')"
   ]
  },
  {
   "cell_type": "markdown",
   "id": "78578f26",
   "metadata": {},
   "source": [
    "Apply Hampel Filter to have smooth beta value (remove voxels that have 0-2 neighbour, smooth beta for voxles with more than 2 neighbour)"
   ]
  },
  {
   "cell_type": "code",
   "execution_count": null,
   "id": "8fe5305c",
   "metadata": {},
   "outputs": [],
   "source": [
    "def hampel_filter_image(image, window_size, threshold_factor, return_stats=False):\n",
    "    if window_size % 2 == 0:\n",
    "        raise ValueError(\"window_size must be odd\")\n",
    "\n",
    "    filtered = image.astype(float).copy()\n",
    "    footprint = np.ones((window_size,) * 3, dtype=bool)\n",
    "\n",
    "    insufficient_counts = []\n",
    "    corrected_indices_parts = []\n",
    "\n",
    "    for t in range(image.shape[3]):\n",
    "        vol = image[..., t]\n",
    "        med = ndimage.generic_filter(vol, np.nanmedian, footprint=footprint, mode='constant', cval=np.nan)\n",
    "        mad = ndimage.generic_filter(np.abs(vol - med), np.nanmedian, footprint=footprint, mode='constant', cval=np.nan)\n",
    "        counts = ndimage.generic_filter(np.isfinite(vol).astype(np.float32), np.sum, footprint=footprint, mode='constant', cval=0)\n",
    "\n",
    "        scaled_mad = 1.4826 * mad\n",
    "        insufficient = counts < 3\n",
    "        insufficient_counts.append(int(np.count_nonzero(insufficient)))\n",
    "\n",
    "        filtered[..., t][insufficient] = np.nan\n",
    "\n",
    "        valid = np.isfinite(vol)\n",
    "        enough_data = (~insufficient) & valid\n",
    "        outliers = enough_data & (np.abs(vol - med) > threshold_factor * scaled_mad)\n",
    "\n",
    "        if np.any(outliers):\n",
    "            coords = np.argwhere(outliers)\n",
    "            t_column = np.full((coords.shape[0], 1), t, dtype=int)\n",
    "            corrected_indices_parts.append(np.hstack((coords, t_column)))\n",
    "\n",
    "        filtered[..., t][outliers] = med[outliers]\n",
    "\n",
    "    if return_stats:\n",
    "        insufficient_counts_arr = np.array(insufficient_counts, dtype=int)\n",
    "        if corrected_indices_parts:\n",
    "            corrected_indices = np.vstack(corrected_indices_parts)\n",
    "        else:\n",
    "            corrected_indices = np.empty((0, 4), dtype=int)\n",
    "\n",
    "        stats = {\n",
    "            'insufficient_counts': insufficient_counts_arr,\n",
    "            'insufficient_total': int(insufficient_counts_arr.sum()),\n",
    "            'corrected_indices': corrected_indices,\n",
    "            'corrected_total': int(corrected_indices.shape[0]),\n",
    "        }\n",
    "        return filtered, stats\n",
    "\n",
    "    return filtered\n",
    "\n",
    "\n",
    "beta_volume_filter, hampel_stats = hampel_filter_image(beta_volume, window_size=5, threshold_factor=3, return_stats=True)\n",
    "print('Insufficient neighbours per frame:', hampel_stats['insufficient_counts'], flush=True)\n",
    "print('Total voxels with <3 neighbours:', hampel_stats['insufficient_total'], flush=True)\n",
    "print('Total corrected voxels:', hampel_stats['corrected_total'], flush=True)\n",
    "if hampel_stats['corrected_total'] > 0:\n",
    "    preview = hampel_stats['corrected_indices'][:5]\n",
    "    print('Sample corrected voxel indices (x, y, z, t):', preview, flush=True)\n",
    "\n",
    "# save cleaned beta volume\n",
    "np.save(f'cleaned_beta_volume_sub{sub}_ses{ses}_run{run}.npy', beta_volume_filter)\n",
    "\n",
    "\n",
    "# convert cleaned beta volume to a 2D array for optimization\n",
    "beta_volume_filter = beta_volume_filter.astype(np.float16)\n",
    "spatial_shape = beta_volume_filter.shape[:-1]\n",
    "voxels_with_any_nan = np.zeros(spatial_shape, dtype=bool)\n",
    "voxels_with_all_nan = np.ones(spatial_shape, dtype=bool)\n",
    "\n",
    "# Sweep the time dimension once\n",
    "for t in range(beta_volume_filter.shape[-1]):\n",
    "    frame_nan = np.isnan(beta_volume_filter[..., t])\n",
    "    voxels_with_any_nan |= frame_nan\n",
    "    voxels_with_all_nan &= frame_nan\n",
    "\n",
    "print(np.sum(voxels_with_any_nan), np.sum(voxels_with_all_nan), flush=True)\n",
    "\n",
    "n_trial = beta_volume_filter.shape[-1]\n",
    "beta_volume_filter_2d = beta_volume_filter.reshape(-1, n_trial)\n",
    "print(beta_volume_filter_2d.shape, flush=True)\n",
    "mask_2d = voxels_with_all_nan.reshape(-1)\n",
    "beta_valume_clean_2d = beta_volume_filter_2d[~mask_2d]\n",
    "print(beta_valume_clean_2d.shape, flush=True)\n",
    "np.save(f'beta_valume_clean_2d.npy', beta_valume_clean_2d)\n"
   ]
  },
  {
   "cell_type": "code",
   "execution_count": null,
   "id": "36ae88c1",
   "metadata": {},
   "outputs": [],
   "source": [
    "del anat_img, back_mask, csf_mask, white_mask, mask, nonzero_mask, masked_bold\n",
    "del beta_run1, beta_run2, beta, clean_beta, voxels_with_all_nan, voxels_with_any_nan\n",
    "del beta_volume_filter_2d, beta_valume_clean_2d"
   ]
  },
  {
   "cell_type": "markdown",
   "id": "a15460be",
   "metadata": {},
   "source": [
    "Load the clean beta, which is ready for optimization problem"
   ]
  },
  {
   "cell_type": "code",
   "execution_count": null,
   "id": "f3ab95ce",
   "metadata": {},
   "outputs": [],
   "source": [
    "beta_valume_clean_2d = np.load(f'beta_valume_clean_2d.npy')\n",
    "beta_valume_clean_2d.shape"
   ]
  },
  {
   "cell_type": "markdown",
   "id": "6652db5f",
   "metadata": {},
   "source": [
    "Create Matrices for Optim problem"
   ]
  },
  {
   "cell_type": "code",
   "execution_count": null,
   "id": "af0f784b",
   "metadata": {},
   "outputs": [],
   "source": [
    "def calculate_matrices(\n",
    "    beta_valume_clean_2d,\n",
    "    bold_data,\n",
    "    mask_2d,\n",
    "    trial_indices=None,\n",
    "    trial_len=9,\n",
    "    num_components=600,\n",
    "    pca_components=None,\n",
    "    pca_mean=None):\n",
    "    print(\"begin\", flush=True)\n",
    "    print(type(mask_2d))\n",
    "    num_trials = beta_valume_clean_2d.shape[-1]\n",
    "    trial_idx = np.arange(num_trials) if trial_indices is None else np.unique(np.asarray(trial_indices, int).ravel())\n",
    "\n",
    "    # ----- reshape BOLD into trials -----\n",
    "    bold_data_reshape = bold_data.reshape(-1, bold_data.shape[-1])\n",
    "    print(bold_data.reshape(-1, bold_data.shape[-1]).shape[0], mask_2d.dtype, mask_2d.size)\n",
    "    bold_data_selected = bold_data_reshape[~mask_2d]         # keep voxels of interest\n",
    "    bold_data_selected_reshape = np.zeros((bold_data_selected.shape[0], num_trials, trial_len), dtype=np.float32)\n",
    "    start = 0\n",
    "    \n",
    "    for i in range(num_trials):\n",
    "        end = start + trial_len\n",
    "        if end > bold_data_selected.shape[1]:\n",
    "            raise ValueError(\"BOLD data does not contain enough timepoints for all trials\")\n",
    "        bold_data_selected_reshape[:, i, :] = bold_data_selected[:, start:end]\n",
    "        start += trial_len\n",
    "        if start == 270 or start == 560:   # your skips\n",
    "            start += 20\n",
    "    X = bold_data_selected_reshape[:, trial_idx, :]          # [Nvox, Ntrials, T]\n",
    "    print(\"BOLD reshaped before PCA\", X.shape, flush=True)\n",
    "\n",
    "    # ----- apply PCA -----\n",
    "    print(\"PCA...\", flush=True)\n",
    "    X_reshap = X.reshape(X.shape[0], -1).astype(np.float32)\n",
    "\n",
    "    if pca_components is None or pca_mean is None:\n",
    "        pca = PCA()\n",
    "        X_pca_full = pca.fit_transform(X_reshap.T).astype(np.float32)\n",
    "        components = pca.components_.astype(np.float32)\n",
    "        mean = pca.mean_.astype(np.float32)\n",
    "        n_components = min(num_components, components.shape[0])\n",
    "        components = components[:n_components]\n",
    "        X_pca = X_pca_full[:, :n_components]\n",
    "    else:\n",
    "        components = pca_components.astype(np.float32)\n",
    "        mean = pca_mean.astype(np.float32)\n",
    "        n_components = components.shape[0]\n",
    "        X_centered = X_reshap.T - mean\n",
    "        X_pca = (X_centered @ components.T).astype(np.float32)\n",
    "\n",
    "    beta_reduced = (beta_valume_clean_2d.T - mean) @ components.T\n",
    "    beta_reduced = beta_reduced.T\n",
    "\n",
    "\n",
    "    # ----- L_task (same idea as yours) -----\n",
    "    print(\"L_task...\", flush=True)\n",
    "    beta_selected = beta_reduced[:, trial_idx]\n",
    "    counts = np.count_nonzero(np.isfinite(beta_selected), axis=-1)\n",
    "    sums = np.nansum(beta_selected, axis=-1, dtype=np.float64)\n",
    "    mean_beta = np.zeros(beta_selected.shape[0], dtype=np.float32)\n",
    "    m = counts > 0\n",
    "    mean_beta[m] = (sums[m] / counts[m]).astype(np.float32)\n",
    "    L_task = np.zeros_like(mean_beta, dtype=np.float32)\n",
    "    v = np.abs(mean_beta) > 0\n",
    "    L_task[v] = (1.0 / np.abs(mean_beta[v])).astype(np.float32)\n",
    "\n",
    "\n",
    "    # ----- L_var: variance of trial differences, as sparse diagonal -----\n",
    "    print(\"L_var...\", flush=True)\n",
    "    X_pca = X_pca[:, :n_components].T\n",
    "    num_trials = len(trial_idx)\n",
    "    X = X_pca.reshape(X_pca.shape[0], num_trials, trial_len)\n",
    "    L_var = np.zeros((X.shape[0], X.shape[0]), dtype=np.float32)\n",
    "    for i in range(num_trials-1):\n",
    "        x1 = X[:, i, :]\n",
    "        x2 = X[:, i+1, :]\n",
    "        L_var += (x1-x2) @ (x1-x2).T\n",
    "    L_var /= (num_trials - 1)\n",
    "\n",
    "    selected_BOLD_flat = X.reshape(X.shape[0], -1).astype(np.float32)\n",
    "    return L_task.astype(np.float32), L_var, selected_BOLD_flat, components, mean\n",
    "\n",
    "# %%\n",
    "def objective_func(w, L_task, L_var, alpha_var):\n",
    "    print(\"Calculating objective...\", flush=True)\n",
    "    quad = (w.T @ np.diag(L_task) @ w + alpha_var * (w.T @ L_var @ w))\n",
    "    return quad\n",
    "\n",
    "# %%\n",
    "def optimize_voxel_weights(L_task, L_var, alpha_var):\n",
    "    print(\"Optimizing voxel weights...\", flush=True)\n",
    "    L_total = np.diag(L_task) + alpha_var * L_var\n",
    "    n = L_total.shape[0]\n",
    "    L_total = np.nan_to_num(L_total)\n",
    "    L_total = 0.5*(L_total + L_total.T) + 1e-6*np.eye(n)\n",
    "    eigvals, eigvecs = np.linalg.eigh(L_total)\n",
    "    eigvals[eigvals < 0] = 0.0  # clip the numerical negatives\n",
    "    L_total_psd = (eigvecs @ np.diag(eigvals) @ eigvecs.T).astype(np.float64)\n",
    "\n",
    "    w = cp.Variable(n, nonneg=True)\n",
    "    constraints = [cp.sum(w) == 1]\n",
    "\n",
    "    objective = cp.Minimize(cp.quad_form(w, cp.psd_wrap(L_total_psd)))\n",
    "    problem = cp.Problem(objective, constraints)\n",
    "    problem.solve(solver=cp.OSQP, verbose=True)\n",
    "    return w.value\n",
    "\n",
    "\n",
    "# %%\n",
    "def calculate_weight(param_grid, beta_valume_clean_2d, bold_data, mask_2d, trial_len):\n",
    "    kf = KFold(n_splits=5, shuffle=True, random_state=0)\n",
    "    best_score = np.inf\n",
    "    best_alpha_var = None\n",
    "    num_trials = beta_valume_clean_2d.shape[-1]\n",
    "\n",
    "    for a_var in param_grid[\"alpha_var\"]:\n",
    "        fold_scores = []\n",
    "        print(f\"a_var: {a_var}\", flush=True)\n",
    "        count = 1\n",
    "\n",
    "        for train_idx, val_idx in kf.split(np.arange(num_trials)):\n",
    "            print(f\"k-fold num: {count}\", flush=True)\n",
    "            print(type(mask_2d), flush=True)\n",
    "            L_task_train, L_var_train, _, pca_components, pca_mean = calculate_matrices(\n",
    "                beta_valume_clean_2d,\n",
    "                bold_data,\n",
    "                mask_2d,\n",
    "                train_idx,\n",
    "                trial_len,\n",
    "            )\n",
    "            w = optimize_voxel_weights(L_task_train, L_var_train, alpha_var=a_var)\n",
    "\n",
    "            L_task_val, L_var_val, _, _, _ = calculate_matrices(\n",
    "                beta_valume_clean_2d,\n",
    "                bold_data,\n",
    "                mask_2d,\n",
    "                val_idx,\n",
    "                trial_len,\n",
    "                pca_components=pca_components,\n",
    "                pca_mean=pca_mean,\n",
    "            )\n",
    "\n",
    "            fold_scores.append(objective_func(w, L_task_val, L_var_val, a_var))\n",
    "            print(f\"fold_scores: {fold_scores}\", flush=True)\n",
    "            count += 1\n",
    "\n",
    "        mean_score = np.mean(fold_scores)\n",
    "        print(mean_score)\n",
    "        if mean_score < best_score:\n",
    "            best_score = mean_score\n",
    "            best_alpha_var = a_var\n",
    "\n",
    "    print(\"Best alpha_var:\", best_alpha_var, \"with CV loss:\", best_score, flush=True)\n",
    "    return best_alpha_var, best_score"
   ]
  },
  {
   "cell_type": "code",
   "execution_count": null,
   "id": "7f390527",
   "metadata": {},
   "outputs": [],
   "source": [
    "param_grid = {\"alpha_var\":   [0.1, 0.5, 0.9, 1.0, 2]}\n",
    "\n",
    "trial_len = 9\n",
    "best_alpha_var, best_score = calculate_weight(param_grid, beta_valume_clean_2d, bold_data, mask_2d, trial_len)\n",
    "L_task, L_var, selected_BOLD_flat, pca_components, pca_mean = calculate_matrices(beta_valume_clean_2d, bold_data, mask_2d, None, trial_len)\n",
    "print(f\"best alpha_var: {best_alpha_var}, best_score: {best_score}\", flush=True)\n",
    "weights = optimize_voxel_weights(L_task, L_var, alpha_var=best_alpha_var)\n",
    "voxel_space_weights = pca_components.T @ weights\n",
    "y = selected_BOLD_flat.T @ weights\n",
    "\n",
    "np.save('weights.npy', weights)\n",
    "np.save('voxel_space_weights.npy', voxel_space_weights)\n",
    "np.save('pca_components.npy', pca_components)\n",
    "np.save('pca_mean.npy', pca_mean)\n",
    "np.save('y.npy', y)\n",
    "print(\"Finished!\", flush=True)\n",
    "\n",
    "# %%\n"
   ]
  },
  {
   "cell_type": "code",
   "execution_count": null,
   "id": "8ee10337",
   "metadata": {},
   "outputs": [],
   "source": []
  }
 ],
 "metadata": {
  "kernelspec": {
   "display_name": ".venv",
   "language": "python",
   "name": "python3"
  },
  "language_info": {
   "codemirror_mode": {
    "name": "ipython",
    "version": 3
   },
   "file_extension": ".py",
   "mimetype": "text/x-python",
   "name": "python",
   "nbconvert_exporter": "python",
   "pygments_lexer": "ipython3",
   "version": "3.10.12"
  }
 },
 "nbformat": 4,
 "nbformat_minor": 5
}
