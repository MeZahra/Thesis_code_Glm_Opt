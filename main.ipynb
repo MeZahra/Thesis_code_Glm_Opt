{
 "cells": [
  {
   "cell_type": "code",
   "execution_count": 1,
   "metadata": {},
   "outputs": [],
   "source": [
    "import nibabel as nib\n",
    "import numpy as np\n",
    "from os.path import join\n",
    "import math\n",
    "import matplotlib.pyplot as plt\n",
    "from scipy.stats import ttest_1samp\n",
    "from statsmodels.stats.multitest import multipletests\n",
    "from nilearn import plotting\n",
    "from nilearn.image import resample_to_img\n",
    "import cvxpy as cp\n",
    "from sklearn.model_selection import KFold\n",
    "from itertools import product\n",
    "import scipy.io as sio\n",
    "import h5py\n",
    "from sklearn.decomposition import PCA\n",
    "import scipy.sparse as sp\n",
    "import matplotlib.ticker as mticker\n",
    "from mpl_toolkits.axes_grid1.inset_locator import inset_axes, mark_inset\n",
    "from scipy.stats import zscore\n",
    "from scipy.io import loadmat\n",
    "from scipy import ndimage"
   ]
  },
  {
   "cell_type": "code",
   "execution_count": 4,
   "metadata": {},
   "outputs": [],
   "source": [
    "ses = 1\n",
    "sub = '04'\n",
    "run = 1\n",
    "num_trials = 90\n",
    "trial_len = 9\n",
    "\n",
    "base_path = '/mnt/TeamShare/Data_Masterfile/H20-00572_All-Dressed/PRECISIONSTIM_PD_Data_Results/fMRI_preprocessed_data/Rev_pipeline/derivatives'\n",
    "anat_path = f'{base_path}/sub-pd0{sub}/ses-{ses}/anat/sub-pd0{sub}_ses-{ses}_T1w_brain.nii.gz'\n",
    "data_name = f'sub-pd0{sub}_ses-{ses}_run-{run}_task-mv_bold_corrected_smoothed_reg.nii.gz'\n",
    "mask_base = f'{base_path}/sub-pd0{sub}/ses-{ses}/anat'\n",
    "\n",
    "behaviour_metric_names = (\"PT\", \"RT\", \"MT\", \"RT+MT\", \"Vmax\", \"Pmax\")\n",
    "if ses == 1:\n",
    "    behave_path = f\"/mnt/TeamShare/Data_Masterfile/H20-00572_All-Dressed/AllDressed_WorkOnData/Sepideh/Behaviour_metrics_revised/PSPD0{sub}_OFF_behav_metrics.mat\"\n",
    "else:\n",
    "    behave_path = f\"/mnt/TeamShare/Data_Masterfile/H20-00572_All-Dressed/AllDressed_WorkOnData/Sepideh/Behaviour_metrics_revised/PSPD0{sub}_ON_behav_metrics.mat\"\n"
   ]
  },
  {
   "cell_type": "markdown",
   "metadata": {},
   "source": [
    "Loading Datasets and Masks"
   ]
  },
  {
   "cell_type": "code",
   "execution_count": 5,
   "metadata": {},
   "outputs": [
    {
     "ename": "FileNotFoundError",
     "evalue": "No such file or no access: '/mnt/TeamShare/Data_Masterfile/H20-00572_All-Dressed/PRECISIONSTIM_PD_Data_Results/fMRI_preprocessed_data/Rev_pipeline/derivatives/sub-pd004/ses-1/anat/sub-pd004_ses-1_T1w_brain.nii.gz'",
     "output_type": "error",
     "traceback": [
      "\u001b[0;31m---------------------------------------------------------------------------\u001b[0m",
      "\u001b[0;31mFileNotFoundError\u001b[0m                         Traceback (most recent call last)",
      "File \u001b[0;32m~/.venvs/workspace/lib/python3.10/site-packages/nibabel/loadsave.py:101\u001b[0m, in \u001b[0;36mload\u001b[0;34m(filename, **kwargs)\u001b[0m\n\u001b[1;32m    100\u001b[0m \u001b[39mtry\u001b[39;00m:\n\u001b[0;32m--> 101\u001b[0m     stat_result \u001b[39m=\u001b[39m os\u001b[39m.\u001b[39;49mstat(filename)\n\u001b[1;32m    102\u001b[0m \u001b[39mexcept\u001b[39;00m \u001b[39mOSError\u001b[39;00m:\n",
      "\u001b[0;31mFileNotFoundError\u001b[0m: [Errno 2] No such file or directory: '/mnt/TeamShare/Data_Masterfile/H20-00572_All-Dressed/PRECISIONSTIM_PD_Data_Results/fMRI_preprocessed_data/Rev_pipeline/derivatives/sub-pd004/ses-1/anat/sub-pd004_ses-1_T1w_brain.nii.gz'",
      "\nDuring handling of the above exception, another exception occurred:\n",
      "\u001b[0;31mFileNotFoundError\u001b[0m                         Traceback (most recent call last)",
      "\u001b[1;32m/home/zkavian/Thesis_code_Glm_Opt/main.ipynb Cell 4\u001b[0m line \u001b[0;36m1\n\u001b[0;32m----> <a href='vscode-notebook-cell://ssh-remote%2Blab_server/home/zkavian/Thesis_code_Glm_Opt/main.ipynb#W3sdnNjb2RlLXJlbW90ZQ%3D%3D?line=0'>1</a>\u001b[0m anat_img \u001b[39m=\u001b[39m nib\u001b[39m.\u001b[39;49mload(anat_path) \n\u001b[1;32m      <a href='vscode-notebook-cell://ssh-remote%2Blab_server/home/zkavian/Thesis_code_Glm_Opt/main.ipynb#W3sdnNjb2RlLXJlbW90ZQ%3D%3D?line=2'>3</a>\u001b[0m BOLD_path_org \u001b[39m=\u001b[39m join(base_path, \u001b[39mf\u001b[39m\u001b[39m'\u001b[39m\u001b[39msub-pd0\u001b[39m\u001b[39m{\u001b[39;00msub\u001b[39m}\u001b[39;00m\u001b[39m'\u001b[39m, \u001b[39mf\u001b[39m\u001b[39m'\u001b[39m\u001b[39mses-\u001b[39m\u001b[39m{\u001b[39;00mses\u001b[39m}\u001b[39;00m\u001b[39m'\u001b[39m, \u001b[39m'\u001b[39m\u001b[39mfunc\u001b[39m\u001b[39m'\u001b[39m, data_name)\n\u001b[1;32m      <a href='vscode-notebook-cell://ssh-remote%2Blab_server/home/zkavian/Thesis_code_Glm_Opt/main.ipynb#W3sdnNjb2RlLXJlbW90ZQ%3D%3D?line=3'>4</a>\u001b[0m bold_img \u001b[39m=\u001b[39m nib\u001b[39m.\u001b[39mload(BOLD_path_org)\n",
      "File \u001b[0;32m~/.venvs/workspace/lib/python3.10/site-packages/nibabel/loadsave.py:103\u001b[0m, in \u001b[0;36mload\u001b[0;34m(filename, **kwargs)\u001b[0m\n\u001b[1;32m    101\u001b[0m     stat_result \u001b[39m=\u001b[39m os\u001b[39m.\u001b[39mstat(filename)\n\u001b[1;32m    102\u001b[0m \u001b[39mexcept\u001b[39;00m \u001b[39mOSError\u001b[39;00m:\n\u001b[0;32m--> 103\u001b[0m     \u001b[39mraise\u001b[39;00m \u001b[39mFileNotFoundError\u001b[39;00m(\u001b[39mf\u001b[39m\u001b[39m\"\u001b[39m\u001b[39mNo such file or no access: \u001b[39m\u001b[39m'\u001b[39m\u001b[39m{\u001b[39;00mfilename\u001b[39m}\u001b[39;00m\u001b[39m'\u001b[39m\u001b[39m\"\u001b[39m)\n\u001b[1;32m    104\u001b[0m \u001b[39mif\u001b[39;00m stat_result\u001b[39m.\u001b[39mst_size \u001b[39m<\u001b[39m\u001b[39m=\u001b[39m \u001b[39m0\u001b[39m:\n\u001b[1;32m    105\u001b[0m     \u001b[39mraise\u001b[39;00m ImageFileError(\u001b[39mf\u001b[39m\u001b[39m\"\u001b[39m\u001b[39mEmpty file: \u001b[39m\u001b[39m'\u001b[39m\u001b[39m{\u001b[39;00mfilename\u001b[39m}\u001b[39;00m\u001b[39m'\u001b[39m\u001b[39m\"\u001b[39m)\n",
      "\u001b[0;31mFileNotFoundError\u001b[0m: No such file or no access: '/mnt/TeamShare/Data_Masterfile/H20-00572_All-Dressed/PRECISIONSTIM_PD_Data_Results/fMRI_preprocessed_data/Rev_pipeline/derivatives/sub-pd004/ses-1/anat/sub-pd004_ses-1_T1w_brain.nii.gz'"
     ]
    }
   ],
   "source": [
    "anat_img = nib.load(anat_path) \n",
    "\n",
    "BOLD_path_org = join(base_path, f'sub-pd0{sub}', f'ses-{ses}', 'func', data_name)\n",
    "bold_img = nib.load(BOLD_path_org)\n",
    "bold_data = bold_img.get_fdata()\n",
    "\n",
    "brain_mask_path = f'{mask_base}/sub-pd0{sub}_ses-{ses}_T1w_brain_mask.nii.gz'\n",
    "brain_mask_img = nib.load(brain_mask_path)\n",
    "back_mask = brain_mask_img.get_fdata()\n",
    "\n",
    "csf_path = f'{mask_base}/sub-pd0{sub}_ses-{ses}_T1w_brain_pve_0.nii.gz'\n",
    "csf_mask = nib.load(csf_path).get_fdata()\n",
    "\n",
    "wm_path = f'{mask_base}/sub-pd0{sub}_ses-{ses}_T1w_brain_pve_1.nii.gz'\n",
    "gray_mask = nib.load(wm_path).get_fdata()"
   ]
  },
  {
   "cell_type": "markdown",
   "metadata": {},
   "source": [
    "Apply Masks on Bold Dataset"
   ]
  },
  {
   "cell_type": "code",
   "execution_count": 4,
   "metadata": {},
   "outputs": [],
   "source": [
    "back_mask_data = back_mask > 0\n",
    "csf_mask_data = csf_mask > 0\n",
    "gray_mask_data = gray_mask > 0.5\n",
    "mask = np.logical_and(back_mask_data, ~csf_mask_data)\n",
    "nonzero_mask = np.where(mask)\n",
    "\n",
    "keep_voxels = gray_mask_data[nonzero_mask]\n",
    "\n",
    "bold_flat = bold_data[nonzero_mask]\n",
    "masked_bold = bold_flat[keep_voxels]\n",
    "masked_coords = tuple(ax[keep_voxels] for ax in nonzero_mask)\n",
    "\n",
    "# print(f'{masked_bold.shape[0]/np.prod(bold_data.shape[:3]): .2%}% of selected voxels after masking')\n",
    "\n",
    "# mask_volume = np.zeros(bold_img.shape[:3], dtype=np.uint8)\n",
    "# mask_volume[masked_coords] = 1 \n",
    "\n",
    "# mask_img = nib.Nifti1Image(mask_volume, bold_img.affine, bold_img.header)\n",
    "# mask_img_resampled = resample_to_img(mask_img, anat_img, interpolation=\"nearest\")\n",
    "# view = plotting.view_img(\n",
    "#     mask_img_resampled,\n",
    "#     bg_img=anat_img,\n",
    "#     cmap=\"autumn\",\n",
    "#     symmetric_cmap=False,\n",
    "# )\n",
    "# view "
   ]
  },
  {
   "cell_type": "markdown",
   "metadata": {},
   "source": [
    "Remove voxels in CSF & brain mask from the bold data"
   ]
  },
  {
   "cell_type": "code",
   "execution_count": 5,
   "metadata": {},
   "outputs": [],
   "source": [
    "masked_bold = masked_bold.astype(np.float32)\n",
    "num_voxels, num_timepoints = masked_bold.shape\n",
    "bold_data_reshape = np.full((num_voxels, num_trials, trial_len), np.nan, dtype=np.float32)\n",
    "\n",
    "start = 0\n",
    "for i in range(num_trials):\n",
    "    end = start + trial_len\n",
    "    if end > num_timepoints:\n",
    "        raise ValueError(\"Masked BOLD data does not contain enough timepoints for all trials\")\n",
    "    bold_data_reshape[:, i, :] = masked_bold[:, start:end]\n",
    "    start += trial_len\n",
    "    if start in (270, 560):\n",
    "        start += 20  # skip discarded timepoints"
   ]
  },
  {
   "cell_type": "markdown",
   "metadata": {},
   "source": [
    "Load Beta values"
   ]
  },
  {
   "cell_type": "code",
   "execution_count": 6,
   "metadata": {},
   "outputs": [],
   "source": [
    "glm_dict = np.load(f'TYPED_FITHRF_GLMDENOISE_RR_sub{sub}.npy', allow_pickle=True).item()\n",
    "beta_glm = glm_dict['betasmd']\n",
    "beta_run1, beta_run2 = beta_glm[:,0,0,:90], beta_glm[:,0,0,90:]\n",
    "\n",
    "if run == 1:\n",
    "    beta = beta_run1[keep_voxels]\n",
    "else:\n",
    "    beta = beta_run2[keep_voxels]\n",
    "\n",
    "nan_voxels = np.isnan(beta).all(axis=1)\n",
    "if np.any(nan_voxels):\n",
    "    beta = beta[~nan_voxels]\n",
    "    bold_data_reshape = bold_data_reshape[~nan_voxels]\n",
    "    masked_coords = tuple(coord[~nan_voxels] for coord in masked_coords)\n",
    "\n",
    "# # remove last trial which have most of NaN values. \n",
    "# bold_data_reshape = bold_data_reshape[:,:-1,:]\n",
    "# beta = beta[:,:-1]"
   ]
  },
  {
   "cell_type": "markdown",
   "metadata": {},
   "source": [
    "Normalize beta value / NaN trials with extremely different beta values"
   ]
  },
  {
   "cell_type": "code",
   "execution_count": 7,
   "metadata": {},
   "outputs": [
    {
     "name": "stdout",
     "output_type": "stream",
     "text": [
      "beta rabge: [-27.91, 27.93], mean: 0.004\n"
     ]
    }
   ],
   "source": [
    "# print('beta rabge: [{:.2f}, {:.2f}], mean: {:.2f}'.format(np.nanmin(beta), np.nanmax(beta), np.nanmean(beta)))\n",
    "\n",
    "med = np.nanmedian(beta, keepdims=True)\n",
    "mad = np.nanmedian(np.abs(beta - med), keepdims=True)\n",
    "scale = 1.4826 * np.maximum(mad, 1e-9)    \n",
    "beta_norm = (beta - med) / scale      \n",
    "thr = np.nanpercentile(np.abs(beta_norm), 99.9)\n",
    "outlier_mask = np.abs(beta_norm) > thr  \n",
    "\n",
    "clean_beta = beta.copy()\n",
    "voxel_outlier_fraction = np.mean(outlier_mask, axis=1)\n",
    "valid_voxels = voxel_outlier_fraction <= 0.5\n",
    "clean_beta[~valid_voxels] = np.nan\n",
    "clean_beta[np.logical_and(outlier_mask, valid_voxels[:, None])] = np.nan\n",
    "keeped_mask = ~np.all(np.isnan(clean_beta), axis=1)\n",
    "clean_beta = clean_beta[keeped_mask]\n",
    "keeped_indices = np.flatnonzero(keeped_mask)\n",
    "\n",
    "bold_data_reshape[~valid_voxels, :, :] = np.nan\n",
    "trial_outliers = np.logical_and(outlier_mask, valid_voxels[:, None])\n",
    "bold_data_reshape = np.where(trial_outliers[:, :, None], np.nan, bold_data_reshape)\n",
    "bold_data_reshape = bold_data_reshape[keeped_mask]\n",
    "\n",
    "print('beta rabge: [{:.2f}, {:.2f}], mean: {:.3f}'.format(np.nanmin(clean_beta), np.nanmax(clean_beta), np.nanmean(clean_beta)))\n",
    "\n",
    "# -----------------------------------------------------------------------------------------------------------------------------------------\n",
    "# data = np.sum(outlier_mask, axis=1)\n",
    "# fig, ax = plt.subplots()\n",
    "# ax.hist(data, bins=np.arange(data.min(), data.max() + 1), color=\"0.4\")\n",
    "# ax.set_xlabel(\"Num Trials\")\n",
    "# ax.set_ylabel(\"Num Voxels\")\n",
    "\n",
    "# axin = inset_axes(ax, width=1.2, height=1.2, bbox_to_anchor=(20, 200000), bbox_transform=ax.transData, loc='center', borderpad=1)\n",
    "# axin.hist(data, bins=np.arange(10, 45), range=(10, 45), color=\"tab:orange\")\n",
    "# axin.set_xlim(10, 45)\n",
    "# axin.tick_params(labelsize=7)\n",
    "# axin.set_title(\"Range 10-45\", fontsize=8)\n",
    "\n",
    "# axin1 = inset_axes(ax, width=1.2, height=1.2, bbox_to_anchor=(60, 200000), bbox_transform=ax.transData, loc='center', borderpad=1)\n",
    "# axin1.hist(data, bins=np.arange(45, 90), range=(45, 90), color=\"tab:red\")\n",
    "# axin1.set_xlim(45, 90)\n",
    "# axin1.tick_params(labelsize=7)\n",
    "# axin1.set_title(\"Range 45, 90\", fontsize=8)\n",
    "\n",
    "# fig.suptitle(\"Outlier trials counts for each voxels\")\n",
    "# plt.show()\n",
    "# -----------------------------------------------------------------------------------------------------------------------------------------\n",
    "# fig, ax = plt.subplots(figsize=(5, 5))\n",
    "# tmp = clean_beta.ravel()\n",
    "# ax.hist(tmp, density=False, bins=100)\n",
    "# ax.set_title('Cleaned beta after removing outliers')\n",
    "# ax.set_xlabel('beta')\n",
    "# ax.set_ylabel('Count')\n",
    "# ax.set_xlim(np.nanmin(tmp), np.nanmax(tmp))\n",
    "# ax.grid(False)"
   ]
  },
  {
   "cell_type": "code",
   "execution_count": 18,
   "metadata": {},
   "outputs": [
    {
     "data": {
      "text/plain": [
       "(np.float32(-1986.3611), np.float32(2243.195), np.float32(-0.010400909))"
      ]
     },
     "execution_count": 18,
     "metadata": {},
     "output_type": "execute_result"
    }
   ],
   "source": [
    "np.min(beta), np.max(beta), np.mean(beta)"
   ]
  },
  {
   "cell_type": "code",
   "execution_count": 29,
   "metadata": {},
   "outputs": [
    {
     "name": "stderr",
     "output_type": "stream",
     "text": [
      "/tmp/ipykernel_149905/1776477699.py:36: UserWarning: This figure includes Axes that are not compatible with tight_layout, so results might be incorrect.\n",
      "  fig.tight_layout()\n"
     ]
    },
    {
     "data": {
      "image/png": "[encoded data removed]",
      "text/plain": [
       "<Figure size 600x600 with 6 Axes>"
      ]
     },
     "metadata": {},
     "output_type": "display_data"
    }
   ],
   "source": [
    "import matplotlib.pyplot as plt\n",
    "import matplotlib.patches as patches\n",
    "import numpy as np\n",
    "\n",
    "fig, ax = plt.subplots(figsize=(6,6))\n",
    "tmp = beta.ravel()\n",
    "\n",
    "counts, bins, _ = ax.hist(tmp, bins=100, density=False, color='C0', alpha=0.85, edgecolor='none')\n",
    "ax.set_title('All beta')\n",
    "ax.set_xlabel('Beta')\n",
    "ax.set_ylabel('Count')\n",
    "\n",
    "ranges = [(-500,-20),(-1000,-500),(-2000,-1000), (100, 5000), (-20,20)]\n",
    "colors = ['C7','C6','C5','C1', 'C2', 'C3', 'C4','C8']\n",
    "positions = [\n",
    "    [0.3, 0.5, 0.1, 0.10],\n",
    "    [0.8, 0.7, 0.1, 0.10],\n",
    "    [0.8, 0.5, 0.1, 0.10],\n",
    "    [0.3, 0.2, 0.1, 0.10],\n",
    "    [0.8, 0.2, 0.1, 0.10],\n",
    "]\n",
    "\n",
    "ymax = counts.max()\n",
    "\n",
    "for (lo, hi), color, pos in zip(ranges, colors, positions):\n",
    "    axins = fig.add_axes(pos)\n",
    "    mask = (tmp >= lo) & (tmp < hi)\n",
    "    axins.hist(tmp[mask], bins=np.linspace(lo, hi, 20), density=False,\n",
    "               color=color, alpha=0.85, edgecolor='none')\n",
    "    axins.set_xlim(lo, hi)\n",
    "    # axins.set_ylim(0, ymax)\n",
    "    axins.set_title(f'{lo:.0f}–{hi:.0f}', fontsize=9)\n",
    "    axins.tick_params(axis='both', labelsize=7)\n",
    "    # axins.set_yticks([])\n",
    "\n",
    "fig.tight_layout()\n"
   ]
  },
  {
   "cell_type": "code",
   "execution_count": null,
   "metadata": {},
   "outputs": [],
   "source": [
    "# --- Visualize clean_beta on the anatomical background ---\n",
    "# choose how to summarize trials: pick one trial or average across them\n",
    "trial_to_plot = 0  # set to None to use the mean across trials instead\n",
    "if trial_to_plot is None:\n",
    "    clean_beta_stat = np.nanmean(clean_beta, axis=1)\n",
    "else:\n",
    "    clean_beta_stat = clean_beta[:, trial_to_plot]\n",
    "\n",
    "clean_coords = tuple(coord[keeped_indices] for coord in masked_coords)\n",
    "clean_beta_volume = np.full(bold_img.shape[:3], np.nan, dtype=np.float32)\n",
    "clean_beta_volume[clean_coords] = clean_beta_stat\n",
    "\n",
    "vmax = np.nanpercentile(np.abs(clean_beta_stat), 99)\n",
    "if np.isfinite(vmax) and vmax > 0:\n",
    "    clean_beta_volume = np.clip(clean_beta_volume, -vmax, vmax)\n",
    "else:\n",
    "    vmax = None\n",
    "\n",
    "clean_beta_img = nib.Nifti1Image(clean_beta_volume, bold_img.affine, bold_img.header)\n",
    "clean_beta_resampled = resample_to_img(clean_beta_img, anat_img, interpolation=\"nearest\")\n",
    "\n",
    "viewer = plotting.view_img(\n",
    "    clean_beta_resampled,\n",
    "    bg_img=anat_img,\n",
    "    cmap=\"jet\",\n",
    "    symmetric_cmap=True,\n",
    "    vmax=vmax,\n",
    ")\n",
    "viewer.save_as_html(f\"sub{sub}_ses{ses}_run{run}_clean_beta.html\")\n",
    "viewer  # display in notebook\n"
   ]
  },
  {
   "cell_type": "markdown",
   "metadata": {},
   "source": [
    "Apply t-test and FDR, detect & remove non-active voxels"
   ]
  },
  {
   "cell_type": "code",
   "execution_count": null,
   "metadata": {},
   "outputs": [],
   "source": [
    "# one sample t-test against 0\n",
    "tvals, pvals = ttest_1samp(clean_beta, popmean=0, axis=1, nan_policy='omit')\n",
    "\n",
    "# FDR correction\n",
    "tested = np.isfinite(pvals)\n",
    "alpha=0.05\n",
    "rej, q, _, _ = multipletests(pvals[tested], alpha=alpha, method='fdr_bh')\n",
    "\n",
    "n_voxel = clean_beta.shape[0]\n",
    "qvals  = np.full(n_voxel, np.nan)\n",
    "reject = np.zeros(n_voxel, dtype=bool)\n",
    "reject[tested] = rej\n",
    "qvals[tested]  = q\n",
    "\n",
    "# reject non-active voxels\n",
    "clean_active_beta = clean_beta[reject]\n",
    "clean_active_idx = keeped_indices[reject]\n",
    "clean_active_bold = bold_data_reshape[reject]"
   ]
  },
  {
   "cell_type": "code",
   "execution_count": 14,
   "metadata": {},
   "outputs": [],
   "source": [
    "num_trials = beta.shape[-1]\n",
    "clean_active_volume = np.full(bold_data.shape[:3]+(num_trials,), np.nan)\n",
    "active_coords = tuple(coord[clean_active_idx] for coord in masked_coords)\n",
    "clean_active_volume[active_coords[0], active_coords[1], active_coords[2], :] = clean_active_beta"
   ]
  },
  {
   "cell_type": "markdown",
   "metadata": {},
   "source": [
    "apply filter"
   ]
  },
  {
   "cell_type": "code",
   "execution_count": 33,
   "metadata": {},
   "outputs": [],
   "source": [
    "# def hampel_filter_image(image, window_size, threshold_factor, return_stats=False):\n",
    "#     filtered = image.astype(float).copy()\n",
    "#     footprint = np.ones((window_size,) * 3, dtype=bool)\n",
    "\n",
    "#     insufficient_counts = []\n",
    "#     corrected_indices_parts = []\n",
    "\n",
    "#     for t in range(image.shape[3]):\n",
    "#         print(f\"Trial Number: {t}\")\n",
    "#         vol = image[..., t]\n",
    "#         valid = np.isfinite(vol)\n",
    "\n",
    "#         med = ndimage.generic_filter(vol, np.nanmedian, footprint=footprint, mode='constant', cval=np.nan)\n",
    "#         mad = ndimage.generic_filter(np.abs(vol - med), np.nanmedian, footprint=footprint, mode='constant', cval=np.nan)\n",
    "#         counts = ndimage.generic_filter(np.isfinite(vol).astype(np.float32), np.sum, footprint=footprint, mode='constant', cval=0)\n",
    "#         neighbor_count = counts - valid.astype(np.float32)\n",
    "\n",
    "#         scaled_mad = 1.4826 * mad\n",
    "#         insufficient = valid & (neighbor_count < 3)\n",
    "#         insufficient_counts.append(int(np.count_nonzero(insufficient)))\n",
    "#         filtered[..., t][insufficient] = np.nan\n",
    "\n",
    "#         enough_data = (neighbor_count >= 3) & valid\n",
    "#         outliers = enough_data & (np.abs(vol - med) > threshold_factor * scaled_mad)\n",
    "\n",
    "#         if np.any(outliers):\n",
    "#             coords = np.argwhere(outliers)\n",
    "#             t_column = np.full((coords.shape[0], 1), t, dtype=int)\n",
    "#             corrected_indices_parts.append(np.hstack((coords, t_column)))\n",
    "\n",
    "#         filtered[..., t][outliers] = med[outliers]\n",
    "\n",
    "#     if return_stats:\n",
    "#         insufficient_counts_arr = np.array(insufficient_counts, dtype=int)\n",
    "#         if corrected_indices_parts:\n",
    "#             corrected_indices = np.vstack(corrected_indices_parts)\n",
    "#         else:\n",
    "#             corrected_indices = np.empty((0, 4), dtype=int)\n",
    "\n",
    "#         stats = {\n",
    "#             'insufficient_counts': insufficient_counts_arr,\n",
    "#             'insufficient_total': int(insufficient_counts_arr.sum()),\n",
    "#             'corrected_indices': corrected_indices,\n",
    "#             'corrected_total': int(corrected_indices.shape[0]),\n",
    "#         }\n",
    "#         return filtered, stats\n",
    "\n",
    "#     return filtered\n",
    "\n",
    "# beta_volume_filter, hampel_stats = hampel_filter_image(clean_active_volume, window_size=5, threshold_factor=3, return_stats=True)\n",
    "# print('Insufficient neighbours per frame:', hampel_stats['insufficient_counts'], flush=True)\n",
    "# print('Total voxels with <3 neighbours:', hampel_stats['insufficient_total'], flush=True)\n",
    "# print('Total corrected voxels:', hampel_stats['corrected_total'], flush=True)\n",
    "\n",
    "# beta_volume_filter = beta_volume_filter[~np.all(np.isnan(beta_volume_filter), axis=-1)]\n",
    "# np.save(f'cleaned_beta_volume_sub{sub}_ses{ses}_run{run}.npy', beta_volume_filter)\n"
   ]
  },
  {
   "cell_type": "markdown",
   "metadata": {},
   "source": [
    "Load the filtered beta values"
   ]
  },
  {
   "cell_type": "code",
   "execution_count": 34,
   "metadata": {},
   "outputs": [],
   "source": [
    "beta_valume_clean_2d = np.load(f'cleaned_beta_volume_sub{sub}_ses{ses}_run{run}.npy')\n",
    "mask_2d = np.load(\"mask_all_nan_sub04_ses1_run1.npy\")\n",
    "\n",
    "\n",
    "active_flat_idx = np.ravel_multi_index(active_coords, clean_active_volume.shape[:3])\n",
    "active_keep_mask = ~mask_2d[active_flat_idx]\n",
    "clean_active_bold = clean_active_bold[active_keep_mask]"
   ]
  },
  {
   "cell_type": "code",
   "execution_count": null,
   "metadata": {},
   "outputs": [],
   "source": [
    "keep_mask = active_keep_mask  # already computed earlier\n",
    "coords_masked = tuple(coord[keep_mask] for coord in active_coords)\n",
    "\n",
    "trial_to_plot = 0  # adjust as needed\n",
    "beta_volume = np.full(bold_img.shape[:3], np.nan, dtype=np.float32)\n",
    "beta_volume[coords_masked] = beta_valume_clean_2d[:, trial_to_plot]\n",
    "\n",
    "\n",
    "\n",
    "thr = np.nanpercentile(np.abs(beta_valume_clean_2d[:, trial_to_plot]), 97)\n",
    "beta_volume = np.clip(beta_volume, -thr, thr)\n",
    "\n",
    "beta_img = nib.Nifti1Image(np.abs(beta_volume), bold_img.affine)\n",
    "beta_img_resampled = resample_to_img(beta_img, anat_img, interpolation=\"nearest\")\n",
    "# if not np.isfinite(thr) or thr == 0:\n",
    "#     thr = None\n",
    "\n",
    "viewer = plotting.view_img(\n",
    "    beta_img_resampled,\n",
    "    bg_img=anat_img,\n",
    "    # threshold=thr,\n",
    "    # dim=-0.15,\n",
    "    cmap=\"jet\",\n",
    "    symmetric_cmap=False,\n",
    ")\n",
    "viewer.save_as_html(f'sub{sub}_ses{ses}_run{run}_trial{trial_to_plot}_abs_clean_beta.html')\n"
   ]
  },
  {
   "cell_type": "markdown",
   "metadata": {},
   "source": [
    "Load Behaviour"
   ]
  },
  {
   "cell_type": "code",
   "execution_count": 35,
   "metadata": {},
   "outputs": [],
   "source": [
    "def load_behavior_metrics(path, run):\n",
    "    behav_data = loadmat(path)\n",
    "    behav_metrics = behav_data[\"behav_metrics\"]\n",
    "    behav_block = np.stack(behav_metrics[0], axis=0)\n",
    "    _, _, num_metrics = behav_block.shape\n",
    "    behav_flat = behav_block.reshape(-1, num_metrics)\n",
    "    if run == 1:\n",
    "        behav_flat = behav_flat[:90, :6]\n",
    "    else:\n",
    "        behav_flat = behav_flat[90:180, :6]\n",
    "    return behav_flat\n",
    "\n",
    "behavior_matrix = load_behavior_metrics(behave_path, run)"
   ]
  },
  {
   "cell_type": "markdown",
   "metadata": {},
   "source": [
    "PCA (run main_pca.py)"
   ]
  },
  {
   "cell_type": "code",
   "execution_count": 12,
   "metadata": {},
   "outputs": [],
   "source": [
    "# def prepare_for_empca(data):\n",
    "#     W = np.isfinite(data).astype(float)\n",
    "#     Y = np.where(np.isfinite(data), data, 0.0)\n",
    "\n",
    "#     row_weight = W.sum(axis=0, keepdims=True)\n",
    "#     print(row_weight.shape)\n",
    "#     mean = np.divide((Y * W).sum(axis=0, keepdims=True), row_weight, out=np.zeros_like(row_weight), where=row_weight > 0)\n",
    "#     centered = Y - mean\n",
    "\n",
    "#     var = np.divide((W * centered**2).sum(axis=0, keepdims=True), row_weight, out=np.zeros_like(row_weight), where=row_weight > 0)\n",
    "#     scale = np.sqrt(var)\n",
    "#     print(mean.shape, scale.shape)\n",
    "\n",
    "#     z = np.divide(centered, np.maximum(scale, 1e-6), out=np.zeros_like(centered), where=row_weight > 0)\n",
    "#     return z, W\n",
    "\n",
    "# trial_idx = np.arange(num_trials)\n",
    "# X_bold = clean_active_bold[:, trial_idx, :]\n",
    "# X_reshap = X_bold.reshape(X_bold.shape[0], -1)\n",
    "# Yc, W = prepare_for_empca(X_reshap.T)\n",
    "# W = W.T"
   ]
  },
  {
   "cell_type": "code",
   "execution_count": 6,
   "metadata": {},
   "outputs": [],
   "source": [
    "import numpy as np\n",
    "import sys\n",
    "import importlib\n",
    "sys.modules['empca.empca.empca'] = importlib.import_module('empca.empca')\n",
    "\n",
    "pca_model = np.load('empca_model_sub04_ses1_run1.npy', allow_pickle=True).item()\n",
    "bold_pca = pca_model.eigvec\n",
    "\n",
    "# W_pca = np.linalg.pinv(pca_model.coeff)    \n",
    "# beta_pca = W_pca @ np.nan_to_num(beta_valume_clean_2d)\n",
    "\n",
    "\n",
    "# pca_model.__dict__.keys()\n",
    "# for i in range(pca_model.nvec):\n",
    "#     print(pca_model.R2vec(i))"
   ]
  },
  {
   "cell_type": "code",
   "execution_count": 63,
   "metadata": {},
   "outputs": [],
   "source": [
    "com_var = []\n",
    "for k in range(pca_model.nvec):\n",
    "    print(k)\n",
    "    com_var.append(pca_model.R2vec(k))"
   ]
  },
  {
   "cell_type": "code",
   "execution_count": null,
   "metadata": {},
   "outputs": [],
   "source": [
    "com_var_arr = np.array(com_var, dtype=float)\n",
    "cum_var = np.cumsum(com_var_arr)\n",
    "\n",
    "plt.figure(figsize=(6, 4))\n",
    "plt.plot(np.arange(1, len(cum_var) + 1), cum_var)\n",
    "plt.xlabel(\"Component index\")\n",
    "plt.ylabel(\"Cumulative R²\")\n",
    "plt.title(\"Cumulative explained variance\")\n",
    "plt.grid(True, linestyle=\"--\", alpha=0.4)\n",
    "plt.show()\n"
   ]
  },
  {
   "cell_type": "code",
   "execution_count": null,
   "metadata": {},
   "outputs": [],
   "source": [
    "W_pca = np.linalg.pinv(pca_model.coeff)    \n",
    "beta_pca = W_pca @ np.nan_to_num(beta_valume_clean_2d)\n"
   ]
  },
  {
   "cell_type": "code",
   "execution_count": null,
   "metadata": {},
   "outputs": [],
   "source": [
    "plt.plot(bold_pca[-1,:])"
   ]
  },
  {
   "cell_type": "code",
   "execution_count": 37,
   "metadata": {},
   "outputs": [],
   "source": [
    "def matrices_func(beta_pca, bold_pca, behave_mat, trial_indices=None, trial_len=trial_len, num_trials=90):\n",
    "    # reshape beta_pca, bold_pca, behave_pca if it is necessary\n",
    "    bold_pca_reshape = bold_pca.reshape(bold_pca.shape[0], num_trials, trial_len)\n",
    "\n",
    "    trial_idx = np.arange(num_trials) if trial_indices is None else np.unique(np.asarray(trial_indices, int).ravel())\n",
    "\n",
    "    # select trials\n",
    "    behavior_selected = behave_mat[trial_idx, 1]  #1/RT\n",
    "    beta_selected = beta_pca[:, trial_idx]\n",
    "\n",
    "    # ----- L_task (same idea as yours) -----\n",
    "    print(\"L_task...\", flush=True)\n",
    "    counts = np.count_nonzero(np.isfinite(beta_selected), axis=-1)\n",
    "    sums = np.nansum(np.abs(beta_selected), axis=-1, dtype=np.float32)\n",
    "    mean_beta = np.zeros(beta_selected.shape[0], dtype=np.float32)\n",
    "    m = counts > 0\n",
    "    mean_beta[m] = (sums[m] / counts[m]).astype(np.float32)\n",
    "\n",
    "    C_task = np.zeros_like(mean_beta, dtype=np.float32)\n",
    "    v = np.abs(mean_beta) > 0 # avoid division by zero\n",
    "    C_task[v] = (1.0 / mean_beta[v]).astype(np.float32)\n",
    "\n",
    "    # ----- L_var_bold: variance of trial differences, as sparse diagonal -----\n",
    "    print(\"L_var...\", flush=True)\n",
    "    C_bold = np.zeros((bold_pca_reshape.shape[0], bold_pca_reshape.shape[0]), dtype=np.float32)\n",
    "\n",
    "    for i in range(num_trials-1):\n",
    "        x1 = bold_pca_reshape[:, i, :]\n",
    "        x2 = bold_pca_reshape[:, i+1, :]\n",
    "        C_bold += (x1-x2) @ (x1-x2).T\n",
    "    C_bold /= (num_trials - 1)\n",
    "\n",
    "    # ----- L_var_beta: variance of trial differences, as sparse diagonal -----\n",
    "    print(\"L_var...\", flush=True)\n",
    "    C_beta = np.zeros((beta_selected.shape[0], beta_selected.shape[0]), dtype=np.float32)\n",
    "    for i in range(num_trials-1):\n",
    "        x1 = beta_selected[:, i]\n",
    "        x2 = beta_selected[:, i+1]\n",
    "        diff = x1 - x2\n",
    "        C_beta += np.outer(diff, diff)  \n",
    "    C_beta /= (num_trials - 1)\n",
    "\n",
    "    return C_task, C_bold, C_beta, behavior_selected, beta_selected"
   ]
  },
  {
   "cell_type": "code",
   "execution_count": null,
   "metadata": {},
   "outputs": [],
   "source": [
    "C_task, C_bold, C_beta, X_behave, X_beta = matrices_func(beta_pca, bold_pca, behavior_matrix, trial_indices=None, trial_len=trial_len, num_trials=90)\n",
    "print(W_pca.shape)"
   ]
  },
  {
   "cell_type": "code",
   "execution_count": null,
   "metadata": {},
   "outputs": [],
   "source": [
    "C_task.shape"
   ]
  },
  {
   "cell_type": "code",
   "execution_count": null,
   "metadata": {},
   "outputs": [],
   "source": [
    "import seaborn as sns\n",
    "fig_hist, hist_axes = plt.subplots(1, 3, figsize=(18, 4))\n",
    "\n",
    "sns.histplot(C_task, bins=30, ax=hist_axes[0], color=\"steelblue\")\n",
    "hist_axes[0].set(xlabel=\"L_task\", ylabel=\"Count\", title=\"C_task Distribution\")\n",
    "hist_axes[0].set_yscale(\"log\")\n",
    "\n",
    "sns.histplot(C_beta.ravel(), bins=30, ax=hist_axes[1], color=\"seagreen\")\n",
    "hist_axes[1].set(xlabel=\"Value\", ylabel=\"Count\", title=\"C_beta Distribution\")\n",
    "hist_axes[1].set_yscale(\"log\")\n",
    "\n",
    "sns.histplot(C_bold.ravel(), bins=30, ax=hist_axes[2], color=\"darkmagenta\")\n",
    "hist_axes[2].set(xlabel=\"Value\", ylabel=\"Count\", title=\"C_bold Distribution\")\n",
    "hist_axes[2].set_yscale(\"log\")\n",
    "\n",
    "plt.tight_layout()\n",
    "plt.show()"
   ]
  },
  {
   "cell_type": "code",
   "execution_count": null,
   "metadata": {},
   "outputs": [],
   "source": [
    "import seaborn as sns\n",
    "sns.set_theme(style=\"whitegrid\")\n",
    "\n",
    "# --- Task loss line plot ---\n",
    "fig_task, ax_task = plt.subplots(figsize=(6, 4))\n",
    "sns.lineplot(x=np.arange(C_task.shape[0]), y=C_task, ax=ax_task, color=\"steelblue\")\n",
    "ax_task.set(xlabel=\"Index\", ylabel=\"L_task\", title=\"Task Loss\")\n",
    "fig_task.tight_layout()\n",
    "plt.show()\n",
    "\n",
    "# --- L_var_beta heatmap ---\n",
    "from matplotlib import colors\n",
    "\n",
    "tmp = C_beta\n",
    "mask = np.isclose(tmp, 1.0)\n",
    "\n",
    "fig, axes = plt.subplots(1, 3, figsize=(12, 5))\n",
    "ranges = [(0, 100), (100, 300), (300, 600)]\n",
    "\n",
    "for ax, (start, end) in zip(axes, ranges):\n",
    "    data = tmp[start:end, start:end]\n",
    "    data_mask = mask[start:end, start:end]\n",
    "    sns.heatmap(data, ax=ax, cmap=\"jet\", cbar=ax)\n",
    "    ax.set(xlabel=\"component\", ylabel=\"component\", title=f\"C_beta ({start}–{end})\")\n",
    "    ax.invert_yaxis()\n",
    "\n",
    "    tick_idx = np.linspace(0, data.shape[0] - 1, 5, dtype=int)\n",
    "    tick_labels = np.linspace(start, end, 5, dtype=int)\n",
    "    ax.set_xticks(tick_idx)\n",
    "    ax.set_xticklabels(tick_labels)\n",
    "    ax.set_yticks(tick_idx)\n",
    "    ax.set_yticklabels(tick_labels)\n",
    "\n",
    "fig.tight_layout()\n",
    "plt.show()\n",
    "\n",
    "\n",
    "\n",
    "# --- L_var_bold heatmap ---\n",
    "tmp = C_bold\n",
    "mask = np.isclose(tmp, 1.0)\n",
    "\n",
    "fig, axes = plt.subplots(1, 3, figsize=(12, 5))\n",
    "ranges = [(0, 100), (100, 200), (200, 300)]\n",
    "\n",
    "for ax, (start, end) in zip(axes, ranges):\n",
    "    data = tmp[start:end, start:end]\n",
    "    data_mask = mask[start:end, start:end]\n",
    "    sns.heatmap(data, ax=ax, cmap=\"jet\", cbar=ax)\n",
    "    ax.set(xlabel=\"component\", ylabel=\"component\", title=f\"C_bold ({start}–{end})\")\n",
    "    ax.invert_yaxis()\n",
    "\n",
    "    tick_idx = np.linspace(0, data.shape[0] - 1, 5, dtype=int)\n",
    "    tick_labels = np.linspace(start, end, 5, dtype=int)\n",
    "    ax.set_xticks(tick_idx)\n",
    "    ax.set_xticklabels(tick_labels)\n",
    "    ax.set_yticks(tick_idx)\n",
    "    ax.set_yticklabels(tick_labels)\n",
    "\n",
    "fig.tight_layout()\n",
    "plt.show()\n"
   ]
  },
  {
   "cell_type": "code",
   "execution_count": null,
   "metadata": {},
   "outputs": [],
   "source": []
  },
  {
   "cell_type": "code",
   "execution_count": 34,
   "metadata": {},
   "outputs": [],
   "source": [
    "alpha_bold=1.0\n",
    "alpha_beta=1.0\n",
    "alpha_task=1.0\n",
    "n_comp = X_beta.shape[0]\n",
    "regularization = 1e-6\n",
    "solver_name = \"MOSEK\"\n",
    "rho = 0.8\n",
    "\n",
    "trial_select = np.isfinite(X_behave)\n",
    "num_trials_selected = np.sum(trial_select)\n",
    "X_behave_clean = X_behave[trial_select]\n",
    "# valid_beh = np.isfinite(X_behave)\n",
    "# mean_beh = np.nanmean(X_behave[valid_beh])\n",
    "mean_beh = np.mean(X_behave_clean)\n",
    "X_behave2 = X_behave_clean - mean_beh\n",
    "behave_norm = np.linalg.norm(X_behave2)\n",
    "\n",
    "X_beta_select = X_beta[:, trial_select]\n",
    "X_beta2 = X_beta_select - np.mean(X_beta_select, axis=1, keepdims=True)\n",
    "\n",
    "C_total = alpha_task * np.diag(C_task) + alpha_bold * C_bold + alpha_beta * C_beta\n",
    "C_total = 0.5 * (C_total + C_total.T)\n",
    "C_total += regularization * np.eye(n_comp)\n",
    "\n",
    "a = X_behave2 / behave_norm\n",
    "w_plus = cp.Variable(n_comp)\n",
    "w_minus = cp.Variable(n_comp)\n",
    "u_plus = X_beta2.T @ w_plus\n",
    "u_minus = X_beta2.T @ w_minus\n",
    "\n",
    "constraints_plus = [w_plus >= 0, cp.sum(w_plus) == 1, cp.SOC((1.0/rho) * (a @ u_plus), u_plus)]\n",
    "obj_plus = cp.Minimize(cp.quad_form(w_plus, cp.psd_wrap(C_total)))\n",
    "prob_plus = cp.Problem(obj_plus, constraints_plus)\n",
    "\n",
    "constraints_minus = [w_minus >= 0, cp.sum(w_minus) == 1, cp.SOC((1.0/rho) * (-a @ u_minus), u_minus)]\n",
    "obj_minus = cp.Minimize(cp.quad_form(w_minus, cp.psd_wrap(C_total)))\n",
    "prob_minus = cp.Problem(obj_minus, constraints_minus)"
   ]
  },
  {
   "cell_type": "code",
   "execution_count": 35,
   "metadata": {},
   "outputs": [],
   "source": [
    "val_plus = val_minus = np.inf\n",
    "w_best = None\n",
    "\n",
    "prob_plus.solve(solver=solver_name, warm_start=True)\n",
    "if w_plus.value is not None and prob_plus.status in (\"optimal\", \"optimal_inaccurate\"):\n",
    "    val_plus = prob_plus.value\n",
    "\n",
    "prob_minus.solve(solver=solver_name, warm_start=True)\n",
    "if w_minus.value is not None and prob_minus.status in (\"optimal\", \"optimal_inaccurate\"):\n",
    "    val_minus = prob_minus.value\n",
    "\n",
    "if not np.isfinite(val_plus) and not np.isfinite(val_minus):\n",
    "    raise RuntimeError(\"Both SOC branches were infeasible or failed to solve.\")\n",
    "\n",
    "if val_plus <= val_minus:\n",
    "    weights = np.array(w_plus.value).ravel()\n",
    "else:\n",
    "    weights = np.array(w_minus.value).ravel()\n",
    "\n",
    "W_prime = W_pca.T @ weights"
   ]
  },
  {
   "cell_type": "code",
   "execution_count": null,
   "metadata": {},
   "outputs": [],
   "source": []
  },
  {
   "cell_type": "code",
   "execution_count": 68,
   "metadata": {},
   "outputs": [],
   "source": [
    "W_prime = np.load('behavior_weights_sub04_ses1_run1.npy')"
   ]
  },
  {
   "cell_type": "code",
   "execution_count": null,
   "metadata": {},
   "outputs": [],
   "source": [
    "plt.hist(W_prime, bins=50)\n",
    "plt.show()"
   ]
  },
  {
   "cell_type": "code",
   "execution_count": null,
   "metadata": {},
   "outputs": [],
   "source": [
    "# Reconstruct a volumetric map of W_prime for visualization on the anatomical image\n",
    "final_coords = tuple(coord[active_keep_mask] for coord in active_coords)\n",
    "weight_volume = np.full(anat_img.shape, np.nan, dtype=np.float32)\n",
    "weight_volume[final_coords] = W_prime * 1e6\n",
    "weight_volume = np.clip(weight_volume, -np.nanpercentile(np.abs(W_prime * 1e6), 99.9), np.nanpercentile(np.abs(W_prime * 1e6), 99.9))\n",
    "weight_img = nib.Nifti1Image(weight_volume, anat_img.affine, anat_img.header)\n",
    "\n",
    "from nilearn import plotting\n",
    "\n",
    "view = plotting.view_img(\n",
    "    weight_img,\n",
    "    bg_img=anat_img,\n",
    "    cmap=\"jet\",\n",
    "    symmetric_cmap=False\n",
    "    # title=f'W_prime overlay sub{sub} ses{ses} run{run}',\n",
    ")\n",
    "view_path = f'W_prime_overlay_sub{sub}_ses{ses}_run{run}.html'\n",
    "view.save_as_html(view_path)\n",
    "view"
   ]
  },
  {
   "cell_type": "code",
   "execution_count": null,
   "metadata": {},
   "outputs": [],
   "source": [
    "np.where(weight_volume != 0)"
   ]
  },
  {
   "cell_type": "code",
   "execution_count": null,
   "metadata": {},
   "outputs": [],
   "source": [
    "weight_volume[np.where(weight_volume != 0)]"
   ]
  },
  {
   "cell_type": "code",
   "execution_count": 3,
   "metadata": {},
   "outputs": [
    {
     "data": {
      "image/png": "[encoded data removed]",
      "text/plain": [
       "<Figure size 640x480 with 1 Axes>"
      ]
     },
     "metadata": {},
     "output_type": "display_data"
    }
   ],
   "source": [
    "import numpy as np\n",
    "data = np.load('behavior_weights_pca_sub04_ses1_run1.npy')\n",
    "data.shape\n",
    "\n",
    "import matplotlib.pyplot as plt\n",
    "\n",
    "plt.hist(data, bins=50)\n",
    "plt.show()"
   ]
  },
  {
   "cell_type": "code",
   "execution_count": 2,
   "metadata": {},
   "outputs": [
    {
     "data": {
      "image/png": "[encoded data removed]",
      "text/plain": [
       "<Figure size 640x480 with 1 Axes>"
      ]
     },
     "metadata": {},
     "output_type": "display_data"
    }
   ],
   "source": [
    "import numpy as np\n",
    "data = np.load('behavior_weights_sub04_ses1_run1.npy')\n",
    "data.shape\n",
    "\n",
    "import matplotlib.pyplot as plt\n",
    "\n",
    "plt.hist(data, bins=50)\n",
    "plt.show()"
   ]
  },
  {
   "cell_type": "code",
   "execution_count": null,
   "metadata": {},
   "outputs": [],
   "source": [
    "plt.plot(data[:200])"
   ]
  },
  {
   "cell_type": "code",
   "execution_count": null,
   "metadata": {},
   "outputs": [],
   "source": []
  }
 ],
 "metadata": {
  "language_info": {
   "name": "python"
  }
 },
 "nbformat": 4,
 "nbformat_minor": 2
}
