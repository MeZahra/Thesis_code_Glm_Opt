{
 "cells": [
  {
   "cell_type": "code",
   "execution_count": 1,
   "metadata": {},
   "outputs": [],
   "source": [
    "import nibabel as nib\n",
    "import numpy as np\n",
    "from os.path import join\n",
    "import math\n",
    "import matplotlib.pyplot as plt\n",
    "from scipy.stats import ttest_1samp\n",
    "from statsmodels.stats.multitest import multipletests\n",
    "from nilearn import plotting\n",
    "from nilearn.image import resample_to_img\n",
    "import cvxpy as cp\n",
    "from sklearn.model_selection import KFold\n",
    "from itertools import product\n",
    "import scipy.io as sio\n",
    "import h5py\n",
    "from sklearn.decomposition import PCA\n",
    "import scipy.sparse as sp\n",
    "import matplotlib.ticker as mticker\n",
    "from mpl_toolkits.axes_grid1.inset_locator import inset_axes, mark_inset\n",
    "from scipy.stats import zscore\n",
    "from scipy.io import loadmat"
   ]
  },
  {
   "cell_type": "code",
   "execution_count": 2,
   "metadata": {},
   "outputs": [],
   "source": [
    "ses = 1\n",
    "sub = '04'\n",
    "run = 1\n",
    "num_trials = 90\n",
    "trial_len = 9\n",
    "\n",
    "base_path = '/mnt/TeamShare/Data_Masterfile/H20-00572_All-Dressed/PRECISIONSTIM_PD_Data_Results/fMRI_preprocessed_data/Rev_pipeline/derivatives'\n",
    "anat_path = f'{base_path}/sub-pd0{sub}/ses-{ses}/anat/sub-pd0{sub}_ses-{ses}_T1w_brain.nii.gz'\n",
    "data_name = f'sub-pd0{sub}_ses-{ses}_run-{run}_task-mv_bold_corrected_smoothed_reg.nii.gz'\n",
    "mask_base = f'{base_path}/sub-pd0{sub}/ses-{ses}/anat'\n",
    "\n",
    "behaviour_metric_names = (\"PT\", \"RT\", \"MT\", \"RT+MT\", \"Vmax\", \"Pmax\")\n",
    "if ses == 1:\n",
    "    behave_path = f\"/mnt/TeamShare/Data_Masterfile/H20-00572_All-Dressed/AllDressed_WorkOnData/Sepideh/Behaviour_metrics_revised/PSPD0{sub}_OFF_behav_metrics.mat\"\n",
    "else:\n",
    "    behave_path = f\"/mnt/TeamShare/Data_Masterfile/H20-00572_All-Dressed/AllDressed_WorkOnData/Sepideh/Behaviour_metrics_revised/PSPD0{sub}_ON_behav_metrics.mat\"\n"
   ]
  },
  {
   "cell_type": "markdown",
   "metadata": {},
   "source": [
    "Loading Datasets and Masks"
   ]
  },
  {
   "cell_type": "code",
   "execution_count": 3,
   "metadata": {},
   "outputs": [],
   "source": [
    "anat_img = nib.load(anat_path) \n",
    "\n",
    "BOLD_path_org = join(base_path, f'sub-pd0{sub}', f'ses-{ses}', 'func', data_name)\n",
    "bold_img = nib.load(BOLD_path_org)\n",
    "bold_data = bold_img.get_fdata()\n",
    "\n",
    "brain_mask_path = f'{mask_base}/sub-pd0{sub}_ses-{ses}_T1w_brain_mask.nii.gz'\n",
    "brain_mask_img = nib.load(brain_mask_path)\n",
    "back_mask = brain_mask_img.get_fdata()\n",
    "\n",
    "csf_path = f'{mask_base}/sub-pd0{sub}_ses-{ses}_T1w_brain_pve_0.nii.gz'\n",
    "csf_mask = nib.load(csf_path).get_fdata()\n",
    "\n",
    "wm_path = f'{mask_base}/sub-pd0{sub}_ses-{ses}_T1w_brain_pve_1.nii.gz'\n",
    "white_mask = nib.load(wm_path).get_fdata()"
   ]
  },
  {
   "cell_type": "markdown",
   "metadata": {},
   "source": [
    "Apply Masks on Bold Dataset"
   ]
  },
  {
   "cell_type": "code",
   "execution_count": 4,
   "metadata": {},
   "outputs": [],
   "source": [
    "back_mask_data = back_mask > 0\n",
    "csf_mask_data = csf_mask > 0\n",
    "white_mask_data = white_mask > 0.5\n",
    "mask = np.logical_and(back_mask_data, ~csf_mask_data)\n",
    "nonzero_mask = np.where(mask)\n",
    "\n",
    "white_mask_flat = white_mask_data[nonzero_mask]\n",
    "keep_voxels = ~white_mask_flat\n",
    "\n",
    "bold_flat = bold_data[nonzero_mask]\n",
    "masked_bold = bold_flat[keep_voxels]\n",
    "masked_coords = tuple(ax[keep_voxels] for ax in nonzero_mask)"
   ]
  },
  {
   "cell_type": "markdown",
   "metadata": {},
   "source": [
    "Remove voxels in CSF & brain mask from the bold data"
   ]
  },
  {
   "cell_type": "code",
   "execution_count": 5,
   "metadata": {},
   "outputs": [],
   "source": [
    "\n",
    "masked_bold = masked_bold.astype(np.float32)\n",
    "num_voxels, num_timepoints = masked_bold.shape\n",
    "bold_data_reshape = np.full((num_voxels, num_trials, trial_len), np.nan, dtype=np.float32)\n",
    "\n",
    "start = 0\n",
    "for i in range(num_trials):\n",
    "    end = start + trial_len\n",
    "    if end > num_timepoints:\n",
    "        raise ValueError(\"Masked BOLD data does not contain enough timepoints for all trials\")\n",
    "    bold_data_reshape[:, i, :] = masked_bold[:, start:end]\n",
    "    start += trial_len\n",
    "    if start in (270, 560):\n",
    "        start += 20  # skip discarded timepoints"
   ]
  },
  {
   "cell_type": "markdown",
   "metadata": {},
   "source": [
    "Load Beta values"
   ]
  },
  {
   "cell_type": "markdown",
   "metadata": {},
   "source": [
    "Load the filtered beta values"
   ]
  },
  {
   "cell_type": "code",
   "execution_count": null,
   "metadata": {},
   "outputs": [],
   "source": [
    "glm_dict = np.load(f'TYPED_FITHRF_GLMDENOISE_RR_sub{sub}.npy', allow_pickle=True).item()\n",
    "beta_glm = glm_dict['betasmd']\n",
    "beta_run1, beta_run2 = beta_glm[:,0,0,:90], beta_glm[:,0,0,90:]\n",
    "\n",
    "if run == 1:\n",
    "    beta = beta_run1[keep_voxels]\n",
    "else:\n",
    "    beta = beta_run2[keep_voxels]\n",
    "\n",
    "nan_voxels = np.isnan(beta).all(axis=1)\n",
    "if np.any(nan_voxels):\n",
    "    beta = beta[~nan_voxels]\n",
    "    bold_data_reshape = bold_data_reshape[~nan_voxels]\n",
    "    masked_coords = tuple(coord[~nan_voxels] for coord in masked_coords)"
   ]
  },
  {
   "cell_type": "markdown",
   "metadata": {},
   "source": [
    "Load the filtered beta values"
   ]
  },
  {
   "cell_type": "markdown",
   "metadata": {},
   "source": [
    "Load the filtered beta values"
   ]
  },
  {
   "cell_type": "markdown",
   "metadata": {},
   "source": [
    "Normalize beta value / NaN trials with extremely different beta values"
   ]
  },
  {
   "cell_type": "code",
   "execution_count": 9,
   "metadata": {},
   "outputs": [],
   "source": [
    "med = np.nanmedian(beta, keepdims=True)\n",
    "mad = np.nanmedian(np.abs(beta - med), keepdims=True)\n",
    "scale = 1.4826 * np.maximum(mad, 1e-9)    \n",
    "beta_norm = (beta - med) / scale      \n",
    "thr = np.nanpercentile(np.abs(beta_norm), 99.9)\n",
    "outlier_mask = np.abs(beta_norm) > thr  \n",
    "\n",
    "\n",
    "clean_beta = beta.copy()\n",
    "voxel_outlier_fraction = np.mean(outlier_mask, axis=1)\n",
    "valid_voxels = voxel_outlier_fraction <= 0.5\n",
    "clean_beta[~valid_voxels] = np.nan\n",
    "clean_beta[np.logical_and(outlier_mask, valid_voxels[:, None])] = np.nan\n",
    "keeped_mask = ~np.all(np.isnan(clean_beta), axis=1)\n",
    "clean_beta = clean_beta[keeped_mask]\n",
    "keeped_indices = np.flatnonzero(keeped_mask)\n",
    "\n",
    "bold_data_reshape[~valid_voxels, :, :] = np.nan\n",
    "bold_data_reshape = bold_data_reshape[keeped_mask]"
   ]
  },
  {
   "cell_type": "markdown",
   "metadata": {},
   "source": [
    "Apply t-test and FDR, detect & remove non-active voxels"
   ]
  },
  {
   "cell_type": "code",
   "execution_count": 14,
   "metadata": {},
   "outputs": [
    {
     "name": "stderr",
     "output_type": "stream",
     "text": [
      "/home/zkavian/.venvs/workspace/lib/python3.10/site-packages/scipy/stats/_axis_nan_policy.py:634: RuntimeWarning: Precision loss occurred in moment calculation due to catastrophic cancellation. This occurs when the data are nearly identical. Results may be unreliable.\n",
      "  return result_to_tuple(hypotest_fun_out(*samples, **kwds), n_out)\n"
     ]
    }
   ],
   "source": [
    "# one sample t-test against 0\n",
    "tvals, pvals = ttest_1samp(clean_beta, popmean=0, axis=1, nan_policy='omit')\n",
    "\n",
    "# FDR correction\n",
    "tested = np.isfinite(pvals)\n",
    "alpha=0.05\n",
    "rej, q, _, _ = multipletests(pvals[tested], alpha=alpha, method='fdr_bh')\n",
    "\n",
    "n_voxel = clean_beta.shape[0]\n",
    "qvals  = np.full(n_voxel, np.nan)\n",
    "reject = np.zeros(n_voxel, dtype=bool)\n",
    "reject[tested] = rej\n",
    "qvals[tested]  = q\n",
    "\n",
    "# reject non-active voxels\n",
    "clean_active_beta = clean_beta[reject]\n",
    "clean_active_idx = keeped_indices[reject]\n",
    "clean_active_bold = bold_data_reshape[reject]"
   ]
  },
  {
   "cell_type": "code",
   "execution_count": 15,
   "metadata": {},
   "outputs": [],
   "source": [
    "num_trials = beta.shape[-1]\n",
    "clean_active_volume = np.full(bold_data.shape[:3]+(num_trials,), np.nan)\n",
    "active_coords = tuple(coord[clean_active_idx] for coord in masked_coords)\n",
    "clean_active_volume[active_coords[0], active_coords[1], active_coords[2], :] = clean_active_beta"
   ]
  },
  {
   "cell_type": "markdown",
   "metadata": {},
   "source": [
    "apply filter"
   ]
  },
  {
   "cell_type": "code",
   "execution_count": null,
   "metadata": {},
   "outputs": [],
   "source": [
    "%%\n",
    "def hampel_filter_image(image, window_size, threshold_factor, return_stats=False):\n",
    "    if window_size % 2 == 0:\n",
    "        raise ValueError(\"window_size must be odd\")\n",
    "\n",
    "    filtered = image.astype(float).copy()\n",
    "    footprint = np.ones((window_size,) * 3, dtype=bool)\n",
    "\n",
    "    insufficient_counts = []\n",
    "    corrected_indices_parts = []\n",
    "\n",
    "    for t in range(image.shape[3]):\n",
    "        print(f\"Trial Number: {t}\")\n",
    "        vol = image[..., t]\n",
    "        valid = np.isfinite(vol)\n",
    "\n",
    "        med = ndimage.generic_filter(vol, np.nanmedian, footprint=footprint, mode='constant', cval=np.nan)\n",
    "        mad = ndimage.generic_filter(np.abs(vol - med), np.nanmedian, footprint=footprint, mode='constant', cval=np.nan)\n",
    "        counts = ndimage.generic_filter(np.isfinite(vol).astype(np.float32), np.sum, footprint=footprint, mode='constant', cval=0)\n",
    "        neighbor_count = counts - valid.astype(np.float32)\n",
    "\n",
    "        scaled_mad = 1.4826 * mad\n",
    "        insufficient = valid & (neighbor_count < 3)\n",
    "        insufficient_counts.append(int(np.count_nonzero(insufficient)))\n",
    "        filtered[..., t][insufficient] = np.nan\n",
    "\n",
    "        enough_data = (neighbor_count >= 3) & valid\n",
    "        outliers = enough_data & (np.abs(vol - med) > threshold_factor * scaled_mad)\n",
    "\n",
    "        if np.any(outliers):\n",
    "            coords = np.argwhere(outliers)\n",
    "            t_column = np.full((coords.shape[0], 1), t, dtype=int)\n",
    "            corrected_indices_parts.append(np.hstack((coords, t_column)))\n",
    "\n",
    "        filtered[..., t][outliers] = med[outliers]\n",
    "\n",
    "    if return_stats:\n",
    "        insufficient_counts_arr = np.array(insufficient_counts, dtype=int)\n",
    "        if corrected_indices_parts:\n",
    "            corrected_indices = np.vstack(corrected_indices_parts)\n",
    "        else:\n",
    "            corrected_indices = np.empty((0, 4), dtype=int)\n",
    "\n",
    "        stats = {\n",
    "            'insufficient_counts': insufficient_counts_arr,\n",
    "            'insufficient_total': int(insufficient_counts_arr.sum()),\n",
    "            'corrected_indices': corrected_indices,\n",
    "            'corrected_total': int(corrected_indices.shape[0]),\n",
    "        }\n",
    "        return filtered, stats\n",
    "\n",
    "    return filtered"
   ]
  },
  {
   "cell_type": "markdown",
   "metadata": {},
   "source": [
    "Load the filtered beta values"
   ]
  },
  {
   "cell_type": "code",
   "execution_count": 13,
   "metadata": {},
   "outputs": [
    {
     "name": "stdout",
     "output_type": "stream",
     "text": [
      "(314734, 90)\n"
     ]
    }
   ],
   "source": [
    "beta_valume_clean_2d = np.load(f'cleaned_beta_volume_sub{sub}_ses{ses}_run{run}.npy')\n",
    "print(beta_valume_clean_2d.shape)\n",
    "mask_2d = np.load(\"mask_all_nan_sub04_ses1_run1.npy\")\n",
    "\n",
    "\n",
    "active_flat_idx = np.ravel_multi_index(active_coords, clean_active_volume.shape[:3])\n",
    "active_keep_mask = ~mask_2d[active_flat_idx]\n",
    "clean_active_bold = clean_active_bold[active_keep_mask]"
   ]
  },
  {
   "cell_type": "markdown",
   "metadata": {},
   "source": [
    "Load Behaviour"
   ]
  },
  {
   "cell_type": "code",
   "execution_count": 20,
   "metadata": {},
   "outputs": [],
   "source": [
    "def load_behavior_metrics(path, run):\n",
    "    behav_data = loadmat(path)\n",
    "    behav_metrics = behav_data[\"behav_metrics\"]\n",
    "    behav_block = np.stack(behav_metrics[0], axis=0)\n",
    "    _, _, num_metrics = behav_block.shape\n",
    "    behav_flat = behav_block.reshape(-1, num_metrics)\n",
    "    if run == 1:\n",
    "        behav_flat = behav_flat[:90, :6]\n",
    "    else:\n",
    "        behav_flat = behav_flat[90:180, :6]\n",
    "    return behav_flat\n",
    "\n",
    "behavior_matrix = load_behavior_metrics(behave_path, run)"
   ]
  },
  {
   "cell_type": "code",
   "execution_count": null,
   "metadata": {},
   "outputs": [],
   "source": []
  },
  {
   "cell_type": "code",
   "execution_count": 23,
   "metadata": {},
   "outputs": [
    {
     "name": "stdout",
     "output_type": "stream",
     "text": [
      "PCA...\n"
     ]
    }
   ],
   "source": [
    "trial_indices=None\n",
    "trial_len=trial_len \n",
    "pca_components=None \n",
    "pca_mean=None\n",
    "\n",
    "num_trials = beta_valume_clean_2d.shape[-1]\n",
    "trial_idx = np.arange(num_trials) if trial_indices is None else np.unique(np.asarray(trial_indices, int).ravel())\n",
    "behavior_subset = behavior_matrix[trial_idx]\n",
    "X_bold = clean_active_bold[:, trial_idx, :]\n",
    "\n",
    "# ----- apply PCA -----\n",
    "print(\"PCA...\", flush=True)\n",
    "X_reshap = X_bold.reshape(X_bold.shape[0], -1)\n",
    "\n",
    "if pca_components is None or pca_mean is None:\n",
    "    pca = PCA()\n",
    "    X_pca_full = pca.fit_transform(X_reshap.T)\n",
    "    components = pca.components_\n",
    "    mean = pca.mean_\n",
    "\n",
    "    cumulative_variance = np.cumsum(pca.explained_variance_ratio_)\n",
    "    n_components = np.searchsorted(cumulative_variance, 0.95) + 1\n",
    "    components = components[:n_components]\n",
    "    X_bold_pca = X_pca_full[:, :n_components]\n",
    "else:\n",
    "    components = pca_components\n",
    "    mean = pca_mean\n",
    "    n_components = components.shape[0]\n",
    "    X_centered = X_reshap.T - mean\n",
    "    X_bold_pca = (X_centered @ components.T)\n",
    "\n",
    "beta_reduced = np.nan_to_num(beta_valume_clean_2d.T - mean) @ components.T\n",
    "beta_reduced = beta_reduced.T\n",
    "\n"
   ]
  },
  {
   "cell_type": "code",
   "execution_count": 24,
   "metadata": {},
   "outputs": [
    {
     "data": {
      "text/plain": [
       "(810, 588)"
      ]
     },
     "execution_count": 24,
     "metadata": {},
     "output_type": "execute_result"
    }
   ],
   "source": [
    "X_bold_pca.shape"
   ]
  },
  {
   "cell_type": "code",
   "execution_count": 25,
   "metadata": {},
   "outputs": [
    {
     "data": {
      "text/plain": [
       "(588, 90)"
      ]
     },
     "execution_count": 25,
     "metadata": {},
     "output_type": "execute_result"
    }
   ],
   "source": [
    "beta_reduced.shape"
   ]
  },
  {
   "cell_type": "code",
   "execution_count": 47,
   "metadata": {},
   "outputs": [
    {
     "data": {
      "text/plain": [
       "[<matplotlib.lines.Line2D at 0x7260c7b99300>]"
      ]
     },
     "execution_count": 47,
     "metadata": {},
     "output_type": "execute_result"
    },
    {
     "data": {
      "image/png": "[encoded data removed]",
      "text/plain": [
       "<Figure size 640x480 with 1 Axes>"
      ]
     },
     "metadata": {},
     "output_type": "display_data"
    }
   ],
   "source": [
    "idx = np.sum(np.isnan(beta_valume_clean_2d), axis=0)\n",
    "\n",
    "plt.plot(idx[:-4])"
   ]
  },
  {
   "cell_type": "code",
   "execution_count": 42,
   "metadata": {},
   "outputs": [
    {
     "data": {
      "text/plain": [
       "np.int64(7702)"
      ]
     },
     "execution_count": 42,
     "metadata": {},
     "output_type": "execute_result"
    }
   ],
   "source": [
    "idx[-1]"
   ]
  },
  {
   "cell_type": "code",
   "execution_count": 43,
   "metadata": {},
   "outputs": [
    {
     "data": {
      "text/plain": [
       "(314734, 90)"
      ]
     },
     "execution_count": 43,
     "metadata": {},
     "output_type": "execute_result"
    }
   ],
   "source": [
    "beta_valume_clean_2d.shape"
   ]
  },
  {
   "cell_type": "code",
   "execution_count": null,
   "metadata": {},
   "outputs": [],
   "source": [
    "np.isnan(beta_valume_clean_2d)"
   ]
  },
  {
   "cell_type": "code",
   "execution_count": 37,
   "metadata": {},
   "outputs": [
    {
     "data": {
      "text/plain": [
       "array([[False, False, False, ..., False, False, False],\n",
       "       [False, False, False, ..., False, False, False],\n",
       "       [False, False, False, ..., False, False, False],\n",
       "       ...,\n",
       "       [False, False, False, ..., False, False, False],\n",
       "       [False, False, False, ..., False, False, False],\n",
       "       [False, False, False, ..., False, False, False]],\n",
       "      shape=(314734, 90))"
      ]
     },
     "execution_count": 37,
     "metadata": {},
     "output_type": "execute_result"
    }
   ],
   "source": [
    "np.isnan(beta_valume_clean_2d)"
   ]
  },
  {
   "cell_type": "code",
   "execution_count": 33,
   "metadata": {},
   "outputs": [
    {
     "data": {
      "text/plain": [
       "[<matplotlib.lines.Line2D at 0x7260c7d0d5d0>]"
      ]
     },
     "execution_count": 33,
     "metadata": {},
     "output_type": "execute_result"
    },
    {
     "data": {
      "image/png": "[encoded data removed]",
      "text/plain": [
       "<Figure size 1000x500 with 2 Axes>"
      ]
     },
     "metadata": {},
     "output_type": "display_data"
    }
   ],
   "source": [
    "fig, ax = plt.subplots(1, 2, figsize=(10,5))\n",
    "ax[0].plot(beta_reduced[0, :])\n",
    "ax[1].plot(beta_reduced[587, :])"
   ]
  },
  {
   "cell_type": "code",
   "execution_count": null,
   "metadata": {},
   "outputs": [],
   "source": [
    "def calculate_matrices(beta_valume_clean_2d, clean_active_bold, mask_2d, behavior_matrix,\n",
    "                       trial_indices=None, trial_len=trial_len, pca_components=None, pca_mean=None):\n",
    "    \n",
    "    num_trials = beta_valume_clean_2d.shape[-1]\n",
    "    trial_idx = np.arange(num_trials) if trial_indices is None else np.unique(np.asarray(trial_indices, int).ravel())\n",
    "    behavior_subset = behavior_matrix[trial_idx]\n",
    "    X = clean_active_bold[:, trial_idx, :]\n",
    "\n",
    "    # ----- apply PCA -----\n",
    "    print(\"PCA...\", flush=True)\n",
    "    X_reshap = X.reshape(X.shape[0], -1).astype(np.float32)\n",
    "\n",
    "    if pca_components is None or pca_mean is None:\n",
    "        pca = PCA()\n",
    "        X_pca_full = pca.fit_transform(X_reshap.T).astype(np.float32)\n",
    "        components = pca.components_.astype(np.float32)\n",
    "        mean = pca.mean_.astype(np.float32)\n",
    "        cumulative_variance = np.cumsum(pca.explained_variance_ratio_)\n",
    "        n_components = np.searchsorted(cumulative_variance, 0.95) + 1\n",
    "        components = components[:n_components]\n",
    "        X_pca = X_pca_full[:, :n_components]\n",
    "    else:\n",
    "        components = pca_components.astype(np.float32)\n",
    "        mean = pca_mean.astype(np.float32)\n",
    "        n_components = components.shape[0]\n",
    "        X_centered = X_reshap.T - mean\n",
    "        X_pca = (X_centered @ components.T).astype(np.float32)\n",
    "\n",
    "    beta_reduced = np.nan_to_num(beta_valume_clean_2d.T - mean) @ components.T\n",
    "    beta_reduced = beta_reduced.T\n",
    "    print(\"Beta reduced shape:\", beta_reduced.shape, flush=True)\n",
    "\n",
    "    # ----- L_task (same idea as yours) -----\n",
    "    print(\"L_task...\", flush=True)\n",
    "    beta_selected = beta_reduced[:, trial_idx]\n",
    "\n",
    "    counts = np.count_nonzero(np.isfinite(beta_selected), axis=-1)\n",
    "    sums = np.nansum(np.abs(beta_selected), axis=-1, dtype=np.float64)\n",
    "    mean_beta = np.zeros(beta_selected.shape[0], dtype=np.float32)\n",
    "    m = counts > 0\n",
    "    mean_beta[m] = (sums[m] / counts[m]).astype(np.float32)\n",
    "\n",
    "    L_task = np.zeros_like(mean_beta, dtype=np.float32)\n",
    "    v = np.abs(mean_beta) > 0 # avoid division by zero\n",
    "    L_task[v] = (1.0 / mean_beta[v]).astype(np.float32)\n",
    "\n",
    "    # ----- L_var_bold: variance of trial differences, as sparse diagonal -----\n",
    "    print(\"L_var...\", flush=True)\n",
    "    X_pca = X_pca[:, :n_components].T\n",
    "    num_trials = len(trial_idx)\n",
    "    X_bold = X_pca.reshape(X_pca.shape[0], num_trials, trial_len)\n",
    "    L_var_bold = np.zeros((X_bold.shape[0], X_bold.shape[0]), dtype=np.float32)\n",
    "\n",
    "    for i in range(num_trials-1):\n",
    "        x1 = X_bold[:, i, :]\n",
    "        x2 = X_bold[:, i+1, :]\n",
    "        L_var_bold += (x1-x2) @ (x1-x2).T\n",
    "    L_var_bold /= (num_trials - 1)\n",
    "\n",
    "    # ----- L_behavior: derived from behaviour regression weights -----\n",
    "    print(\"L_behavior...\", flush=True)\n",
    "    behavior_plot_components = {0, 1, 2}  # adjust for components of interest\n",
    "    behavior_plot_dir = \"behavior_fits\"\n",
    "    behavior_penalty, behavior_weight_avg, results = _compute_behavior_term(\n",
    "        X_bold,\n",
    "        behavior_subset,\n",
    "        plot_components=behavior_plot_components,\n",
    "        plot_dir=behavior_plot_dir,\n",
    "    )\n",
    "    print(f\"behavior_weight_avg: {behavior_weight_avg.shape}\", flush=True)\n",
    "    behavior_weight_metric = behavior_weight_avg\n",
    "    # if behavior_weight_avg.shape[1] > 1:\n",
    "    #     behavior_weight_metric = behavior_weight_avg[:, 1]\n",
    "    # else:\n",
    "    #     behavior_weight_metric = np.zeros(behavior_weight_avg.shape[0], dtype=np.float32)\n",
    "\n",
    "    L_behavior = np.zeros_like(behavior_weight_metric, dtype=np.float32)\n",
    "    valid_behav = np.isfinite(behavior_weight_metric) & (np.abs(behavior_weight_metric) > 0)\n",
    "    L_behavior[valid_behav] = (1.0 / np.abs(behavior_weight_metric[valid_behav])).astype(np.float32)\n",
    "    print(np.min(L_behavior), np.max(L_behavior), flush=True)\n",
    "\n",
    "    # ----- L_var_beta: variance of trial differences, as sparse diagonal -----\n",
    "    print(\"L_var...\", flush=True)\n",
    "    num_trials = len(trial_idx)\n",
    "    X_beta = beta_reduced\n",
    "    L_var_beta = np.zeros((X_beta.shape[0], X_beta.shape[0]), dtype=np.float32)\n",
    "    for i in range(num_trials-1):\n",
    "        x1 = X_beta[:, i]\n",
    "        x2 = X_beta[:, i+1]\n",
    "        diff = x1 - x2\n",
    "        L_var_beta += np.outer(diff, diff)  \n",
    "    L_var_beta /= (num_trials - 1)\n",
    "    \n",
    "\n",
    "    selected_BOLD_flat = X.reshape(X.shape[0], -1).astype(np.float32)\n",
    "    return (L_task, L_var_bold, L_var_beta, L_behavior, behavior_weight_avg, \n",
    "            behavior_penalty, selected_BOLD_flat, components, mean, results)\n",
    "\n"
   ]
  },
  {
   "cell_type": "code",
   "execution_count": null,
   "metadata": {},
   "outputs": [],
   "source": []
  }
 ],
 "metadata": {
  "language_info": {
   "name": "python"
  }
 },
 "nbformat": 4,
 "nbformat_minor": 2
}
