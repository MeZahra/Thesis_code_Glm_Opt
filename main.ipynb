{
 "cells": [
  {
   "cell_type": "code",
   "execution_count": 3,
   "metadata": {},
   "outputs": [],
   "source": [
    "import nibabel as nib\n",
    "import numpy as np\n",
    "from os.path import join\n",
    "import math\n",
    "import matplotlib.pyplot as plt\n",
    "from scipy.stats import ttest_1samp\n",
    "from statsmodels.stats.multitest import multipletests\n",
    "from nilearn import plotting\n",
    "from nilearn.image import resample_to_img\n",
    "import cvxpy as cp\n",
    "from sklearn.model_selection import KFold\n",
    "from itertools import product\n",
    "import scipy.io as sio\n",
    "import h5py\n",
    "from sklearn.decomposition import PCA\n",
    "import scipy.sparse as sp\n",
    "import matplotlib.ticker as mticker\n",
    "from mpl_toolkits.axes_grid1.inset_locator import inset_axes, mark_inset\n",
    "from scipy.stats import zscore\n",
    "from scipy.io import loadmat\n",
    "from scipy import ndimage"
   ]
  },
  {
   "cell_type": "code",
   "execution_count": 1,
   "metadata": {},
   "outputs": [],
   "source": [
    "ses = 1\n",
    "sub = '04'\n",
    "run = 1\n",
    "num_trials = 90\n",
    "trial_len = 9\n",
    "\n",
    "base_path = '/mnt/TeamShare/Data_Masterfile/H20-00572_All-Dressed/PRECISIONSTIM_PD_Data_Results/fMRI_preprocessed_data/Rev_pipeline/derivatives'\n",
    "anat_path = f'{base_path}/sub-pd0{sub}/ses-{ses}/anat/sub-pd0{sub}_ses-{ses}_T1w_brain.nii.gz'\n",
    "data_name = f'sub-pd0{sub}_ses-{ses}_run-{run}_task-mv_bold_corrected_smoothed_reg.nii.gz'\n",
    "mask_base = f'{base_path}/sub-pd0{sub}/ses-{ses}/anat'\n",
    "\n",
    "behaviour_metric_names = (\"PT\", \"RT\", \"MT\", \"RT+MT\", \"Vmax\", \"Pmax\")\n",
    "if ses == 1:\n",
    "    behave_path = f\"/mnt/TeamShare/Data_Masterfile/H20-00572_All-Dressed/AllDressed_WorkOnData/Sepideh/Behaviour_metrics_revised/PSPD0{sub}_OFF_behav_metrics.mat\"\n",
    "else:\n",
    "    behave_path = f\"/mnt/TeamShare/Data_Masterfile/H20-00572_All-Dressed/AllDressed_WorkOnData/Sepideh/Behaviour_metrics_revised/PSPD0{sub}_ON_behav_metrics.mat\"\n"
   ]
  },
  {
   "cell_type": "markdown",
   "metadata": {},
   "source": [
    "Loading Datasets and Masks"
   ]
  },
  {
   "cell_type": "code",
   "execution_count": 3,
   "metadata": {},
   "outputs": [],
   "source": [
    "anat_img = nib.load(anat_path) \n",
    "\n",
    "BOLD_path_org = join(base_path, f'sub-pd0{sub}', f'ses-{ses}', 'func', data_name)\n",
    "bold_img = nib.load(BOLD_path_org)\n",
    "bold_data = bold_img.get_fdata()\n",
    "\n",
    "brain_mask_path = f'{mask_base}/sub-pd0{sub}_ses-{ses}_T1w_brain_mask.nii.gz'\n",
    "brain_mask_img = nib.load(brain_mask_path)\n",
    "back_mask = brain_mask_img.get_fdata()\n",
    "\n",
    "csf_path = f'{mask_base}/sub-pd0{sub}_ses-{ses}_T1w_brain_pve_0.nii.gz'\n",
    "csf_mask = nib.load(csf_path).get_fdata()\n",
    "\n",
    "wm_path = f'{mask_base}/sub-pd0{sub}_ses-{ses}_T1w_brain_pve_1.nii.gz'\n",
    "white_mask = nib.load(wm_path).get_fdata()"
   ]
  },
  {
   "cell_type": "markdown",
   "metadata": {},
   "source": [
    "Apply Masks on Bold Dataset"
   ]
  },
  {
   "cell_type": "code",
   "execution_count": 4,
   "metadata": {},
   "outputs": [],
   "source": [
    "back_mask_data = back_mask > 0\n",
    "csf_mask_data = csf_mask > 0\n",
    "white_mask_data = white_mask > 0.5\n",
    "mask = np.logical_and(back_mask_data, ~csf_mask_data)\n",
    "nonzero_mask = np.where(mask)\n",
    "\n",
    "white_mask_flat = white_mask_data[nonzero_mask]\n",
    "keep_voxels = ~white_mask_flat\n",
    "\n",
    "bold_flat = bold_data[nonzero_mask]\n",
    "masked_bold = bold_flat[keep_voxels]\n",
    "masked_coords = tuple(ax[keep_voxels] for ax in nonzero_mask)"
   ]
  },
  {
   "cell_type": "markdown",
   "metadata": {},
   "source": [
    "Remove voxels in CSF & brain mask from the bold data"
   ]
  },
  {
   "cell_type": "code",
   "execution_count": 5,
   "metadata": {},
   "outputs": [],
   "source": [
    "\n",
    "masked_bold = masked_bold.astype(np.float32)\n",
    "num_voxels, num_timepoints = masked_bold.shape\n",
    "bold_data_reshape = np.full((num_voxels, num_trials, trial_len), np.nan, dtype=np.float32)\n",
    "\n",
    "start = 0\n",
    "for i in range(num_trials):\n",
    "    end = start + trial_len\n",
    "    if end > num_timepoints:\n",
    "        raise ValueError(\"Masked BOLD data does not contain enough timepoints for all trials\")\n",
    "    bold_data_reshape[:, i, :] = masked_bold[:, start:end]\n",
    "    start += trial_len\n",
    "    if start in (270, 560):\n",
    "        start += 20  # skip discarded timepoints"
   ]
  },
  {
   "cell_type": "markdown",
   "metadata": {},
   "source": [
    "Load Beta values"
   ]
  },
  {
   "cell_type": "markdown",
   "metadata": {},
   "source": [
    "Load the filtered beta values"
   ]
  },
  {
   "cell_type": "code",
   "execution_count": 6,
   "metadata": {},
   "outputs": [],
   "source": [
    "glm_dict = np.load(f'TYPED_FITHRF_GLMDENOISE_RR_sub{sub}.npy', allow_pickle=True).item()\n",
    "beta_glm = glm_dict['betasmd']\n",
    "beta_run1, beta_run2 = beta_glm[:,0,0,:90], beta_glm[:,0,0,90:]\n",
    "\n",
    "if run == 1:\n",
    "    beta = beta_run1[keep_voxels]\n",
    "else:\n",
    "    beta = beta_run2[keep_voxels]\n",
    "\n",
    "nan_voxels = np.isnan(beta).all(axis=1)\n",
    "if np.any(nan_voxels):\n",
    "    beta = beta[~nan_voxels]\n",
    "    bold_data_reshape = bold_data_reshape[~nan_voxels]\n",
    "    masked_coords = tuple(coord[~nan_voxels] for coord in masked_coords)\n",
    "\n",
    "# # remove last trial which have most of NaN values. \n",
    "# bold_data_reshape = bold_data_reshape[:,:-1,:]\n",
    "# beta = beta[:,:-1]"
   ]
  },
  {
   "cell_type": "markdown",
   "metadata": {},
   "source": [
    "Load the filtered beta values"
   ]
  },
  {
   "cell_type": "markdown",
   "metadata": {},
   "source": [
    "Load the filtered beta values"
   ]
  },
  {
   "cell_type": "markdown",
   "metadata": {},
   "source": [
    "Normalize beta value / NaN trials with extremely different beta values"
   ]
  },
  {
   "cell_type": "code",
   "execution_count": 10,
   "metadata": {},
   "outputs": [],
   "source": [
    "med = np.nanmedian(beta, keepdims=True)\n",
    "mad = np.nanmedian(np.abs(beta - med), keepdims=True)\n",
    "scale = 1.4826 * np.maximum(mad, 1e-9)    \n",
    "beta_norm = (beta - med) / scale      \n",
    "thr = np.nanpercentile(np.abs(beta_norm), 99.9)\n",
    "outlier_mask = np.abs(beta_norm) > thr  \n",
    "\n",
    "\n",
    "clean_beta = beta.copy()\n",
    "voxel_outlier_fraction = np.mean(outlier_mask, axis=1)\n",
    "valid_voxels = voxel_outlier_fraction <= 0.5\n",
    "clean_beta[~valid_voxels] = np.nan\n",
    "clean_beta[np.logical_and(outlier_mask, valid_voxels[:, None])] = np.nan\n",
    "keeped_mask = ~np.all(np.isnan(clean_beta), axis=1)\n",
    "clean_beta = clean_beta[keeped_mask]\n",
    "keeped_indices = np.flatnonzero(keeped_mask)\n",
    "\n",
    "bold_data_reshape[~valid_voxels, :, :] = np.nan\n",
    "trial_outliers = np.logical_and(outlier_mask, valid_voxels[:, None])\n",
    "bold_data_reshape = np.where(trial_outliers[:, :, None], np.nan, bold_data_reshape)\n",
    "bold_data_reshape = bold_data_reshape[keeped_mask]"
   ]
  },
  {
   "cell_type": "code",
   "execution_count": 12,
   "metadata": {},
   "outputs": [
    {
     "data": {
      "text/plain": [
       "(619244, 90)"
      ]
     },
     "execution_count": 12,
     "metadata": {},
     "output_type": "execute_result"
    }
   ],
   "source": [
    "clean_beta.shape"
   ]
  },
  {
   "cell_type": "code",
   "execution_count": 11,
   "metadata": {},
   "outputs": [
    {
     "data": {
      "text/plain": [
       "(619244, 90, 9)"
      ]
     },
     "execution_count": 11,
     "metadata": {},
     "output_type": "execute_result"
    }
   ],
   "source": [
    "bold_data_reshape.shape"
   ]
  },
  {
   "cell_type": "code",
   "execution_count": 13,
   "metadata": {},
   "outputs": [
    {
     "name": "stdout",
     "output_type": "stream",
     "text": [
      "Mismatch count: 0\n",
      "Beta and BOLD NaN trials line up.\n"
     ]
    }
   ],
   "source": [
    "beta_nan = np.isnan(clean_beta)                        # (voxels, trials)\n",
    "bold_nan = np.isnan(bold_data_reshape).all(axis=-1)    # collapse time axis → (voxels, trials)\n",
    "\n",
    "print(\"Mismatch count:\", np.count_nonzero(beta_nan != bold_nan))\n",
    "if np.any(beta_nan != bold_nan):\n",
    "    vox_idx, trial_idx = np.nonzero(beta_nan != bold_nan)\n",
    "    print(\"First mismatches:\", list(zip(vox_idx[:10], trial_idx[:10])))\n",
    "else:\n",
    "    print(\"Beta and BOLD NaN trials line up.\")\n"
   ]
  },
  {
   "cell_type": "markdown",
   "metadata": {},
   "source": [
    "Apply t-test and FDR, detect & remove non-active voxels"
   ]
  },
  {
   "cell_type": "code",
   "execution_count": 8,
   "metadata": {},
   "outputs": [
    {
     "name": "stderr",
     "output_type": "stream",
     "text": [
      "/home/zkavian/.venvs/workspace/lib/python3.10/site-packages/scipy/stats/_axis_nan_policy.py:634: RuntimeWarning: Precision loss occurred in moment calculation due to catastrophic cancellation. This occurs when the data are nearly identical. Results may be unreliable.\n",
      "  return result_to_tuple(hypotest_fun_out(*samples, **kwds), n_out)\n"
     ]
    }
   ],
   "source": [
    "# one sample t-test against 0\n",
    "tvals, pvals = ttest_1samp(clean_beta, popmean=0, axis=1, nan_policy='omit')\n",
    "\n",
    "# FDR correction\n",
    "tested = np.isfinite(pvals)\n",
    "alpha=0.05\n",
    "rej, q, _, _ = multipletests(pvals[tested], alpha=alpha, method='fdr_bh')\n",
    "\n",
    "n_voxel = clean_beta.shape[0]\n",
    "qvals  = np.full(n_voxel, np.nan)\n",
    "reject = np.zeros(n_voxel, dtype=bool)\n",
    "reject[tested] = rej\n",
    "qvals[tested]  = q\n",
    "\n",
    "# reject non-active voxels\n",
    "clean_active_beta = clean_beta[reject]\n",
    "clean_active_idx = keeped_indices[reject]\n",
    "clean_active_bold = bold_data_reshape[reject]"
   ]
  },
  {
   "cell_type": "code",
   "execution_count": 9,
   "metadata": {},
   "outputs": [],
   "source": [
    "num_trials = beta.shape[-1]\n",
    "clean_active_volume = np.full(bold_data.shape[:3]+(num_trials,), np.nan)\n",
    "active_coords = tuple(coord[clean_active_idx] for coord in masked_coords)\n",
    "clean_active_volume[active_coords[0], active_coords[1], active_coords[2], :] = clean_active_beta"
   ]
  },
  {
   "cell_type": "markdown",
   "metadata": {},
   "source": [
    "apply filter"
   ]
  },
  {
   "cell_type": "code",
   "execution_count": 10,
   "metadata": {},
   "outputs": [],
   "source": [
    "# def hampel_filter_image(image, window_size, threshold_factor, return_stats=False):\n",
    "#     filtered = image.astype(float).copy()\n",
    "#     footprint = np.ones((window_size,) * 3, dtype=bool)\n",
    "\n",
    "#     insufficient_counts = []\n",
    "#     corrected_indices_parts = []\n",
    "\n",
    "#     for t in range(image.shape[3]):\n",
    "#         print(f\"Trial Number: {t}\")\n",
    "#         vol = image[..., t]\n",
    "#         valid = np.isfinite(vol)\n",
    "\n",
    "#         med = ndimage.generic_filter(vol, np.nanmedian, footprint=footprint, mode='constant', cval=np.nan)\n",
    "#         mad = ndimage.generic_filter(np.abs(vol - med), np.nanmedian, footprint=footprint, mode='constant', cval=np.nan)\n",
    "#         counts = ndimage.generic_filter(np.isfinite(vol).astype(np.float32), np.sum, footprint=footprint, mode='constant', cval=0)\n",
    "#         neighbor_count = counts - valid.astype(np.float32)\n",
    "\n",
    "#         scaled_mad = 1.4826 * mad\n",
    "#         insufficient = valid & (neighbor_count < 3)\n",
    "#         insufficient_counts.append(int(np.count_nonzero(insufficient)))\n",
    "#         filtered[..., t][insufficient] = np.nan\n",
    "\n",
    "#         enough_data = (neighbor_count >= 3) & valid\n",
    "#         outliers = enough_data & (np.abs(vol - med) > threshold_factor * scaled_mad)\n",
    "\n",
    "#         if np.any(outliers):\n",
    "#             coords = np.argwhere(outliers)\n",
    "#             t_column = np.full((coords.shape[0], 1), t, dtype=int)\n",
    "#             corrected_indices_parts.append(np.hstack((coords, t_column)))\n",
    "\n",
    "#         filtered[..., t][outliers] = med[outliers]\n",
    "\n",
    "#     if return_stats:\n",
    "#         insufficient_counts_arr = np.array(insufficient_counts, dtype=int)\n",
    "#         if corrected_indices_parts:\n",
    "#             corrected_indices = np.vstack(corrected_indices_parts)\n",
    "#         else:\n",
    "#             corrected_indices = np.empty((0, 4), dtype=int)\n",
    "\n",
    "#         stats = {\n",
    "#             'insufficient_counts': insufficient_counts_arr,\n",
    "#             'insufficient_total': int(insufficient_counts_arr.sum()),\n",
    "#             'corrected_indices': corrected_indices,\n",
    "#             'corrected_total': int(corrected_indices.shape[0]),\n",
    "#         }\n",
    "#         return filtered, stats\n",
    "\n",
    "#     return filtered\n",
    "\n",
    "# beta_volume_filter, hampel_stats = hampel_filter_image(clean_active_volume, window_size=5, threshold_factor=3, return_stats=True)\n",
    "# print('Insufficient neighbours per frame:', hampel_stats['insufficient_counts'], flush=True)\n",
    "# print('Total voxels with <3 neighbours:', hampel_stats['insufficient_total'], flush=True)\n",
    "# print('Total corrected voxels:', hampel_stats['corrected_total'], flush=True)\n",
    "\n",
    "# beta_volume_filter = beta_volume_filter[~np.all(np.isnan(beta_volume_filter), axis=-1)]\n",
    "# np.save(f'cleaned_beta_volume_sub{sub}_ses{ses}_run{run}.npy', beta_volume_filter)\n"
   ]
  },
  {
   "cell_type": "markdown",
   "metadata": {},
   "source": [
    "Load the filtered beta values"
   ]
  },
  {
   "cell_type": "code",
   "execution_count": 10,
   "metadata": {},
   "outputs": [],
   "source": [
    "beta_valume_clean_2d = np.load(f'cleaned_beta_volume_sub{sub}_ses{ses}_run{run}.npy')\n",
    "mask_2d = np.load(\"mask_all_nan_sub04_ses1_run1.npy\")\n",
    "\n",
    "\n",
    "active_flat_idx = np.ravel_multi_index(active_coords, clean_active_volume.shape[:3])\n",
    "active_keep_mask = ~mask_2d[active_flat_idx]\n",
    "clean_active_bold = clean_active_bold[active_keep_mask]"
   ]
  },
  {
   "cell_type": "code",
   "execution_count": 46,
   "metadata": {},
   "outputs": [
    {
     "data": {
      "text/plain": [
       "(314734, 90)"
      ]
     },
     "execution_count": 46,
     "metadata": {},
     "output_type": "execute_result"
    }
   ],
   "source": [
    "beta_valume_clean_2d.shape"
   ]
  },
  {
   "cell_type": "markdown",
   "metadata": {},
   "source": [
    "Load Behaviour"
   ]
  },
  {
   "cell_type": "code",
   "execution_count": 4,
   "metadata": {},
   "outputs": [],
   "source": [
    "def load_behavior_metrics(path, run):\n",
    "    behav_data = loadmat(path)\n",
    "    behav_metrics = behav_data[\"behav_metrics\"]\n",
    "    behav_block = np.stack(behav_metrics[0], axis=0)\n",
    "    _, _, num_metrics = behav_block.shape\n",
    "    behav_flat = behav_block.reshape(-1, num_metrics)\n",
    "    if run == 1:\n",
    "        behav_flat = behav_flat[:90, :6]\n",
    "    else:\n",
    "        behav_flat = behav_flat[90:180, :6]\n",
    "    return behav_flat\n",
    "\n",
    "behavior_matrix = load_behavior_metrics(behave_path, run)"
   ]
  },
  {
   "cell_type": "code",
   "execution_count": 5,
   "metadata": {},
   "outputs": [
    {
     "data": {
      "text/plain": [
       "'/mnt/TeamShare/Data_Masterfile/H20-00572_All-Dressed/AllDressed_WorkOnData/Sepideh/Behaviour_metrics_revised/PSPD004_OFF_behav_metrics.mat'"
      ]
     },
     "execution_count": 5,
     "metadata": {},
     "output_type": "execute_result"
    }
   ],
   "source": [
    "behave_path"
   ]
  },
  {
   "cell_type": "markdown",
   "metadata": {},
   "source": [
    "PCA (run main_pca.py)"
   ]
  },
  {
   "cell_type": "code",
   "execution_count": 6,
   "metadata": {},
   "outputs": [
    {
     "data": {
      "text/plain": [
       "dict_keys(['eigvec', 'nvec', 'data', 'weights', 'nobs', 'nvar', 'coeff', 'model', 'dof', '_unmasked', '_unmasked_data_var'])"
      ]
     },
     "execution_count": 6,
     "metadata": {},
     "output_type": "execute_result"
    }
   ],
   "source": [
    "import numpy as np\n",
    "pca_model = np.load('empca_model_sub04_ses1_run1.npy', allow_pickle=True).item()\n",
    "pca_model.__dict__.keys()"
   ]
  },
  {
   "cell_type": "code",
   "execution_count": 7,
   "metadata": {},
   "outputs": [
    {
     "data": {
      "text/plain": [
       "(314734, 700)"
      ]
     },
     "execution_count": 7,
     "metadata": {},
     "output_type": "execute_result"
    }
   ],
   "source": [
    "z = pca_model.coeff\n",
    "z.shape"
   ]
  },
  {
   "cell_type": "code",
   "execution_count": null,
   "metadata": {},
   "outputs": [],
   "source": []
  },
  {
   "cell_type": "code",
   "execution_count": 8,
   "metadata": {},
   "outputs": [
    {
     "data": {
      "text/plain": [
       "(314734, 810)"
      ]
     },
     "execution_count": 8,
     "metadata": {},
     "output_type": "execute_result"
    }
   ],
   "source": [
    "data = pca_model.data\n",
    "data.shape"
   ]
  },
  {
   "cell_type": "code",
   "execution_count": 3,
   "metadata": {},
   "outputs": [
    {
     "data": {
      "text/plain": [
       "(700, 810)"
      ]
     },
     "execution_count": 3,
     "metadata": {},
     "output_type": "execute_result"
    }
   ],
   "source": [
    "eigvecs = pca_model.eigvec\n",
    "eigvecs.shape"
   ]
  },
  {
   "cell_type": "code",
   "execution_count": 9,
   "metadata": {},
   "outputs": [
    {
     "data": {
      "text/plain": [
       "[<matplotlib.lines.Line2D at 0x7f682d55baf0>]"
      ]
     },
     "execution_count": 9,
     "metadata": {},
     "output_type": "execute_result"
    },
    {
     "data": {
      "image/png": "[encoded data removed]",
      "text/plain": [
       "<Figure size 640x480 with 1 Axes>"
      ]
     },
     "metadata": {},
     "output_type": "display_data"
    }
   ],
   "source": [
    "import matplotlib.pyplot as plt\n",
    "plt.plot(eigvecs[:, 1])"
   ]
  },
  {
   "cell_type": "code",
   "execution_count": null,
   "metadata": {},
   "outputs": [],
   "source": [
    "for i in range(pca_model.nvec):\n",
    "    print(pca_model.R2vec(i))"
   ]
  },
  {
   "cell_type": "code",
   "execution_count": 21,
   "metadata": {},
   "outputs": [],
   "source": [
    "# def prepare_for_empca(data):\n",
    "#     print(data.shape)\n",
    "#     W = np.isfinite(data).astype(float)\n",
    "#     Y = np.where(np.isfinite(data), data, 0.0)\n",
    "\n",
    "#     col_sum = (Y * W).sum(axis=0)\n",
    "#     print(col_sum.shape)\n",
    "#     col_count = W.sum(axis=0)\n",
    "#     col_mean = np.divide(col_sum, col_count, out=np.zeros_like(col_sum), where=col_count>0)\n",
    "#     Yc = Y - col_mean\n",
    "#     return Yc, W\n",
    "\n",
    "def prepare_for_empca(data):\n",
    "    W = np.isfinite(data).astype(float)\n",
    "    Y = np.where(np.isfinite(data), data, 0.0)\n",
    "\n",
    "    row_weight = W.sum(axis=0, keepdims=True)\n",
    "    mean = np.divide((Y * W).sum(axis=0, keepdims=True), row_weight, out=np.zeros_like(row_weight), where=row_weight > 0)\n",
    "    centered = Y - mean\n",
    "\n",
    "    var = np.divide((W * centered**2).sum(axis=0, keepdims=True), row_weight, out=np.zeros_like(row_weight), where=row_weight > 0)\n",
    "    scale = np.sqrt(var)\n",
    "\n",
    "    z = np.divide(centered, np.maximum(scale, 1e-6), out=np.zeros_like(centered), where=row_weight > 0)\n",
    "    return z, W"
   ]
  },
  {
   "cell_type": "code",
   "execution_count": 22,
   "metadata": {},
   "outputs": [
    {
     "name": "stdout",
     "output_type": "stream",
     "text": [
      "PCA...\n"
     ]
    },
    {
     "data": {
      "text/plain": [
       "(314734, 810)"
      ]
     },
     "execution_count": 22,
     "metadata": {},
     "output_type": "execute_result"
    }
   ],
   "source": [
    "trial_indices=None\n",
    "trial_len=trial_len \n",
    "pca_components=None \n",
    "pca_mean=None\n",
    "\n",
    "num_trials = beta_valume_clean_2d.shape[-1]\n",
    "trial_idx = np.arange(num_trials) if trial_indices is None else np.unique(np.asarray(trial_indices, int).ravel())\n",
    "behavior_subset = behavior_matrix[trial_idx]\n",
    "X_bold = clean_active_bold[:, trial_idx, :]\n",
    "\n",
    "# ----- apply PCA -----\n",
    "print(\"PCA...\", flush=True)\n",
    "X_reshap = X_bold.reshape(X_bold.shape[0], -1)\n",
    "X_reshap.shape"
   ]
  },
  {
   "cell_type": "code",
   "execution_count": null,
   "metadata": {},
   "outputs": [
    {
     "data": {
      "text/plain": [
       "(810, 314734)"
      ]
     },
     "metadata": {},
     "output_type": "display_data"
    }
   ],
   "source": [
    "W.shape"
   ]
  },
  {
   "cell_type": "code",
   "execution_count": 23,
   "metadata": {},
   "outputs": [],
   "source": [
    "Yc, W = prepare_for_empca(X_reshap.T)\n",
    "\n",
    "from empca.empca import empca\n",
    "# m = empca(Yc, W, nvec=600)"
   ]
  },
  {
   "cell_type": "code",
   "execution_count": null,
   "metadata": {},
   "outputs": [],
   "source": [
    "z = m.coeff\n",
    "z.shape"
   ]
  },
  {
   "cell_type": "code",
   "execution_count": 45,
   "metadata": {},
   "outputs": [
    {
     "data": {
      "text/plain": [
       "(array([], dtype=int64), array([], dtype=int64))"
      ]
     },
     "execution_count": 45,
     "metadata": {},
     "output_type": "execute_result"
    }
   ],
   "source": [
    "tmp = np.isnan(X_reshap.T)\n",
    "np.where(tmp==True)"
   ]
  },
  {
   "cell_type": "code",
   "execution_count": 41,
   "metadata": {},
   "outputs": [
    {
     "data": {
      "text/plain": [
       "(810, 314734)"
      ]
     },
     "execution_count": 41,
     "metadata": {},
     "output_type": "execute_result"
    }
   ],
   "source": [
    "tmp.shape"
   ]
  },
  {
   "cell_type": "code",
   "execution_count": 35,
   "metadata": {},
   "outputs": [
    {
     "data": {
      "text/plain": [
       "numpy.ndarray"
      ]
     },
     "execution_count": 35,
     "metadata": {},
     "output_type": "execute_result"
    }
   ],
   "source": [
    "type(W)"
   ]
  },
  {
   "cell_type": "code",
   "execution_count": null,
   "metadata": {},
   "outputs": [
    {
     "data": {
      "text/plain": [
       "(810, 314734)"
      ]
     },
     "metadata": {},
     "output_type": "display_data"
    }
   ],
   "source": [
    "W.shape"
   ]
  },
  {
   "cell_type": "code",
   "execution_count": 24,
   "metadata": {},
   "outputs": [
    {
     "data": {
      "text/plain": [
       "(810, 314734)"
      ]
     },
     "execution_count": 24,
     "metadata": {},
     "output_type": "execute_result"
    }
   ],
   "source": [
    "W.shape"
   ]
  },
  {
   "cell_type": "code",
   "execution_count": 25,
   "metadata": {},
   "outputs": [
    {
     "data": {
      "text/plain": [
       "(810, 314734)"
      ]
     },
     "execution_count": 25,
     "metadata": {},
     "output_type": "execute_result"
    }
   ],
   "source": [
    "Yc.shape"
   ]
  },
  {
   "cell_type": "code",
   "execution_count": null,
   "metadata": {},
   "outputs": [],
   "source": [
    "# per-component variance explained\n",
    "for i in range(m.eigvec.shape[1]):\n",
    "    print(f\"PC{i+1} R2 = {m.R2vec(i):.4f}\")"
   ]
  },
  {
   "cell_type": "code",
   "execution_count": 12,
   "metadata": {},
   "outputs": [],
   "source": [
    "import numpy as np\n",
    "m = np.load('empca_model_sub04_ses1_run1.npy', allow_pickle=True).item()"
   ]
  },
  {
   "cell_type": "code",
   "execution_count": 16,
   "metadata": {},
   "outputs": [
    {
     "data": {
      "text/plain": [
       "dict_keys(['eigvec', 'nvec', 'data', 'weights', 'nobs', 'nvar', 'coeff', 'model', 'dof', '_unmasked', '_unmasked_data_var'])"
      ]
     },
     "execution_count": 16,
     "metadata": {},
     "output_type": "execute_result"
    }
   ],
   "source": [
    "m.__dict__.keys()"
   ]
  },
  {
   "cell_type": "code",
   "execution_count": 22,
   "metadata": {},
   "outputs": [
    {
     "data": {
      "text/plain": [
       "(600, 314734)"
      ]
     },
     "execution_count": 22,
     "metadata": {},
     "output_type": "execute_result"
    }
   ],
   "source": [
    "m.eigvec.shape"
   ]
  },
  {
   "cell_type": "code",
   "execution_count": 23,
   "metadata": {},
   "outputs": [
    {
     "data": {
      "text/plain": [
       "[<matplotlib.lines.Line2D at 0x7393f830e920>]"
      ]
     },
     "execution_count": 23,
     "metadata": {},
     "output_type": "execute_result"
    },
    {
     "data": {
      "image/png": "[encoded data removed]",
      "text/plain": [
       "<Figure size 640x480 with 1 Axes>"
      ]
     },
     "metadata": {},
     "output_type": "display_data"
    }
   ],
   "source": [
    "import matplotlib.pyplot as plt\n",
    "\n",
    "plt.plot(m.eigvec[0,:], label='PC1')"
   ]
  },
  {
   "cell_type": "code",
   "execution_count": null,
   "metadata": {},
   "outputs": [
    {
     "data": {
      "text/plain": [
       "[<matplotlib.lines.Line2D at 0x7393fb487940>]"
      ]
     },
     "metadata": {},
     "output_type": "display_data"
    },
    {
     "data": {
      "image/png": "[encoded data removed]",
      "text/plain": [
       "<Figure size 640x480 with 1 Axes>"
      ]
     },
     "metadata": {},
     "output_type": "display_data"
    }
   ],
   "source": [
    "import matplotlib.pyplot as plt\n",
    "\n",
    "plt.plot(m.coeff[:,599], label='PC1')"
   ]
  },
  {
   "cell_type": "code",
   "execution_count": null,
   "metadata": {},
   "outputs": [],
   "source": []
  },
  {
   "cell_type": "code",
   "execution_count": null,
   "metadata": {},
   "outputs": [],
   "source": []
  },
  {
   "cell_type": "code",
   "execution_count": null,
   "metadata": {},
   "outputs": [],
   "source": [
    "# add code to generate BOLD, Beta, Behaviour Data in PCA space"
   ]
  },
  {
   "cell_type": "code",
   "execution_count": null,
   "metadata": {},
   "outputs": [],
   "source": [
    "# check dimension of variables below"
   ]
  },
  {
   "cell_type": "code",
   "execution_count": null,
   "metadata": {},
   "outputs": [],
   "source": [
    "def matrices_func(beta_pca, bold_pca, behave_pca, mask_2d, trial_indices=None, trial_len=trial_len, num_trials=90):\n",
    "    # reshape beta_pca, bold_pca, behave_pca if it is necessary\n",
    "    bold_pca_reshape = bold_pca.reshape(bold_pca.shape[0], num_trials, trial_len)\n",
    "\n",
    "    trial_idx = np.arange(num_trials) if trial_indices is None else np.unique(np.asarray(trial_indices, int).ravel())\n",
    "\n",
    "    # select trials\n",
    "    behavior_selected = behave_pca[trial_idx]\n",
    "    beta_selected = beta_pca[:, trial_idx]\n",
    "\n",
    "    # ----- L_task (same idea as yours) -----\n",
    "    print(\"L_task...\", flush=True)\n",
    "    counts = np.count_nonzero(np.isfinite(beta_selected), axis=-1)\n",
    "    sums = np.nansum(np.abs(beta_selected), axis=-1, dtype=np.float32)\n",
    "    mean_beta = np.zeros(beta_selected.shape[0], dtype=np.float32)\n",
    "    m = counts > 0\n",
    "    mean_beta[m] = (sums[m] / counts[m]).astype(np.float32)\n",
    "\n",
    "    L_task = np.zeros_like(mean_beta, dtype=np.float32)\n",
    "    v = np.abs(mean_beta) > 0 # avoid division by zero\n",
    "    L_task[v] = (1.0 / mean_beta[v]).astype(np.float32)\n",
    "\n",
    "    # ----- L_var_bold: variance of trial differences, as sparse diagonal -----\n",
    "    print(\"L_var...\", flush=True)\n",
    "    L_var_bold = np.zeros((bold_pca_reshape.shape[0], bold_pca_reshape.shape[0]), dtype=np.float32)\n",
    "\n",
    "    for i in range(num_trials-1):\n",
    "        x1 = bold_pca_reshape[:, i, :]\n",
    "        x2 = bold_pca_reshape[:, i+1, :]\n",
    "        L_var_bold += (x1-x2) @ (x1-x2).T\n",
    "    L_var_bold /= (num_trials - 1)\n",
    "\n",
    "    # ----- L_behavior: derived from behaviour regression weights -----\n",
    "    print(\"L_behavior...\", flush=True)\n",
    "    L_behavior = np.zeros_like(behavior_selected, dtype=np.float32)\n",
    "    valid_behav = np.isfinite(behavior_selected)\n",
    "    L_behavior[valid_behav] = (1.0 / np.abs(behavior_selected[valid_behav])).astype(np.float32)\n",
    "\n",
    "    # ----- L_var_beta: variance of trial differences, as sparse diagonal -----\n",
    "    print(\"L_var...\", flush=True)\n",
    "    L_var_beta = np.zeros((beta_selected.shape[0], beta_selected.shape[0]), dtype=np.float32)\n",
    "    for i in range(num_trials-1):\n",
    "        x1 = beta_selected[:, i]\n",
    "        x2 = beta_selected[:, i+1]\n",
    "        diff = x1 - x2\n",
    "        L_var_beta += np.outer(diff, diff)  \n",
    "    L_var_beta /= (num_trials - 1)\n",
    "\n",
    "    return L_task, L_var_bold, L_var_beta, L_behavior"
   ]
  },
  {
   "cell_type": "code",
   "execution_count": null,
   "metadata": {},
   "outputs": [],
   "source": []
  },
  {
   "cell_type": "code",
   "execution_count": null,
   "metadata": {},
   "outputs": [],
   "source": []
  },
  {
   "cell_type": "code",
   "execution_count": null,
   "metadata": {},
   "outputs": [],
   "source": [
    "def optm_func(L_task, L_var_bold, L_var_beta, alpha_bold, alpha_beta, L_behavior, alpha_beh, grad_norm_iters=5):\n",
    "    print(\"Optimizing voxel weights...\", flush=True)\n",
    "\n",
    "    (L_task_scaled, L_var_bold_scaled, L_var_beta_scaled, L_behavior_scaled) = _normalize_terms(L_task, L_var_bold, L_var_beta, L_behavior)\n",
    "\n",
    "    # lambda_floor = 3e-2\n",
    "    # if L_var_beta_scaled.ndim == 2:\n",
    "    #     L_var_beta_scaled = L_var_beta_scaled + lambda_floor * np.eye(L_var_beta_scaled.shape[0], dtype=L_var_beta.dtype)\n",
    "    # else:\n",
    "    #     L_var_beta_scaled = L_var_beta_scaled + lambda_floor\n",
    "\n",
    "    L_task_diag = np.diag(L_task_scaled)\n",
    "    L_behavior_diag = np.diag(L_behavior_scaled)\n",
    "    \n",
    "\n",
    "    L_total = L_task_diag + alpha_bold * L_var_bold_scaled + alpha_beta * L_var_beta_scaled + alpha_beh * L_behavior_diag\n",
    "    print(f\"Is there any NaN in L_total? {np.isnan(L_total).any()}\", flush=True)\n",
    "    L_total = 0.5 * (L_total + L_total.T)\n",
    "    L_total += 1e-8 * np.eye(L_total.shape[0])\n",
    "    print(f\"range L_total: {np.min(L_total)}, {np.max(L_total)}\", flush=True)\n",
    "\n",
    "    w_var = cp.Variable(L_total.shape[0], nonneg=True)\n",
    "    constraints = [cp.sum(w_var) == 1]\n",
    "    objective = cp.Minimize(cp.quad_form(w_var, cp.psd_wrap(L_total)))\n",
    "    problem = cp.Problem(objective, constraints)\n",
    "    problem.solve(solver=cp.OSQP, verbose=True)\n",
    "\n",
    "    return w_var.value"
   ]
  },
  {
   "cell_type": "code",
   "execution_count": null,
   "metadata": {},
   "outputs": [],
   "source": []
  }
 ],
 "metadata": {
  "language_info": {
   "name": "python"
  }
 },
 "nbformat": 4,
 "nbformat_minor": 2
}
