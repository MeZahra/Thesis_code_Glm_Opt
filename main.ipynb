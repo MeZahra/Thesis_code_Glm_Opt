{
 "cells": [
  {
   "cell_type": "code",
   "execution_count": 1,
   "metadata": {},
   "outputs": [],
   "source": [
    "import nibabel as nib\n",
    "import numpy as np\n",
    "from os.path import join\n",
    "import math\n",
    "import matplotlib.pyplot as plt\n",
    "from scipy.stats import ttest_1samp\n",
    "from statsmodels.stats.multitest import multipletests\n",
    "from nilearn import plotting\n",
    "from nilearn.image import resample_to_img\n",
    "import cvxpy as cp\n",
    "from sklearn.model_selection import KFold\n",
    "from itertools import product\n",
    "import scipy.io as sio\n",
    "import h5py\n",
    "from sklearn.decomposition import PCA\n",
    "import scipy.sparse as sp\n",
    "import matplotlib.ticker as mticker\n",
    "from mpl_toolkits.axes_grid1.inset_locator import inset_axes, mark_inset\n",
    "from scipy.stats import zscore\n",
    "from scipy.io import loadmat\n",
    "from scipy import ndimage"
   ]
  },
  {
   "cell_type": "code",
   "execution_count": 2,
   "metadata": {},
   "outputs": [],
   "source": [
    "ses = 1\n",
    "sub = '04'\n",
    "run = 1\n",
    "num_trials = 90\n",
    "trial_len = 9\n",
    "\n",
    "base_path = '/mnt/TeamShare/Data_Masterfile/H20-00572_All-Dressed/PRECISIONSTIM_PD_Data_Results/fMRI_preprocessed_data/Rev_pipeline/derivatives'\n",
    "anat_path = f'{base_path}/sub-pd0{sub}/ses-{ses}/anat/sub-pd0{sub}_ses-{ses}_T1w_brain.nii.gz'\n",
    "data_name = f'sub-pd0{sub}_ses-{ses}_run-{run}_task-mv_bold_corrected_smoothed_reg.nii.gz'\n",
    "mask_base = f'{base_path}/sub-pd0{sub}/ses-{ses}/anat'\n",
    "\n",
    "behaviour_metric_names = (\"PT\", \"RT\", \"MT\", \"RT+MT\", \"Vmax\", \"Pmax\")\n",
    "if ses == 1:\n",
    "    behave_path = f\"/mnt/TeamShare/Data_Masterfile/H20-00572_All-Dressed/AllDressed_WorkOnData/Sepideh/Behaviour_metrics_revised/PSPD0{sub}_OFF_behav_metrics.mat\"\n",
    "else:\n",
    "    behave_path = f\"/mnt/TeamShare/Data_Masterfile/H20-00572_All-Dressed/AllDressed_WorkOnData/Sepideh/Behaviour_metrics_revised/PSPD0{sub}_ON_behav_metrics.mat\"\n"
   ]
  },
  {
   "cell_type": "markdown",
   "metadata": {},
   "source": [
    "Loading Datasets and Masks"
   ]
  },
  {
   "cell_type": "code",
   "execution_count": 3,
   "metadata": {},
   "outputs": [],
   "source": [
    "anat_img = nib.load(anat_path) \n",
    "\n",
    "BOLD_path_org = join(base_path, f'sub-pd0{sub}', f'ses-{ses}', 'func', data_name)\n",
    "bold_img = nib.load(BOLD_path_org)\n",
    "bold_data = bold_img.get_fdata()\n",
    "\n",
    "brain_mask_path = f'{mask_base}/sub-pd0{sub}_ses-{ses}_T1w_brain_mask.nii.gz'\n",
    "brain_mask_img = nib.load(brain_mask_path)\n",
    "back_mask = brain_mask_img.get_fdata()\n",
    "\n",
    "csf_path = f'{mask_base}/sub-pd0{sub}_ses-{ses}_T1w_brain_pve_0.nii.gz'\n",
    "csf_mask = nib.load(csf_path).get_fdata()\n",
    "\n",
    "wm_path = f'{mask_base}/sub-pd0{sub}_ses-{ses}_T1w_brain_pve_1.nii.gz'\n",
    "white_mask = nib.load(wm_path).get_fdata()"
   ]
  },
  {
   "cell_type": "markdown",
   "metadata": {},
   "source": [
    "Apply Masks on Bold Dataset"
   ]
  },
  {
   "cell_type": "code",
   "execution_count": 4,
   "metadata": {},
   "outputs": [],
   "source": [
    "back_mask_data = back_mask > 0\n",
    "csf_mask_data = csf_mask > 0\n",
    "white_mask_data = white_mask > 0.5\n",
    "mask = np.logical_and(back_mask_data, ~csf_mask_data)\n",
    "nonzero_mask = np.where(mask)\n",
    "\n",
    "white_mask_flat = white_mask_data[nonzero_mask]\n",
    "keep_voxels = ~white_mask_flat\n",
    "\n",
    "bold_flat = bold_data[nonzero_mask]\n",
    "masked_bold = bold_flat[keep_voxels]\n",
    "masked_coords = tuple(ax[keep_voxels] for ax in nonzero_mask)"
   ]
  },
  {
   "cell_type": "markdown",
   "metadata": {},
   "source": [
    "Remove voxels in CSF & brain mask from the bold data"
   ]
  },
  {
   "cell_type": "code",
   "execution_count": 5,
   "metadata": {},
   "outputs": [],
   "source": [
    "\n",
    "masked_bold = masked_bold.astype(np.float32)\n",
    "num_voxels, num_timepoints = masked_bold.shape\n",
    "bold_data_reshape = np.full((num_voxels, num_trials, trial_len), np.nan, dtype=np.float32)\n",
    "\n",
    "start = 0\n",
    "for i in range(num_trials):\n",
    "    end = start + trial_len\n",
    "    if end > num_timepoints:\n",
    "        raise ValueError(\"Masked BOLD data does not contain enough timepoints for all trials\")\n",
    "    bold_data_reshape[:, i, :] = masked_bold[:, start:end]\n",
    "    start += trial_len\n",
    "    if start in (270, 560):\n",
    "        start += 20  # skip discarded timepoints"
   ]
  },
  {
   "cell_type": "markdown",
   "metadata": {},
   "source": [
    "Load Beta values"
   ]
  },
  {
   "cell_type": "markdown",
   "metadata": {},
   "source": [
    "Load the filtered beta values"
   ]
  },
  {
   "cell_type": "code",
   "execution_count": 6,
   "metadata": {},
   "outputs": [],
   "source": [
    "glm_dict = np.load(f'TYPED_FITHRF_GLMDENOISE_RR_sub{sub}.npy', allow_pickle=True).item()\n",
    "beta_glm = glm_dict['betasmd']\n",
    "beta_run1, beta_run2 = beta_glm[:,0,0,:90], beta_glm[:,0,0,90:]\n",
    "\n",
    "if run == 1:\n",
    "    beta = beta_run1[keep_voxels]\n",
    "else:\n",
    "    beta = beta_run2[keep_voxels]\n",
    "\n",
    "nan_voxels = np.isnan(beta).all(axis=1)\n",
    "if np.any(nan_voxels):\n",
    "    beta = beta[~nan_voxels]\n",
    "    bold_data_reshape = bold_data_reshape[~nan_voxels]\n",
    "    masked_coords = tuple(coord[~nan_voxels] for coord in masked_coords)\n",
    "\n",
    "# # remove last trial which have most of NaN values. \n",
    "# bold_data_reshape = bold_data_reshape[:,:-1,:]\n",
    "# beta = beta[:,:-1]"
   ]
  },
  {
   "cell_type": "markdown",
   "metadata": {},
   "source": [
    "Load the filtered beta values"
   ]
  },
  {
   "cell_type": "markdown",
   "metadata": {},
   "source": [
    "Load the filtered beta values"
   ]
  },
  {
   "cell_type": "markdown",
   "metadata": {},
   "source": [
    "Normalize beta value / NaN trials with extremely different beta values"
   ]
  },
  {
   "cell_type": "code",
   "execution_count": 7,
   "metadata": {},
   "outputs": [],
   "source": [
    "med = np.nanmedian(beta, keepdims=True)\n",
    "mad = np.nanmedian(np.abs(beta - med), keepdims=True)\n",
    "scale = 1.4826 * np.maximum(mad, 1e-9)    \n",
    "beta_norm = (beta - med) / scale      \n",
    "thr = np.nanpercentile(np.abs(beta_norm), 99.9)\n",
    "outlier_mask = np.abs(beta_norm) > thr  \n",
    "\n",
    "\n",
    "clean_beta = beta.copy()\n",
    "voxel_outlier_fraction = np.mean(outlier_mask, axis=1)\n",
    "valid_voxels = voxel_outlier_fraction <= 0.5\n",
    "clean_beta[~valid_voxels] = np.nan\n",
    "clean_beta[np.logical_and(outlier_mask, valid_voxels[:, None])] = np.nan\n",
    "keeped_mask = ~np.all(np.isnan(clean_beta), axis=1)\n",
    "clean_beta = clean_beta[keeped_mask]\n",
    "keeped_indices = np.flatnonzero(keeped_mask)\n",
    "\n",
    "bold_data_reshape[~valid_voxels, :, :] = np.nan\n",
    "trial_outliers = np.logical_and(outlier_mask, valid_voxels[:, None])\n",
    "bold_data_reshape = np.where(trial_outliers[:, :, None], np.nan, bold_data_reshape)\n",
    "bold_data_reshape = bold_data_reshape[keeped_mask]"
   ]
  },
  {
   "cell_type": "markdown",
   "metadata": {},
   "source": [
    "Apply t-test and FDR, detect & remove non-active voxels"
   ]
  },
  {
   "cell_type": "code",
   "execution_count": 8,
   "metadata": {},
   "outputs": [
    {
     "name": "stderr",
     "output_type": "stream",
     "text": [
      "/home/zkavian/.venvs/workspace/lib/python3.10/site-packages/scipy/stats/_axis_nan_policy.py:634: RuntimeWarning: Precision loss occurred in moment calculation due to catastrophic cancellation. This occurs when the data are nearly identical. Results may be unreliable.\n",
      "  return result_to_tuple(hypotest_fun_out(*samples, **kwds), n_out)\n"
     ]
    }
   ],
   "source": [
    "# one sample t-test against 0\n",
    "tvals, pvals = ttest_1samp(clean_beta, popmean=0, axis=1, nan_policy='omit')\n",
    "\n",
    "# FDR correction\n",
    "tested = np.isfinite(pvals)\n",
    "alpha=0.05\n",
    "rej, q, _, _ = multipletests(pvals[tested], alpha=alpha, method='fdr_bh')\n",
    "\n",
    "n_voxel = clean_beta.shape[0]\n",
    "qvals  = np.full(n_voxel, np.nan)\n",
    "reject = np.zeros(n_voxel, dtype=bool)\n",
    "reject[tested] = rej\n",
    "qvals[tested]  = q\n",
    "\n",
    "# reject non-active voxels\n",
    "clean_active_beta = clean_beta[reject]\n",
    "clean_active_idx = keeped_indices[reject]\n",
    "clean_active_bold = bold_data_reshape[reject]"
   ]
  },
  {
   "cell_type": "code",
   "execution_count": 9,
   "metadata": {},
   "outputs": [],
   "source": [
    "num_trials = beta.shape[-1]\n",
    "clean_active_volume = np.full(bold_data.shape[:3]+(num_trials,), np.nan)\n",
    "active_coords = tuple(coord[clean_active_idx] for coord in masked_coords)\n",
    "clean_active_volume[active_coords[0], active_coords[1], active_coords[2], :] = clean_active_beta"
   ]
  },
  {
   "cell_type": "markdown",
   "metadata": {},
   "source": [
    "apply filter"
   ]
  },
  {
   "cell_type": "code",
   "execution_count": 10,
   "metadata": {},
   "outputs": [],
   "source": [
    "# def hampel_filter_image(image, window_size, threshold_factor, return_stats=False):\n",
    "#     filtered = image.astype(float).copy()\n",
    "#     footprint = np.ones((window_size,) * 3, dtype=bool)\n",
    "\n",
    "#     insufficient_counts = []\n",
    "#     corrected_indices_parts = []\n",
    "\n",
    "#     for t in range(image.shape[3]):\n",
    "#         print(f\"Trial Number: {t}\")\n",
    "#         vol = image[..., t]\n",
    "#         valid = np.isfinite(vol)\n",
    "\n",
    "#         med = ndimage.generic_filter(vol, np.nanmedian, footprint=footprint, mode='constant', cval=np.nan)\n",
    "#         mad = ndimage.generic_filter(np.abs(vol - med), np.nanmedian, footprint=footprint, mode='constant', cval=np.nan)\n",
    "#         counts = ndimage.generic_filter(np.isfinite(vol).astype(np.float32), np.sum, footprint=footprint, mode='constant', cval=0)\n",
    "#         neighbor_count = counts - valid.astype(np.float32)\n",
    "\n",
    "#         scaled_mad = 1.4826 * mad\n",
    "#         insufficient = valid & (neighbor_count < 3)\n",
    "#         insufficient_counts.append(int(np.count_nonzero(insufficient)))\n",
    "#         filtered[..., t][insufficient] = np.nan\n",
    "\n",
    "#         enough_data = (neighbor_count >= 3) & valid\n",
    "#         outliers = enough_data & (np.abs(vol - med) > threshold_factor * scaled_mad)\n",
    "\n",
    "#         if np.any(outliers):\n",
    "#             coords = np.argwhere(outliers)\n",
    "#             t_column = np.full((coords.shape[0], 1), t, dtype=int)\n",
    "#             corrected_indices_parts.append(np.hstack((coords, t_column)))\n",
    "\n",
    "#         filtered[..., t][outliers] = med[outliers]\n",
    "\n",
    "#     if return_stats:\n",
    "#         insufficient_counts_arr = np.array(insufficient_counts, dtype=int)\n",
    "#         if corrected_indices_parts:\n",
    "#             corrected_indices = np.vstack(corrected_indices_parts)\n",
    "#         else:\n",
    "#             corrected_indices = np.empty((0, 4), dtype=int)\n",
    "\n",
    "#         stats = {\n",
    "#             'insufficient_counts': insufficient_counts_arr,\n",
    "#             'insufficient_total': int(insufficient_counts_arr.sum()),\n",
    "#             'corrected_indices': corrected_indices,\n",
    "#             'corrected_total': int(corrected_indices.shape[0]),\n",
    "#         }\n",
    "#         return filtered, stats\n",
    "\n",
    "#     return filtered\n",
    "\n",
    "# beta_volume_filter, hampel_stats = hampel_filter_image(clean_active_volume, window_size=5, threshold_factor=3, return_stats=True)\n",
    "# print('Insufficient neighbours per frame:', hampel_stats['insufficient_counts'], flush=True)\n",
    "# print('Total voxels with <3 neighbours:', hampel_stats['insufficient_total'], flush=True)\n",
    "# print('Total corrected voxels:', hampel_stats['corrected_total'], flush=True)\n",
    "\n",
    "# beta_volume_filter = beta_volume_filter[~np.all(np.isnan(beta_volume_filter), axis=-1)]\n",
    "# np.save(f'cleaned_beta_volume_sub{sub}_ses{ses}_run{run}.npy', beta_volume_filter)\n"
   ]
  },
  {
   "cell_type": "markdown",
   "metadata": {},
   "source": [
    "Load the filtered beta values"
   ]
  },
  {
   "cell_type": "code",
   "execution_count": 10,
   "metadata": {},
   "outputs": [],
   "source": [
    "beta_valume_clean_2d = np.load(f'cleaned_beta_volume_sub{sub}_ses{ses}_run{run}.npy')\n",
    "mask_2d = np.load(\"mask_all_nan_sub04_ses1_run1.npy\")\n",
    "\n",
    "\n",
    "active_flat_idx = np.ravel_multi_index(active_coords, clean_active_volume.shape[:3])\n",
    "active_keep_mask = ~mask_2d[active_flat_idx]\n",
    "clean_active_bold = clean_active_bold[active_keep_mask]"
   ]
  },
  {
   "cell_type": "markdown",
   "metadata": {},
   "source": [
    "Load Behaviour"
   ]
  },
  {
   "cell_type": "code",
   "execution_count": 11,
   "metadata": {},
   "outputs": [],
   "source": [
    "def load_behavior_metrics(path, run):\n",
    "    behav_data = loadmat(path)\n",
    "    behav_metrics = behav_data[\"behav_metrics\"]\n",
    "    behav_block = np.stack(behav_metrics[0], axis=0)\n",
    "    _, _, num_metrics = behav_block.shape\n",
    "    behav_flat = behav_block.reshape(-1, num_metrics)\n",
    "    if run == 1:\n",
    "        behav_flat = behav_flat[:90, :6]\n",
    "    else:\n",
    "        behav_flat = behav_flat[90:180, :6]\n",
    "    return behav_flat\n",
    "\n",
    "behavior_matrix = load_behavior_metrics(behave_path, run)"
   ]
  },
  {
   "cell_type": "markdown",
   "metadata": {},
   "source": [
    "PCA (run main_pca.py)"
   ]
  },
  {
   "cell_type": "code",
   "execution_count": 24,
   "metadata": {},
   "outputs": [
    {
     "name": "stdout",
     "output_type": "stream",
     "text": [
      "(1, 314734)\n",
      "(1, 314734) (1, 314734)\n"
     ]
    }
   ],
   "source": [
    "# def prepare_for_empca(data):\n",
    "#     W = np.isfinite(data).astype(float)\n",
    "#     Y = np.where(np.isfinite(data), data, 0.0)\n",
    "\n",
    "#     row_weight = W.sum(axis=0, keepdims=True)\n",
    "#     print(row_weight.shape)\n",
    "#     mean = np.divide((Y * W).sum(axis=0, keepdims=True), row_weight, out=np.zeros_like(row_weight), where=row_weight > 0)\n",
    "#     centered = Y - mean\n",
    "\n",
    "#     var = np.divide((W * centered**2).sum(axis=0, keepdims=True), row_weight, out=np.zeros_like(row_weight), where=row_weight > 0)\n",
    "#     scale = np.sqrt(var)\n",
    "#     print(mean.shape, scale.shape)\n",
    "\n",
    "#     z = np.divide(centered, np.maximum(scale, 1e-6), out=np.zeros_like(centered), where=row_weight > 0)\n",
    "#     return z, W\n",
    "\n",
    "# trial_idx = np.arange(num_trials)\n",
    "# X_bold = clean_active_bold[:, trial_idx, :]\n",
    "# X_reshap = X_bold.reshape(X_bold.shape[0], -1)\n",
    "# Yc, W = prepare_for_empca(X_reshap.T)\n",
    "# W = W.T"
   ]
  },
  {
   "cell_type": "code",
   "execution_count": 12,
   "metadata": {},
   "outputs": [],
   "source": [
    "import numpy as np\n",
    "pca_model = np.load('empca_model_sub04_ses1_run1.npy', allow_pickle=True).item()\n",
    "bold_pca = pca_model.eigvec\n",
    "\n",
    "W_pca = np.linalg.pinv(pca_model.coeff)    \n",
    "beta_pca = W_pca @ np.nan_to_num(beta_valume_clean_2d)\n",
    "\n",
    "\n",
    "# pca_model.__dict__.keys()\n",
    "# for i in range(pca_model.nvec):\n",
    "#     print(pca_model.R2vec(i))"
   ]
  },
  {
   "cell_type": "code",
   "execution_count": 13,
   "metadata": {},
   "outputs": [],
   "source": [
    "def matrices_func(beta_pca, bold_pca, behave_mat, trial_indices=None, trial_len=trial_len, num_trials=90):\n",
    "    # reshape beta_pca, bold_pca, behave_pca if it is necessary\n",
    "    bold_pca_reshape = bold_pca.reshape(bold_pca.shape[0], num_trials, trial_len)\n",
    "\n",
    "    trial_idx = np.arange(num_trials) if trial_indices is None else np.unique(np.asarray(trial_indices, int).ravel())\n",
    "\n",
    "    # select trials\n",
    "    behavior_selected = behave_mat[trial_idx, 1]  #1/RT\n",
    "    beta_selected = beta_pca[:, trial_idx]\n",
    "\n",
    "    # ----- L_task (same idea as yours) -----\n",
    "    print(\"L_task...\", flush=True)\n",
    "    counts = np.count_nonzero(np.isfinite(beta_selected), axis=-1)\n",
    "    sums = np.nansum(np.abs(beta_selected), axis=-1, dtype=np.float32)\n",
    "    mean_beta = np.zeros(beta_selected.shape[0], dtype=np.float32)\n",
    "    m = counts > 0\n",
    "    mean_beta[m] = (sums[m] / counts[m]).astype(np.float32)\n",
    "\n",
    "    C_task = np.zeros_like(mean_beta, dtype=np.float32)\n",
    "    v = np.abs(mean_beta) > 0 # avoid division by zero\n",
    "    C_task[v] = (1.0 / mean_beta[v]).astype(np.float32)\n",
    "\n",
    "    # ----- L_var_bold: variance of trial differences, as sparse diagonal -----\n",
    "    print(\"L_var...\", flush=True)\n",
    "    C_bold = np.zeros((bold_pca_reshape.shape[0], bold_pca_reshape.shape[0]), dtype=np.float32)\n",
    "\n",
    "    for i in range(num_trials-1):\n",
    "        x1 = bold_pca_reshape[:, i, :]\n",
    "        x2 = bold_pca_reshape[:, i+1, :]\n",
    "        C_bold += (x1-x2) @ (x1-x2).T\n",
    "    C_bold /= (num_trials - 1)\n",
    "\n",
    "    # ----- L_var_beta: variance of trial differences, as sparse diagonal -----\n",
    "    print(\"L_var...\", flush=True)\n",
    "    C_beta = np.zeros((beta_selected.shape[0], beta_selected.shape[0]), dtype=np.float32)\n",
    "    for i in range(num_trials-1):\n",
    "        x1 = beta_selected[:, i]\n",
    "        x2 = beta_selected[:, i+1]\n",
    "        diff = x1 - x2\n",
    "        C_beta += np.outer(diff, diff)  \n",
    "    C_beta /= (num_trials - 1)\n",
    "\n",
    "    return C_task, C_bold, C_beta, behavior_selected, beta_selected"
   ]
  },
  {
   "cell_type": "code",
   "execution_count": 14,
   "metadata": {},
   "outputs": [
    {
     "name": "stdout",
     "output_type": "stream",
     "text": [
      "L_task...\n",
      "L_var...\n",
      "L_var...\n",
      "(700, 314734)\n"
     ]
    }
   ],
   "source": [
    "C_task, C_bold, C_beta, X_behave, X_beta = matrices_func(beta_pca, bold_pca, behavior_matrix, trial_indices=None, trial_len=trial_len, num_trials=90)\n",
    "print(W_pca.shape)"
   ]
  },
  {
   "cell_type": "code",
   "execution_count": 17,
   "metadata": {},
   "outputs": [
    {
     "name": "stdout",
     "output_type": "stream",
     "text": [
      "Installed solvers: ['CLARABEL', 'MOSEK', 'OSQP', 'SCIPY', 'SCS']\n"
     ]
    }
   ],
   "source": [
    "import os, sys\n",
    "from pathlib import Path\n",
    "\n",
    "MOSEK_HOME = Path.home() / \"mosek\"                 # adjust if needed\n",
    "MOSEK_VER = \"10.2\"                                 # update if you have another version\n",
    "MOSEK_PY = MOSEK_HOME / f\"{MOSEK_VER}/tools/platform/linux64x86/python/3\"\n",
    "MOSEK_LIB = MOSEK_HOME / f\"{MOSEK_VER}/tools/platform/linux64x86/bin\"\n",
    "\n",
    "if MOSEK_PY.exists() and str(MOSEK_PY) not in sys.path:\n",
    "    sys.path.insert(0, str(MOSEK_PY))\n",
    "os.environ.setdefault(\"MOSEKLM_LICENSE_FILE\", str(MOSEK_HOME / \"mosek.lic\"))\n",
    "os.environ[\"LD_LIBRARY_PATH\"] = f\"{MOSEK_LIB}:{os.environ.get('LD_LIBRARY_PATH','')}\"\n",
    "\n",
    "import importlib\n",
    "import cvxpy as cp\n",
    "from cvxpy.reductions.solvers import defines as slv_def\n",
    "importlib.reload(slv_def)   # ensure CVXPY re-scans optional solvers\n",
    "\n",
    "print(\"Installed solvers:\", cp.installed_solvers())\n"
   ]
  },
  {
   "cell_type": "code",
   "execution_count": 19,
   "metadata": {},
   "outputs": [
    {
     "ename": "Error",
     "evalue": "rescode.err_invalid_aij(1473): The value of the A matrix element in constraint '' (1) for variable '' (701) is invalid.\n",
     "output_type": "error",
     "traceback": [
      "\u001b[0;31m---------------------------------------------------------------------------\u001b[0m",
      "\u001b[0;31mError\u001b[0m                                     Traceback (most recent call last)",
      "\u001b[0;32m/tmp/ipykernel_10979/2584669041.py\u001b[0m in \u001b[0;36m?\u001b[0;34m()\u001b[0m\n\u001b[1;32m     34\u001b[0m \u001b[0mproblem\u001b[0m \u001b[0;34m=\u001b[0m \u001b[0mcp\u001b[0m\u001b[0;34m.\u001b[0m\u001b[0mProblem\u001b[0m\u001b[0;34m(\u001b[0m\u001b[0mobjective\u001b[0m\u001b[0;34m,\u001b[0m \u001b[0mconstraints\u001b[0m\u001b[0;34m)\u001b[0m\u001b[0;34m\u001b[0m\u001b[0;34m\u001b[0m\u001b[0m\n\u001b[1;32m     35\u001b[0m \u001b[0;34m\u001b[0m\u001b[0m\n\u001b[1;32m     36\u001b[0m \u001b[0;32mtry\u001b[0m\u001b[0;34m:\u001b[0m\u001b[0;34m\u001b[0m\u001b[0;34m\u001b[0m\u001b[0m\n\u001b[1;32m     37\u001b[0m     \u001b[0mproblem\u001b[0m\u001b[0;34m.\u001b[0m\u001b[0msolve\u001b[0m\u001b[0;34m(\u001b[0m\u001b[0msolver\u001b[0m\u001b[0;34m=\u001b[0m\u001b[0msolver_const\u001b[0m\u001b[0;34m,\u001b[0m \u001b[0mwarm_start\u001b[0m\u001b[0;34m=\u001b[0m\u001b[0;32mTrue\u001b[0m\u001b[0;34m)\u001b[0m\u001b[0;34m\u001b[0m\u001b[0;34m\u001b[0m\u001b[0m\n\u001b[0;32m---> 38\u001b[0;31m \u001b[0;32mexcept\u001b[0m \u001b[0mcp\u001b[0m\u001b[0;34m.\u001b[0m\u001b[0merror\u001b[0m\u001b[0;34m.\u001b[0m\u001b[0mSolverError\u001b[0m \u001b[0;32mas\u001b[0m \u001b[0mexc\u001b[0m\u001b[0;34m:\u001b[0m\u001b[0;34m\u001b[0m\u001b[0;34m\u001b[0m\u001b[0m\n\u001b[0m\u001b[1;32m     39\u001b[0m     \u001b[0;32mraise\u001b[0m \u001b[0mRuntimeError\u001b[0m\u001b[0;34m(\u001b[0m\u001b[0;34mf\"Solver '{solver_name}' failed: {exc}\"\u001b[0m\u001b[0;34m)\u001b[0m \u001b[0;32mfrom\u001b[0m \u001b[0mexc\u001b[0m\u001b[0;34m\u001b[0m\u001b[0;34m\u001b[0m\u001b[0m\n\u001b[1;32m     40\u001b[0m \u001b[0;34m\u001b[0m\u001b[0m\n\u001b[1;32m     41\u001b[0m \u001b[0;32mif\u001b[0m \u001b[0mw_var\u001b[0m\u001b[0;34m.\u001b[0m\u001b[0mvalue\u001b[0m \u001b[0;32mis\u001b[0m \u001b[0;32mNone\u001b[0m\u001b[0;34m:\u001b[0m\u001b[0;34m\u001b[0m\u001b[0;34m\u001b[0m\u001b[0m\n",
      "\u001b[0;32m~/.venvs/workspace/lib/python3.10/site-packages/cvxpy/problems/problem.py\u001b[0m in \u001b[0;36m?\u001b[0;34m(self, *args, **kwargs)\u001b[0m\n\u001b[1;32m    605\u001b[0m             \u001b[0;32mif\u001b[0m \u001b[0msolver\u001b[0m \u001b[0;32mis\u001b[0m \u001b[0;32mnot\u001b[0m \u001b[0;32mNone\u001b[0m\u001b[0;34m:\u001b[0m\u001b[0;34m\u001b[0m\u001b[0;34m\u001b[0m\u001b[0m\n\u001b[1;32m    606\u001b[0m                 raise ValueError(\n\u001b[1;32m    607\u001b[0m                     \"Cannot specify both 'solver' and 'solver_path'. Please choose one.\")\n\u001b[1;32m    608\u001b[0m             \u001b[0;32mreturn\u001b[0m \u001b[0mself\u001b[0m\u001b[0;34m.\u001b[0m\u001b[0m_solve_solver_path\u001b[0m\u001b[0;34m(\u001b[0m\u001b[0msolve_func\u001b[0m\u001b[0;34m,\u001b[0m\u001b[0msolver_path\u001b[0m\u001b[0;34m,\u001b[0m \u001b[0margs\u001b[0m\u001b[0;34m,\u001b[0m \u001b[0mkwargs\u001b[0m\u001b[0;34m)\u001b[0m\u001b[0;34m\u001b[0m\u001b[0;34m\u001b[0m\u001b[0m\n\u001b[0;32m--> 609\u001b[0;31m         \u001b[0;32mreturn\u001b[0m \u001b[0msolve_func\u001b[0m\u001b[0;34m(\u001b[0m\u001b[0mself\u001b[0m\u001b[0;34m,\u001b[0m \u001b[0;34m*\u001b[0m\u001b[0margs\u001b[0m\u001b[0;34m,\u001b[0m \u001b[0;34m**\u001b[0m\u001b[0mkwargs\u001b[0m\u001b[0;34m)\u001b[0m\u001b[0;34m\u001b[0m\u001b[0;34m\u001b[0m\u001b[0m\n\u001b[0m",
      "\u001b[0;32m~/.venvs/workspace/lib/python3.10/site-packages/cvxpy/problems/problem.py\u001b[0m in \u001b[0;36m?\u001b[0;34m(self, solver, warm_start, verbose, bibtex, gp, qcp, requires_grad, enforce_dpp, ignore_dpp, canon_backend, **kwargs)\u001b[0m\n\u001b[1;32m   1214\u001b[0m                 \u001b[0mprint\u001b[0m\u001b[0;34m(\u001b[0m\u001b[0mCITATION_DICT\u001b[0m\u001b[0;34m[\u001b[0m\u001b[0;34m\"DGP\"\u001b[0m\u001b[0;34m]\u001b[0m\u001b[0;34m)\u001b[0m\u001b[0;34m\u001b[0m\u001b[0;34m\u001b[0m\u001b[0m\n\u001b[1;32m   1215\u001b[0m \u001b[0;34m\u001b[0m\u001b[0m\n\u001b[1;32m   1216\u001b[0m             \u001b[0;31m# Cite solver.\u001b[0m\u001b[0;34m\u001b[0m\u001b[0;34m\u001b[0m\u001b[0m\n\u001b[1;32m   1217\u001b[0m             \u001b[0mprint\u001b[0m\u001b[0;34m(\u001b[0m\u001b[0msolving_chain\u001b[0m\u001b[0;34m.\u001b[0m\u001b[0mreductions\u001b[0m\u001b[0;34m[\u001b[0m\u001b[0;34m-\u001b[0m\u001b[0;36m1\u001b[0m\u001b[0;34m]\u001b[0m\u001b[0;34m.\u001b[0m\u001b[0mcite\u001b[0m\u001b[0;34m(\u001b[0m\u001b[0mdata\u001b[0m\u001b[0;34m)\u001b[0m\u001b[0;34m)\u001b[0m\u001b[0;34m\u001b[0m\u001b[0;34m\u001b[0m\u001b[0m\n\u001b[0;32m-> 1218\u001b[0;31m         solution = solving_chain.solve_via_data(\n\u001b[0m\u001b[1;32m   1219\u001b[0m             self, data, warm_start, solver_verbose, kwargs)\n\u001b[1;32m   1220\u001b[0m         \u001b[0mend\u001b[0m \u001b[0;34m=\u001b[0m \u001b[0mtime\u001b[0m\u001b[0;34m.\u001b[0m\u001b[0mtime\u001b[0m\u001b[0;34m(\u001b[0m\u001b[0;34m)\u001b[0m\u001b[0;34m\u001b[0m\u001b[0;34m\u001b[0m\u001b[0m\n\u001b[1;32m   1221\u001b[0m         \u001b[0mself\u001b[0m\u001b[0;34m.\u001b[0m\u001b[0m_solve_time\u001b[0m \u001b[0;34m=\u001b[0m \u001b[0mend\u001b[0m \u001b[0;34m-\u001b[0m \u001b[0mstart\u001b[0m\u001b[0;34m\u001b[0m\u001b[0;34m\u001b[0m\u001b[0m\n",
      "\u001b[0;32m~/.venvs/workspace/lib/python3.10/site-packages/cvxpy/reductions/solvers/solving_chain.py\u001b[0m in \u001b[0;36m?\u001b[0;34m(self, problem, data, warm_start, verbose, solver_opts)\u001b[0m\n\u001b[1;32m    472\u001b[0m         \u001b[0mraw\u001b[0m \u001b[0msolver\u001b[0m \u001b[0msolution\u001b[0m\u001b[0;34m\u001b[0m\u001b[0;34m\u001b[0m\u001b[0m\n\u001b[1;32m    473\u001b[0m             \u001b[0mThe\u001b[0m \u001b[0minformation\u001b[0m \u001b[0mreturned\u001b[0m \u001b[0mby\u001b[0m \u001b[0mthe\u001b[0m \u001b[0msolver\u001b[0m\u001b[0;34m;\u001b[0m \u001b[0mthis\u001b[0m \u001b[0;32mis\u001b[0m \u001b[0;32mnot\u001b[0m \u001b[0mnecessarily\u001b[0m\u001b[0;34m\u001b[0m\u001b[0;34m\u001b[0m\u001b[0m\n\u001b[1;32m    474\u001b[0m             \u001b[0ma\u001b[0m \u001b[0mSolution\u001b[0m \u001b[0mobject\u001b[0m\u001b[0;34m.\u001b[0m\u001b[0;34m\u001b[0m\u001b[0;34m\u001b[0m\u001b[0m\n\u001b[1;32m    475\u001b[0m         \"\"\"\n\u001b[0;32m--> 476\u001b[0;31m         return self.solver.solve_via_data(data, warm_start, verbose,\n\u001b[0m\u001b[1;32m    477\u001b[0m                                           solver_opts, problem._solver_cache)\n",
      "\u001b[0;32m~/.venvs/workspace/lib/python3.10/site-packages/cvxpy/reductions/solvers/conic_solvers/mosek_conif.py\u001b[0m in \u001b[0;36m?\u001b[0;34m(self, data, warm_start, verbose, solver_opts, solver_cache)\u001b[0m\n\u001b[1;32m    283\u001b[0m                     \u001b[0;32mreturn\u001b[0m \u001b[0;34m{\u001b[0m\u001b[0;34m'sol'\u001b[0m\u001b[0;34m:\u001b[0m \u001b[0msol\u001b[0m\u001b[0;34m}\u001b[0m\u001b[0;34m\u001b[0m\u001b[0;34m\u001b[0m\u001b[0m\n\u001b[1;32m    284\u001b[0m             \u001b[0;32melse\u001b[0m\u001b[0;34m:\u001b[0m\u001b[0;34m\u001b[0m\u001b[0;34m\u001b[0m\u001b[0m\n\u001b[1;32m    285\u001b[0m                 \u001b[0mtask\u001b[0m \u001b[0;34m=\u001b[0m \u001b[0mmosek\u001b[0m\u001b[0;34m.\u001b[0m\u001b[0mTask\u001b[0m\u001b[0;34m(\u001b[0m\u001b[0;34m)\u001b[0m\u001b[0;34m\u001b[0m\u001b[0;34m\u001b[0m\u001b[0m\n\u001b[1;32m    286\u001b[0m                 \u001b[0msolver_opts\u001b[0m \u001b[0;34m=\u001b[0m \u001b[0mMOSEK\u001b[0m\u001b[0;34m.\u001b[0m\u001b[0mhandle_options\u001b[0m\u001b[0;34m(\u001b[0m\u001b[0mtask\u001b[0m\u001b[0;34m,\u001b[0m \u001b[0mverbose\u001b[0m\u001b[0;34m,\u001b[0m \u001b[0msolver_opts\u001b[0m\u001b[0;34m)\u001b[0m\u001b[0;34m\u001b[0m\u001b[0;34m\u001b[0m\u001b[0m\n\u001b[0;32m--> 287\u001b[0;31m                 \u001b[0mtask\u001b[0m \u001b[0;34m=\u001b[0m \u001b[0mMOSEK\u001b[0m\u001b[0;34m.\u001b[0m\u001b[0m_build_dualized_task\u001b[0m\u001b[0;34m(\u001b[0m\u001b[0mtask\u001b[0m\u001b[0;34m,\u001b[0m \u001b[0mdata\u001b[0m\u001b[0;34m)\u001b[0m\u001b[0;34m\u001b[0m\u001b[0;34m\u001b[0m\u001b[0m\n\u001b[0m\u001b[1;32m    288\u001b[0m         \u001b[0;32melse\u001b[0m\u001b[0;34m:\u001b[0m\u001b[0;34m\u001b[0m\u001b[0;34m\u001b[0m\u001b[0m\n\u001b[1;32m    289\u001b[0m             \u001b[0;32mif\u001b[0m \u001b[0mlen\u001b[0m\u001b[0;34m(\u001b[0m\u001b[0mdata\u001b[0m\u001b[0;34m[\u001b[0m\u001b[0ms\u001b[0m\u001b[0;34m.\u001b[0m\u001b[0mC\u001b[0m\u001b[0;34m]\u001b[0m\u001b[0;34m)\u001b[0m \u001b[0;34m==\u001b[0m \u001b[0;36m0\u001b[0m\u001b[0;34m:\u001b[0m\u001b[0;34m\u001b[0m\u001b[0;34m\u001b[0m\u001b[0m\n\u001b[1;32m    290\u001b[0m                 \u001b[0msol\u001b[0m \u001b[0;34m=\u001b[0m \u001b[0mSolution\u001b[0m\u001b[0;34m(\u001b[0m\u001b[0ms\u001b[0m\u001b[0;34m.\u001b[0m\u001b[0mOPTIMAL\u001b[0m\u001b[0;34m,\u001b[0m \u001b[0;36m0.0\u001b[0m\u001b[0;34m,\u001b[0m \u001b[0mdict\u001b[0m\u001b[0;34m(\u001b[0m\u001b[0;34m)\u001b[0m\u001b[0;34m,\u001b[0m \u001b[0mdict\u001b[0m\u001b[0;34m(\u001b[0m\u001b[0;34m)\u001b[0m\u001b[0;34m,\u001b[0m \u001b[0mdict\u001b[0m\u001b[0;34m(\u001b[0m\u001b[0;34m)\u001b[0m\u001b[0;34m)\u001b[0m\u001b[0;34m\u001b[0m\u001b[0;34m\u001b[0m\u001b[0m\n",
      "\u001b[0;32m~/.venvs/workspace/lib/python3.10/site-packages/cvxpy/reductions/solvers/conic_solvers/mosek_conif.py\u001b[0m in \u001b[0;36m?\u001b[0;34m(task, data)\u001b[0m\n\u001b[1;32m    346\u001b[0m         \u001b[0mtask\u001b[0m\u001b[0;34m.\u001b[0m\u001b[0mputclist\u001b[0m\u001b[0;34m(\u001b[0m\u001b[0mnp\u001b[0m\u001b[0;34m.\u001b[0m\u001b[0marange\u001b[0m\u001b[0;34m(\u001b[0m\u001b[0mc\u001b[0m\u001b[0;34m.\u001b[0m\u001b[0msize\u001b[0m\u001b[0;34m,\u001b[0m \u001b[0mdtype\u001b[0m\u001b[0;34m=\u001b[0m\u001b[0mnp\u001b[0m\u001b[0;34m.\u001b[0m\u001b[0mint32\u001b[0m\u001b[0;34m)\u001b[0m\u001b[0;34m,\u001b[0m \u001b[0mc\u001b[0m\u001b[0;34m)\u001b[0m\u001b[0;34m\u001b[0m\u001b[0;34m\u001b[0m\u001b[0m\n\u001b[1;32m    347\u001b[0m         \u001b[0mtask\u001b[0m\u001b[0;34m.\u001b[0m\u001b[0mputobjsense\u001b[0m\u001b[0;34m(\u001b[0m\u001b[0mmosek\u001b[0m\u001b[0;34m.\u001b[0m\u001b[0mobjsense\u001b[0m\u001b[0;34m.\u001b[0m\u001b[0mmaximize\u001b[0m\u001b[0;34m)\u001b[0m\u001b[0;34m\u001b[0m\u001b[0;34m\u001b[0m\u001b[0m\n\u001b[1;32m    348\u001b[0m         \u001b[0;31m# equality constraints\u001b[0m\u001b[0;34m\u001b[0m\u001b[0;34m\u001b[0m\u001b[0m\n\u001b[1;32m    349\u001b[0m         \u001b[0mrows\u001b[0m\u001b[0;34m,\u001b[0m \u001b[0mcols\u001b[0m\u001b[0;34m,\u001b[0m \u001b[0mvals\u001b[0m \u001b[0;34m=\u001b[0m \u001b[0msp\u001b[0m\u001b[0;34m.\u001b[0m\u001b[0msparse\u001b[0m\u001b[0;34m.\u001b[0m\u001b[0mfind\u001b[0m\u001b[0;34m(\u001b[0m\u001b[0mA\u001b[0m\u001b[0;34m)\u001b[0m\u001b[0;34m\u001b[0m\u001b[0;34m\u001b[0m\u001b[0m\n\u001b[0;32m--> 350\u001b[0;31m         \u001b[0mtask\u001b[0m\u001b[0;34m.\u001b[0m\u001b[0mputaijlist\u001b[0m\u001b[0;34m(\u001b[0m\u001b[0mrows\u001b[0m\u001b[0;34m.\u001b[0m\u001b[0mtolist\u001b[0m\u001b[0;34m(\u001b[0m\u001b[0;34m)\u001b[0m\u001b[0;34m,\u001b[0m \u001b[0mcols\u001b[0m\u001b[0;34m.\u001b[0m\u001b[0mtolist\u001b[0m\u001b[0;34m(\u001b[0m\u001b[0;34m)\u001b[0m\u001b[0;34m,\u001b[0m \u001b[0mvals\u001b[0m\u001b[0;34m.\u001b[0m\u001b[0mtolist\u001b[0m\u001b[0;34m(\u001b[0m\u001b[0;34m)\u001b[0m\u001b[0;34m)\u001b[0m\u001b[0;34m\u001b[0m\u001b[0;34m\u001b[0m\u001b[0m\n\u001b[0m\u001b[1;32m    351\u001b[0m         \u001b[0mtask\u001b[0m\u001b[0;34m.\u001b[0m\u001b[0mputconboundlist\u001b[0m\u001b[0;34m(\u001b[0m\u001b[0mnp\u001b[0m\u001b[0;34m.\u001b[0m\u001b[0marange\u001b[0m\u001b[0;34m(\u001b[0m\u001b[0mn\u001b[0m\u001b[0;34m,\u001b[0m \u001b[0mdtype\u001b[0m\u001b[0;34m=\u001b[0m\u001b[0mnp\u001b[0m\u001b[0;34m.\u001b[0m\u001b[0mint32\u001b[0m\u001b[0;34m)\u001b[0m\u001b[0;34m,\u001b[0m \u001b[0;34m[\u001b[0m\u001b[0mmosek\u001b[0m\u001b[0;34m.\u001b[0m\u001b[0mboundkey\u001b[0m\u001b[0;34m.\u001b[0m\u001b[0mfx\u001b[0m\u001b[0;34m]\u001b[0m \u001b[0;34m*\u001b[0m \u001b[0mn\u001b[0m\u001b[0;34m,\u001b[0m \u001b[0mb\u001b[0m\u001b[0;34m,\u001b[0m \u001b[0mb\u001b[0m\u001b[0;34m)\u001b[0m\u001b[0;34m\u001b[0m\u001b[0;34m\u001b[0m\u001b[0m\n\u001b[1;32m    352\u001b[0m         \u001b[0;31m# conic constraints\u001b[0m\u001b[0;34m\u001b[0m\u001b[0;34m\u001b[0m\u001b[0m\n\u001b[1;32m    353\u001b[0m         \u001b[0midx\u001b[0m \u001b[0;34m=\u001b[0m \u001b[0mK\u001b[0m\u001b[0;34m[\u001b[0m\u001b[0ma2d\u001b[0m\u001b[0;34m.\u001b[0m\u001b[0mFREE\u001b[0m\u001b[0;34m]\u001b[0m\u001b[0;34m\u001b[0m\u001b[0;34m\u001b[0m\u001b[0m\n",
      "\u001b[0;32m~/.venvs/workspace/lib/python3.10/site-packages/mosek/__init__.py\u001b[0m in \u001b[0;36m?\u001b[0;34m(self, *args, **kwds)\u001b[0m\n\u001b[1;32m  11611\u001b[0m         \u001b[0;34m[\u001b[0m\u001b[0msubi\u001b[0m \u001b[0;34m:\u001b[0m \u001b[0marray\u001b[0m\u001b[0;34m(\u001b[0m\u001b[0mint32\u001b[0m\u001b[0;34m)\u001b[0m\u001b[0;34m]\u001b[0m  \u001b[0mConstraint\u001b[0m \u001b[0;34m(\u001b[0m\u001b[0mrow\u001b[0m\u001b[0;34m)\u001b[0m \u001b[0mindices\u001b[0m\u001b[0;34m.\u001b[0m\u001b[0;34m\u001b[0m\u001b[0;34m\u001b[0m\u001b[0m\n\u001b[1;32m  11612\u001b[0m         \u001b[0;34m[\u001b[0m\u001b[0msubj\u001b[0m \u001b[0;34m:\u001b[0m \u001b[0marray\u001b[0m\u001b[0;34m(\u001b[0m\u001b[0mint32\u001b[0m\u001b[0;34m)\u001b[0m\u001b[0;34m]\u001b[0m  \u001b[0mVariable\u001b[0m \u001b[0;34m(\u001b[0m\u001b[0mcolumn\u001b[0m\u001b[0;34m)\u001b[0m \u001b[0mindices\u001b[0m\u001b[0;34m.\u001b[0m\u001b[0;34m\u001b[0m\u001b[0;34m\u001b[0m\u001b[0m\n\u001b[1;32m  11613\u001b[0m         \u001b[0;34m[\u001b[0m\u001b[0mvalij\u001b[0m \u001b[0;34m:\u001b[0m \u001b[0marray\u001b[0m\u001b[0;34m(\u001b[0m\u001b[0mfloat64\u001b[0m\u001b[0;34m)\u001b[0m\u001b[0;34m]\u001b[0m  \u001b[0mNew\u001b[0m \u001b[0mcoefficient\u001b[0m \u001b[0mvalues\u001b[0m\u001b[0;34m.\u001b[0m\u001b[0;34m\u001b[0m\u001b[0;34m\u001b[0m\u001b[0m\n\u001b[1;32m  11614\u001b[0m       \"\"\"\n\u001b[0;32m> 11615\u001b[0;31m       \u001b[0;32mreturn\u001b[0m \u001b[0mself\u001b[0m\u001b[0;34m.\u001b[0m\u001b[0m__putaijlist64_OOO_4\u001b[0m\u001b[0;34m(\u001b[0m\u001b[0;34m*\u001b[0m\u001b[0margs\u001b[0m\u001b[0;34m,\u001b[0m\u001b[0;34m**\u001b[0m\u001b[0mkwds\u001b[0m\u001b[0;34m)\u001b[0m\u001b[0;34m\u001b[0m\u001b[0;34m\u001b[0m\u001b[0m\n\u001b[0m",
      "\u001b[0;32m~/.venvs/workspace/lib/python3.10/site-packages/mosek/__init__.py\u001b[0m in \u001b[0;36m?\u001b[0;34m(self, subi, subj, valij)\u001b[0m\n\u001b[1;32m  11601\u001b[0m             \u001b[0mvalij_\u001b[0m \u001b[0;34m=\u001b[0m \u001b[0m_tmparray_valij\u001b[0m\u001b[0;34m\u001b[0m\u001b[0;34m\u001b[0m\u001b[0m\n\u001b[1;32m  11602\u001b[0m       \u001b[0m_res_putaijlist64\u001b[0m\u001b[0;34m,\u001b[0m\u001b[0m_retargs_putaijlist64\u001b[0m \u001b[0;34m=\u001b[0m \u001b[0mself\u001b[0m\u001b[0;34m.\u001b[0m\u001b[0m__obj\u001b[0m\u001b[0;34m.\u001b[0m\u001b[0mputaijlist64_OOO_4\u001b[0m\u001b[0;34m(\u001b[0m\u001b[0mmemview_subi\u001b[0m\u001b[0;34m,\u001b[0m\u001b[0mmemview_subj\u001b[0m\u001b[0;34m,\u001b[0m\u001b[0mmemview_valij\u001b[0m\u001b[0;34m)\u001b[0m\u001b[0;34m\u001b[0m\u001b[0;34m\u001b[0m\u001b[0m\n\u001b[1;32m  11603\u001b[0m       \u001b[0;32mif\u001b[0m \u001b[0m_res_putaijlist64\u001b[0m \u001b[0;34m!=\u001b[0m \u001b[0;36m0\u001b[0m\u001b[0;34m:\u001b[0m\u001b[0;34m\u001b[0m\u001b[0;34m\u001b[0m\u001b[0m\n\u001b[1;32m  11604\u001b[0m         \u001b[0m_\u001b[0m\u001b[0;34m,\u001b[0m\u001b[0m_msg_putaijlist64\u001b[0m \u001b[0;34m=\u001b[0m \u001b[0mself\u001b[0m\u001b[0;34m.\u001b[0m\u001b[0m__getlasterror\u001b[0m\u001b[0;34m(\u001b[0m\u001b[0m_res_putaijlist64\u001b[0m\u001b[0;34m)\u001b[0m\u001b[0;34m\u001b[0m\u001b[0;34m\u001b[0m\u001b[0m\n\u001b[0;32m> 11605\u001b[0;31m         \u001b[0;32mraise\u001b[0m \u001b[0mError\u001b[0m\u001b[0;34m(\u001b[0m\u001b[0mrescode\u001b[0m\u001b[0;34m(\u001b[0m\u001b[0m_res_putaijlist64\u001b[0m\u001b[0;34m)\u001b[0m\u001b[0;34m,\u001b[0m\u001b[0m_msg_putaijlist64\u001b[0m\u001b[0;34m)\u001b[0m\u001b[0;34m\u001b[0m\u001b[0;34m\u001b[0m\u001b[0m\n\u001b[0m",
      "\u001b[0;31mError\u001b[0m: rescode.err_invalid_aij(1473): The value of the A matrix element in constraint '' (1) for variable '' (701) is invalid.\n"
     ]
    }
   ],
   "source": [
    "rho=0.3\n",
    "alpha_bold=1.0\n",
    "alpha_beta=1.0\n",
    "alpha_task=1.0\n",
    "n_comp = X_beta.shape[0]\n",
    "regularization = 1e-6\n",
    "solver_name = \"MOSEK\"\n",
    "\n",
    "# ecnter data\n",
    "X_beta = X_beta - np.mean(X_beta, axis=1, keepdims=True)\n",
    "valid_beh = np.isfinite(X_behave)\n",
    "mean_beh = np.nanmean(X_behave[valid_beh])\n",
    "X_behave = X_behave - mean_beh\n",
    "behave_norm = np.linalg.norm(np.nan_to_num(X_behave))\n",
    "\n",
    "C_total = alpha_task * np.diag(C_task) + alpha_bold * C_bold + alpha_beta * C_beta\n",
    "C_total = 0.5 * (C_total + C_total.T)\n",
    "C_total += regularization * np.eye(n_comp, dtype=np.float64)\n",
    "\n",
    "solver_const = getattr(cp, solver_name, None)\n",
    "w_var = cp.Variable(n_comp)\n",
    "\n",
    "constraints = []\n",
    "constraints.append(w_var >= 0)\n",
    "constraints.append(cp.sum(w_var) == 1)\n",
    "\n",
    "numerator_vector = X_beta @ X_behave\n",
    "if np.linalg.norm(numerator_vector) < 1e-12:\n",
    "    raise ValueError(\"Beta/behaviour cross-term is zero; correlation constraint is infeasible.\")\n",
    "\n",
    "constraints.append(numerator_vector @ w_var >= rho * behave_norm * cp.norm(X_beta.T @ w_var, 2))\n",
    "\n",
    "objective = cp.Minimize(cp.quad_form(w_var, cp.psd_wrap(C_total)))\n",
    "problem = cp.Problem(objective, constraints)\n",
    "\n",
    "try:\n",
    "    problem.solve(solver=solver_const, warm_start=True)\n",
    "except cp.error.SolverError as exc:\n",
    "    raise RuntimeError(f\"Solver '{solver_name}' failed: {exc}\") from exc\n",
    "\n",
    "if w_var.value is None:\n",
    "    raise RuntimeError(f\"Optimisation failed with status '{problem.status}'.\")\n",
    "\n",
    "weights = np.array(w_var.value, dtype=np.float64).ravel()"
   ]
  },
  {
   "cell_type": "code",
   "execution_count": null,
   "metadata": {},
   "outputs": [],
   "source": [
    "preferred = [\"MOSEK\", \"GUROBI\", \"CLARABEL\", \"ECOS\", \"SCS\"]\n",
    "for s in preferred:\n",
    "    if s in cp.installed_solvers():\n",
    "        solver_name = s\n",
    "        break"
   ]
  },
  {
   "cell_type": "code",
   "execution_count": null,
   "metadata": {},
   "outputs": [],
   "source": [
    "# def build_cost_matrices_and_optimize(C_task, C_bold, C_beta, X_behave, X_beta, rho, alpha_bold, alpha_beta, alpha_task,\n",
    "#                                      regularization = 1e-6, solver_name = \"OSQP\", W_pca = None):\n",
    "#     n_comp = X_beta.shape[0]\n",
    "\n",
    "#     # Based on your input, correct this part\n",
    "#     X_beta = X_beta - np.mean(X_beta, axis=1, keepdims=True)\n",
    "#     valid_beh = np.isfinite(X_behave)\n",
    "#     mean_beh = np.nanmean(X_behave[valid_beh])\n",
    "#     X_behave = X_behave - mean_beh\n",
    "#     #####\n",
    "\n",
    "#     behave_norm = np.linalg.norm(X_behave)\n",
    "\n",
    "#     C_total = alpha_task * C_task + alpha_bold * C_bold + alpha_beta * C_beta\n",
    "#     C_total = 0.5 * (C_total + C_total.T)\n",
    "#     C_total += regularization * np.eye(n_features, dtype=np.float64)\n",
    "\n",
    "#     solver_const = getattr(cp, solver_name, None)\n",
    "#     w_var = cp.Variable(n_features)\n",
    "\n",
    "#     constraints = []\n",
    "#     constraints.append(w_var >= 0)\n",
    "#     constraints.append(cp.sum(w_var) == 1)\n",
    "\n",
    "#     numerator_vector = X_beta @ X_behave\n",
    "#     if np.linalg.norm(numerator_vector) < 1e-12:\n",
    "#         raise ValueError(\"Beta/behaviour cross-term is zero; correlation constraint is infeasible.\")\n",
    "\n",
    "#     constraints.append(numerator_vector @ w_var >= rho * behave_norm * cp.norm(X_beta.T @ w_var, 2))\n",
    "\n",
    "#     objective = cp.Minimize(cp.quad_form(w_var, cp.psd_wrap(C_total)))\n",
    "#     problem = cp.Problem(objective, constraints)\n",
    "\n",
    "#     try:\n",
    "#         problem.solve(solver=solver_const, warm_start=True)\n",
    "#     except cp.error.SolverError as exc:\n",
    "#         raise RuntimeError(f\"Solver '{solver_name}' failed: {exc}\") from exc\n",
    "\n",
    "#     if w_var.value is None:\n",
    "#         raise RuntimeError(f\"Optimisation failed with status '{problem.status}'.\")\n",
    "\n",
    "#     weights = np.array(w_var.value, dtype=np.float64).ravel()\n",
    "#     W_prime = None\n",
    "#     if W_pca is not None:\n",
    "#         if W_pca.shape[1] != n_features:\n",
    "#             raise ValueError(\"W_pca must have shape (n_voxels, n_features).\")\n",
    "#         W_prime = W_pca.T @ weights\n",
    "\n",
    "#     fitted_beta = X_beta.T @ weights\n",
    "#     fitted_norm = np.linalg.norm(fitted_beta)\n",
    "#     achieved_corr = 0.0\n",
    "#     if fitted_norm > 1e-10:\n",
    "#         achieved_corr = float((fitted_beta @ X_behave) / (fitted_norm * behave_norm))\n",
    "\n",
    "#     return {\n",
    "#         \"C_total\": C_total,\n",
    "#         \"X_behave\": X_behave,\n",
    "#         \"X_beta\": X_beta,\n",
    "#         \"weights\": weights,\n",
    "#         \"W_prime\": W_prime,\n",
    "#         \"status\": problem.status,\n",
    "#         \"objective\": problem.value,\n",
    "#         \"achieved_corr\": achieved_corr,\n",
    "#     }\n",
    "\n",
    "# # Example usage (commented out) once the relevant arrays have been prepared:\n",
    "# # voxel_idx = np.flatnonzero(active_keep_mask)\n",
    "# # W_empca = get_empca_projection(pca_model, voxel_indices=voxel_idx, n_components=100)\n",
    "# # C_task, C_bold, C_beta, X_behave, X_beta = matrices_func(\n",
    "# #     beta_pca, bold_pca, behavior_matrix, mask_2d, trial_indices=None\n",
    "# # )\n",
    "# # optimisation = build_cost_matrices_and_optimize(\n",
    "# #     C_task,\n",
    "# #     C_bold,\n",
    "# #     C_beta,\n",
    "# #     X_behave,\n",
    "# #     X_beta,\n",
    "# #     rho=0.3,\n",
    "#       #alpha_task=1.0,\n",
    "# #     alpha_bold=1.0,\n",
    "# #     alpha_beta=1.0,\n",
    "# #     W_pca=W_empca,\n",
    "# # )\n"
   ]
  },
  {
   "cell_type": "code",
   "execution_count": null,
   "metadata": {},
   "outputs": [],
   "source": []
  },
  {
   "cell_type": "code",
   "execution_count": null,
   "metadata": {},
   "outputs": [],
   "source": []
  },
  {
   "cell_type": "code",
   "execution_count": null,
   "metadata": {},
   "outputs": [],
   "source": []
  },
  {
   "cell_type": "code",
   "execution_count": null,
   "metadata": {},
   "outputs": [],
   "source": []
  },
  {
   "cell_type": "code",
   "execution_count": null,
   "metadata": {},
   "outputs": [],
   "source": []
  },
  {
   "cell_type": "code",
   "execution_count": null,
   "metadata": {},
   "outputs": [],
   "source": []
  },
  {
   "cell_type": "code",
   "execution_count": null,
   "metadata": {},
   "outputs": [],
   "source": []
  }
 ],
 "metadata": {
  "language_info": {
   "name": "python"
  }
 },
 "nbformat": 4,
 "nbformat_minor": 2
}
